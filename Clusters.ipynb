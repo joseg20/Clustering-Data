{
  "cells": [
    {
      "cell_type": "markdown",
      "metadata": {
        "id": "2WwvTvS0vRp5"
      },
      "source": [
        "\n",
        "\n",
        "---\n",
        "\n",
        "\n",
        "### Descripcion del proyecto \n",
        "El dataset con el que se debe trabajar el examen se llama “Clientes” y cuenta con información relacionada a los clientes de cierta empresa. El objetivo de la tarea es generar una segmentación de los clientes (Clustering). El dataset cuenta con 5 atributos:\n",
        "\n",
        "\n",
        "* CustomerID: Identificador del usuario\n",
        "* Gender: Género\n",
        "* Age: Edad\n",
        "* Annual Income (k$): Ingresos anuales del cliente\n",
        "* Spending Score (1-100): Índice de gastos, va desde el 1 al 100, donde 100 es mayor.\n",
        "*   Elemento de lista\n",
        "\n",
        "\n",
        "\n",
        "\n",
        "\n",
        "\n",
        "\n",
        "\n",
        "\n",
        "\n",
        "\n",
        "\n",
        "\n",
        "\n",
        "\n"
      ]
    },
    {
      "cell_type": "markdown",
      "metadata": {
        "id": "_WOsyKbF44wM"
      },
      "source": [
        "## 1. (40 %) Desarrollar un análisis exploratorio al dataset de clientes:"
      ]
    },
    {
      "cell_type": "code",
      "execution_count": null,
      "metadata": {
        "id": "tsVTOxKgu7qb"
      },
      "outputs": [],
      "source": [
        "# Importamos las librerias que se emplearan en el ejercicio:\n",
        "import plotly.express as px # Libreria la cual nos permite graficar en 3 dimensiones y seccionar los puntos de los graficos en torno a otra variable\n",
        "# Igualmente la libreria plotly, nos deja mover el grafico de manera que podamos analizarlo de mejor manera y ver entre 2 dimensiones dependiendo de como lo veamos\n",
        "# Otra cosa que resaltar de esta libreria es que si escoges un punto te dicen los valores que toma el punto de nuestro DataFrame exactos\n",
        "from sklearn.cluster import KMeans # Libreria la cual nos provee algoritmos de Clustering\n",
        "import pandas as pd # Libreria que importamos con el fin de procesar los archivos de texto\n",
        "from sklearn.preprocessing import MinMaxScaler # Libreria que transforma las entidades de nuestro DataFrame escalando cada entidad a un rango determinado (Normalizar)\n",
        "from matplotlib import pyplot as plt # Importamos matplotlib ya que esta nos deja visualizar varios tipos de graficos\n",
        "%matplotlib inline \n",
        "# Instruccion para que las graficas se incluyan en la pagina y no aparezcan en una ventana aparte\n",
        "import seaborn as sns # Permite visualizaciones mas interesantes, mezcla funciones con numpy\n",
        "import numpy as np # Importamos las funciones aritmeticas y algebraicas\n",
        "pd.options.display.max_rows=150 #Opcion para limitar las filas que se muestran "
      ]
    },
    {
      "cell_type": "markdown",
      "metadata": {
        "id": "a9ukMhaAvAZY"
      },
      "source": [
        "### A. Entendimiento, descripción y relación de las variables"
      ]
    },
    {
      "cell_type": "code",
      "execution_count": null,
      "metadata": {
        "id": "kDroiMw40VQl"
      },
      "outputs": [],
      "source": [
        "DataFrame  = pd.read_csv('Clientes.csv') # Llamamos a nuestro DataFrame a través de la libreria pandas con la funcion .read_csv, ya que csv será el tipo de archivo que leeremos"
      ]
    },
    {
      "cell_type": "code",
      "execution_count": null,
      "metadata": {
        "colab": {
          "base_uri": "https://localhost:8080/",
          "height": 196
        },
        "id": "tGy2GkEE0_J5",
        "outputId": "587edeac-758b-407e-85de-9523cce8d227"
      },
      "outputs": [
        {
          "data": {
            "text/html": [
              "<div>\n",
              "<style scoped>\n",
              "    .dataframe tbody tr th:only-of-type {\n",
              "        vertical-align: middle;\n",
              "    }\n",
              "\n",
              "    .dataframe tbody tr th {\n",
              "        vertical-align: top;\n",
              "    }\n",
              "\n",
              "    .dataframe thead th {\n",
              "        text-align: right;\n",
              "    }\n",
              "</style>\n",
              "<table border=\"1\" class=\"dataframe\">\n",
              "  <thead>\n",
              "    <tr style=\"text-align: right;\">\n",
              "      <th></th>\n",
              "      <th>CustomerID</th>\n",
              "      <th>Gender</th>\n",
              "      <th>Age</th>\n",
              "      <th>Annual Income (k$)</th>\n",
              "      <th>Spending Score (1-100)</th>\n",
              "    </tr>\n",
              "  </thead>\n",
              "  <tbody>\n",
              "    <tr>\n",
              "      <th>0</th>\n",
              "      <td>1</td>\n",
              "      <td>Male</td>\n",
              "      <td>19</td>\n",
              "      <td>15</td>\n",
              "      <td>39</td>\n",
              "    </tr>\n",
              "    <tr>\n",
              "      <th>1</th>\n",
              "      <td>2</td>\n",
              "      <td>Male</td>\n",
              "      <td>21</td>\n",
              "      <td>15</td>\n",
              "      <td>81</td>\n",
              "    </tr>\n",
              "    <tr>\n",
              "      <th>2</th>\n",
              "      <td>3</td>\n",
              "      <td>Female</td>\n",
              "      <td>20</td>\n",
              "      <td>16</td>\n",
              "      <td>6</td>\n",
              "    </tr>\n",
              "    <tr>\n",
              "      <th>3</th>\n",
              "      <td>4</td>\n",
              "      <td>Female</td>\n",
              "      <td>23</td>\n",
              "      <td>16</td>\n",
              "      <td>77</td>\n",
              "    </tr>\n",
              "    <tr>\n",
              "      <th>4</th>\n",
              "      <td>5</td>\n",
              "      <td>Female</td>\n",
              "      <td>31</td>\n",
              "      <td>17</td>\n",
              "      <td>40</td>\n",
              "    </tr>\n",
              "  </tbody>\n",
              "</table>\n",
              "</div>"
            ],
            "text/plain": [
              "   CustomerID  Gender  Age  Annual Income (k$)  Spending Score (1-100)\n",
              "0           1    Male   19                  15                      39\n",
              "1           2    Male   21                  15                      81\n",
              "2           3  Female   20                  16                       6\n",
              "3           4  Female   23                  16                      77\n",
              "4           5  Female   31                  17                      40"
            ]
          },
          "execution_count": 2702,
          "metadata": {
            "tags": []
          },
          "output_type": "execute_result"
        }
      ],
      "source": [
        "DataFrame.head() # Hacemos una visualizacion de cómo es nuestro DataFrame a través de la funcion .head()"
      ]
    },
    {
      "cell_type": "code",
      "execution_count": null,
      "metadata": {
        "colab": {
          "base_uri": "https://localhost:8080/"
        },
        "id": "noLO3sZ11nua",
        "outputId": "4830cc51-1a91-4804-9c69-fd197c251e0e"
      },
      "outputs": [
        {
          "name": "stdout",
          "output_type": "stream",
          "text": [
            "<class 'pandas.core.frame.DataFrame'>\n",
            "RangeIndex: 200 entries, 0 to 199\n",
            "Data columns (total 5 columns):\n",
            " #   Column                  Non-Null Count  Dtype \n",
            "---  ------                  --------------  ----- \n",
            " 0   CustomerID              200 non-null    int64 \n",
            " 1   Gender                  200 non-null    object\n",
            " 2   Age                     200 non-null    int64 \n",
            " 3   Annual Income (k$)      200 non-null    int64 \n",
            " 4   Spending Score (1-100)  200 non-null    int64 \n",
            "dtypes: int64(4), object(1)\n",
            "memory usage: 7.9+ KB\n"
          ]
        }
      ],
      "source": [
        "DataFrame.info() # A través de .info llamamos a la informacíon que hay en nuestro DataFrame"
      ]
    },
    {
      "cell_type": "markdown",
      "metadata": {
        "id": "5mfo_ahqHLhp"
      },
      "source": [
        "#### Descripción técnica de las variables: \n",
        "\n",
        "- Base no tiene datos Nulos.\n",
        "- Existen 2 tipos de datos: Enteros (4 campos) y object (1 campos)\n",
        "- Son 5 campos (columnas)\n",
        "- Son 200 registros (filas)\n",
        "- No es necesario aplicar metodos de casteo, sustitución (media, moda, constante) o eliminación (eliminar fila), ya que no hay valores faltantes o nulos.\n",
        "- Es posible transformar la columna Gender a una variable binaria, ya que hay 2 opciones en esta, lo cual facilitaria nuestro analisis ya que los modelos no aceptan variables categoricas directamente."
      ]
    },
    {
      "cell_type": "code",
      "execution_count": null,
      "metadata": {
        "colab": {
          "base_uri": "https://localhost:8080/",
          "height": 404
        },
        "id": "CdFJqhewm_Pi",
        "outputId": "f9981563-8038-4f11-c03b-8e86eff5109d"
      },
      "outputs": [
        {
          "data": {
            "text/html": [
              "<div>\n",
              "<style scoped>\n",
              "    .dataframe tbody tr th:only-of-type {\n",
              "        vertical-align: middle;\n",
              "    }\n",
              "\n",
              "    .dataframe tbody tr th {\n",
              "        vertical-align: top;\n",
              "    }\n",
              "\n",
              "    .dataframe thead th {\n",
              "        text-align: right;\n",
              "    }\n",
              "</style>\n",
              "<table border=\"1\" class=\"dataframe\">\n",
              "  <thead>\n",
              "    <tr style=\"text-align: right;\">\n",
              "      <th></th>\n",
              "      <th>CustomerID</th>\n",
              "      <th>Gender</th>\n",
              "      <th>Age</th>\n",
              "      <th>Annual Income (k$)</th>\n",
              "      <th>Spending Score (1-100)</th>\n",
              "    </tr>\n",
              "  </thead>\n",
              "  <tbody>\n",
              "    <tr>\n",
              "      <th>0</th>\n",
              "      <td>1</td>\n",
              "      <td>Male</td>\n",
              "      <td>19</td>\n",
              "      <td>15</td>\n",
              "      <td>39</td>\n",
              "    </tr>\n",
              "    <tr>\n",
              "      <th>1</th>\n",
              "      <td>2</td>\n",
              "      <td>Male</td>\n",
              "      <td>21</td>\n",
              "      <td>15</td>\n",
              "      <td>81</td>\n",
              "    </tr>\n",
              "    <tr>\n",
              "      <th>2</th>\n",
              "      <td>3</td>\n",
              "      <td>Female</td>\n",
              "      <td>20</td>\n",
              "      <td>16</td>\n",
              "      <td>6</td>\n",
              "    </tr>\n",
              "    <tr>\n",
              "      <th>3</th>\n",
              "      <td>4</td>\n",
              "      <td>Female</td>\n",
              "      <td>23</td>\n",
              "      <td>16</td>\n",
              "      <td>77</td>\n",
              "    </tr>\n",
              "    <tr>\n",
              "      <th>4</th>\n",
              "      <td>5</td>\n",
              "      <td>Female</td>\n",
              "      <td>31</td>\n",
              "      <td>17</td>\n",
              "      <td>40</td>\n",
              "    </tr>\n",
              "    <tr>\n",
              "      <th>...</th>\n",
              "      <td>...</td>\n",
              "      <td>...</td>\n",
              "      <td>...</td>\n",
              "      <td>...</td>\n",
              "      <td>...</td>\n",
              "    </tr>\n",
              "    <tr>\n",
              "      <th>195</th>\n",
              "      <td>196</td>\n",
              "      <td>Female</td>\n",
              "      <td>35</td>\n",
              "      <td>120</td>\n",
              "      <td>79</td>\n",
              "    </tr>\n",
              "    <tr>\n",
              "      <th>196</th>\n",
              "      <td>197</td>\n",
              "      <td>Female</td>\n",
              "      <td>45</td>\n",
              "      <td>126</td>\n",
              "      <td>28</td>\n",
              "    </tr>\n",
              "    <tr>\n",
              "      <th>197</th>\n",
              "      <td>198</td>\n",
              "      <td>Male</td>\n",
              "      <td>32</td>\n",
              "      <td>126</td>\n",
              "      <td>74</td>\n",
              "    </tr>\n",
              "    <tr>\n",
              "      <th>198</th>\n",
              "      <td>199</td>\n",
              "      <td>Male</td>\n",
              "      <td>32</td>\n",
              "      <td>137</td>\n",
              "      <td>18</td>\n",
              "    </tr>\n",
              "    <tr>\n",
              "      <th>199</th>\n",
              "      <td>200</td>\n",
              "      <td>Male</td>\n",
              "      <td>30</td>\n",
              "      <td>137</td>\n",
              "      <td>83</td>\n",
              "    </tr>\n",
              "  </tbody>\n",
              "</table>\n",
              "<p>200 rows × 5 columns</p>\n",
              "</div>"
            ],
            "text/plain": [
              "     CustomerID  Gender  Age  Annual Income (k$)  Spending Score (1-100)\n",
              "0             1    Male   19                  15                      39\n",
              "1             2    Male   21                  15                      81\n",
              "2             3  Female   20                  16                       6\n",
              "3             4  Female   23                  16                      77\n",
              "4             5  Female   31                  17                      40\n",
              "..          ...     ...  ...                 ...                     ...\n",
              "195         196  Female   35                 120                      79\n",
              "196         197  Female   45                 126                      28\n",
              "197         198    Male   32                 126                      74\n",
              "198         199    Male   32                 137                      18\n",
              "199         200    Male   30                 137                      83\n",
              "\n",
              "[200 rows x 5 columns]"
            ]
          },
          "execution_count": 2704,
          "metadata": {
            "tags": []
          },
          "output_type": "execute_result"
        }
      ],
      "source": [
        "DataFrame # Aquí llamamos a nuestro DataFrame para obtener una vista previa de este"
      ]
    },
    {
      "cell_type": "code",
      "execution_count": null,
      "metadata": {
        "colab": {
          "base_uri": "https://localhost:8080/"
        },
        "id": "TOCQ_qXHo1_V",
        "outputId": "77c97189-a734-4bc9-df78-5efd8e995320"
      },
      "outputs": [
        {
          "data": {
            "text/plain": [
              "(200, 5)"
            ]
          },
          "execution_count": 2705,
          "metadata": {
            "tags": []
          },
          "output_type": "execute_result"
        }
      ],
      "source": [
        "DataFrame.shape  # Devuelve una tupla que representa la dimensionalidad de DataFrame."
      ]
    },
    {
      "cell_type": "markdown",
      "metadata": {
        "id": "LdFOF3A-e4Ao"
      },
      "source": [
        "\n",
        "#### Variables traducidas\n",
        "\n",
        "\n",
        "*   CustomerID = ID Cliente (Variable tipo int)\n",
        "*   Gender = Genero (Variable tipo object), sin embargo esta la transformamos luego a una variable tipo int binaria\n",
        "*   Age =  Edad (Variable tipo int)\n",
        "*   Annual Income(k$) = Ingresos Anuales (Variable tipo int)\n",
        "*   Spending Score(1-100)% =  Porcentaje de gasto de Anuales(Variable de tipo int, sin embargo es un porcentaje a diferencia de los demás)\n",
        "\n",
        "\n",
        "\n"
      ]
    },
    {
      "cell_type": "markdown",
      "metadata": {
        "id": "ZT0yQh8OoXNJ"
      },
      "source": [
        "### B. Gráficos y Tablas"
      ]
    },
    {
      "cell_type": "markdown",
      "metadata": {
        "id": "srejjF47B0jU"
      },
      "source": [
        "\n",
        "\n",
        "---\n",
        "\n"
      ]
    },
    {
      "cell_type": "markdown",
      "metadata": {
        "id": "UgTLYzCv699L"
      },
      "source": [
        "#### Transformacion variable categorica a binaria"
      ]
    },
    {
      "cell_type": "code",
      "execution_count": null,
      "metadata": {
        "colab": {
          "base_uri": "https://localhost:8080/",
          "height": 404
        },
        "id": "I9tRz1HkqQ0I",
        "outputId": "9c92c2a2-5398-4697-ff33-bde4ad413abe"
      },
      "outputs": [
        {
          "data": {
            "text/html": [
              "<div>\n",
              "<style scoped>\n",
              "    .dataframe tbody tr th:only-of-type {\n",
              "        vertical-align: middle;\n",
              "    }\n",
              "\n",
              "    .dataframe tbody tr th {\n",
              "        vertical-align: top;\n",
              "    }\n",
              "\n",
              "    .dataframe thead th {\n",
              "        text-align: right;\n",
              "    }\n",
              "</style>\n",
              "<table border=\"1\" class=\"dataframe\">\n",
              "  <thead>\n",
              "    <tr style=\"text-align: right;\">\n",
              "      <th></th>\n",
              "      <th>CustomerID</th>\n",
              "      <th>Gender</th>\n",
              "      <th>Age</th>\n",
              "      <th>Annual Income (k$)</th>\n",
              "      <th>Spending Score (1-100)</th>\n",
              "    </tr>\n",
              "  </thead>\n",
              "  <tbody>\n",
              "    <tr>\n",
              "      <th>0</th>\n",
              "      <td>1</td>\n",
              "      <td>1</td>\n",
              "      <td>19</td>\n",
              "      <td>15</td>\n",
              "      <td>39</td>\n",
              "    </tr>\n",
              "    <tr>\n",
              "      <th>1</th>\n",
              "      <td>2</td>\n",
              "      <td>1</td>\n",
              "      <td>21</td>\n",
              "      <td>15</td>\n",
              "      <td>81</td>\n",
              "    </tr>\n",
              "    <tr>\n",
              "      <th>2</th>\n",
              "      <td>3</td>\n",
              "      <td>0</td>\n",
              "      <td>20</td>\n",
              "      <td>16</td>\n",
              "      <td>6</td>\n",
              "    </tr>\n",
              "    <tr>\n",
              "      <th>3</th>\n",
              "      <td>4</td>\n",
              "      <td>0</td>\n",
              "      <td>23</td>\n",
              "      <td>16</td>\n",
              "      <td>77</td>\n",
              "    </tr>\n",
              "    <tr>\n",
              "      <th>4</th>\n",
              "      <td>5</td>\n",
              "      <td>0</td>\n",
              "      <td>31</td>\n",
              "      <td>17</td>\n",
              "      <td>40</td>\n",
              "    </tr>\n",
              "    <tr>\n",
              "      <th>...</th>\n",
              "      <td>...</td>\n",
              "      <td>...</td>\n",
              "      <td>...</td>\n",
              "      <td>...</td>\n",
              "      <td>...</td>\n",
              "    </tr>\n",
              "    <tr>\n",
              "      <th>195</th>\n",
              "      <td>196</td>\n",
              "      <td>0</td>\n",
              "      <td>35</td>\n",
              "      <td>120</td>\n",
              "      <td>79</td>\n",
              "    </tr>\n",
              "    <tr>\n",
              "      <th>196</th>\n",
              "      <td>197</td>\n",
              "      <td>0</td>\n",
              "      <td>45</td>\n",
              "      <td>126</td>\n",
              "      <td>28</td>\n",
              "    </tr>\n",
              "    <tr>\n",
              "      <th>197</th>\n",
              "      <td>198</td>\n",
              "      <td>1</td>\n",
              "      <td>32</td>\n",
              "      <td>126</td>\n",
              "      <td>74</td>\n",
              "    </tr>\n",
              "    <tr>\n",
              "      <th>198</th>\n",
              "      <td>199</td>\n",
              "      <td>1</td>\n",
              "      <td>32</td>\n",
              "      <td>137</td>\n",
              "      <td>18</td>\n",
              "    </tr>\n",
              "    <tr>\n",
              "      <th>199</th>\n",
              "      <td>200</td>\n",
              "      <td>1</td>\n",
              "      <td>30</td>\n",
              "      <td>137</td>\n",
              "      <td>83</td>\n",
              "    </tr>\n",
              "  </tbody>\n",
              "</table>\n",
              "<p>200 rows × 5 columns</p>\n",
              "</div>"
            ],
            "text/plain": [
              "     CustomerID  Gender  Age  Annual Income (k$)  Spending Score (1-100)\n",
              "0             1       1   19                  15                      39\n",
              "1             2       1   21                  15                      81\n",
              "2             3       0   20                  16                       6\n",
              "3             4       0   23                  16                      77\n",
              "4             5       0   31                  17                      40\n",
              "..          ...     ...  ...                 ...                     ...\n",
              "195         196       0   35                 120                      79\n",
              "196         197       0   45                 126                      28\n",
              "197         198       1   32                 126                      74\n",
              "198         199       1   32                 137                      18\n",
              "199         200       1   30                 137                      83\n",
              "\n",
              "[200 rows x 5 columns]"
            ]
          },
          "execution_count": 2706,
          "metadata": {
            "tags": []
          },
          "output_type": "execute_result"
        }
      ],
      "source": [
        "DataFrame['Gender'] = DataFrame['Gender'].replace({\"Male\": 1, \"Female\": 0})\n",
        "# Luego de observar la columna Gender visualizamos que esta podría ser reemplazada por una variable binaria ya que solamente hay 2 opciones en esta, por lo tanto\n",
        "# Definiremos Male como 1 y Female como 0 , ocupando la funcíon replace a través de la libreria pandas, esto nos permitira analizar de mejor manera el modelo\n",
        "DataFrame # Llamamos a nuestro DataFrame para ver como queda finalmente"
      ]
    },
    {
      "cell_type": "markdown",
      "metadata": {
        "id": "jlZ02GHqHsVQ"
      },
      "source": [
        "#### Histogramas"
      ]
    },
    {
      "cell_type": "code",
      "execution_count": null,
      "metadata": {
        "colab": {
          "base_uri": "https://localhost:8080/",
          "height": 833
        },
        "id": "Nkl1WXL2HJ04",
        "outputId": "ca484e9b-77a0-4f59-d2c1-f96ff283eb36"
      },
      "outputs": [
        {
          "data": {
            "text/plain": [
              "array([[<matplotlib.axes._subplots.AxesSubplot object at 0x7efd44975e80>,\n",
              "        <matplotlib.axes._subplots.AxesSubplot object at 0x7efd436ea1d0>],\n",
              "       [<matplotlib.axes._subplots.AxesSubplot object at 0x7efd43699550>,\n",
              "        <matplotlib.axes._subplots.AxesSubplot object at 0x7efd4364b8d0>],\n",
              "       [<matplotlib.axes._subplots.AxesSubplot object at 0x7efd4367cc50>,\n",
              "        <matplotlib.axes._subplots.AxesSubplot object at 0x7efd43630fd0>]],\n",
              "      dtype=object)"
            ]
          },
          "execution_count": 2707,
          "metadata": {
            "tags": []
          },
          "output_type": "execute_result"
        },
        {
          "data": {
            "image/png": "[encoded data removed]",
            "text/plain": [
              "<Figure size 864x864 with 6 Axes>"
            ]
          },
          "metadata": {
            "needs_background": "light",
            "tags": []
          },
          "output_type": "display_data"
        }
      ],
      "source": [
        "DataFrame.hist(figsize=(12,12)) # Llamamos a todos los graficos de histograma del DataFame a través de .hist con el tamaño de 12x12 de cada uno de los graficos"
      ]
    },
    {
      "cell_type": "code",
      "execution_count": null,
      "metadata": {
        "colab": {
          "base_uri": "https://localhost:8080/",
          "height": 286
        },
        "id": "hD-Y9W7T6GLB",
        "outputId": "be9d4ab3-cab1-4637-e0f6-cc45ee1d1b62"
      },
      "outputs": [
        {
          "data": {
            "text/html": [
              "<div>\n",
              "<style scoped>\n",
              "    .dataframe tbody tr th:only-of-type {\n",
              "        vertical-align: middle;\n",
              "    }\n",
              "\n",
              "    .dataframe tbody tr th {\n",
              "        vertical-align: top;\n",
              "    }\n",
              "\n",
              "    .dataframe thead th {\n",
              "        text-align: right;\n",
              "    }\n",
              "</style>\n",
              "<table border=\"1\" class=\"dataframe\">\n",
              "  <thead>\n",
              "    <tr style=\"text-align: right;\">\n",
              "      <th></th>\n",
              "      <th>CustomerID</th>\n",
              "      <th>Gender</th>\n",
              "      <th>Age</th>\n",
              "      <th>Annual Income (k$)</th>\n",
              "      <th>Spending Score (1-100)</th>\n",
              "    </tr>\n",
              "  </thead>\n",
              "  <tbody>\n",
              "    <tr>\n",
              "      <th>count</th>\n",
              "      <td>200.000000</td>\n",
              "      <td>200.000000</td>\n",
              "      <td>200.000000</td>\n",
              "      <td>200.000000</td>\n",
              "      <td>200.000000</td>\n",
              "    </tr>\n",
              "    <tr>\n",
              "      <th>mean</th>\n",
              "      <td>100.500000</td>\n",
              "      <td>0.440000</td>\n",
              "      <td>38.850000</td>\n",
              "      <td>60.560000</td>\n",
              "      <td>50.200000</td>\n",
              "    </tr>\n",
              "    <tr>\n",
              "      <th>std</th>\n",
              "      <td>57.879185</td>\n",
              "      <td>0.497633</td>\n",
              "      <td>13.969007</td>\n",
              "      <td>26.264721</td>\n",
              "      <td>25.823522</td>\n",
              "    </tr>\n",
              "    <tr>\n",
              "      <th>min</th>\n",
              "      <td>1.000000</td>\n",
              "      <td>0.000000</td>\n",
              "      <td>18.000000</td>\n",
              "      <td>15.000000</td>\n",
              "      <td>1.000000</td>\n",
              "    </tr>\n",
              "    <tr>\n",
              "      <th>25%</th>\n",
              "      <td>50.750000</td>\n",
              "      <td>0.000000</td>\n",
              "      <td>28.750000</td>\n",
              "      <td>41.500000</td>\n",
              "      <td>34.750000</td>\n",
              "    </tr>\n",
              "    <tr>\n",
              "      <th>50%</th>\n",
              "      <td>100.500000</td>\n",
              "      <td>0.000000</td>\n",
              "      <td>36.000000</td>\n",
              "      <td>61.500000</td>\n",
              "      <td>50.000000</td>\n",
              "    </tr>\n",
              "    <tr>\n",
              "      <th>75%</th>\n",
              "      <td>150.250000</td>\n",
              "      <td>1.000000</td>\n",
              "      <td>49.000000</td>\n",
              "      <td>78.000000</td>\n",
              "      <td>73.000000</td>\n",
              "    </tr>\n",
              "    <tr>\n",
              "      <th>max</th>\n",
              "      <td>200.000000</td>\n",
              "      <td>1.000000</td>\n",
              "      <td>70.000000</td>\n",
              "      <td>137.000000</td>\n",
              "      <td>99.000000</td>\n",
              "    </tr>\n",
              "  </tbody>\n",
              "</table>\n",
              "</div>"
            ],
            "text/plain": [
              "       CustomerID      Gender  ...  Annual Income (k$)  Spending Score (1-100)\n",
              "count  200.000000  200.000000  ...          200.000000              200.000000\n",
              "mean   100.500000    0.440000  ...           60.560000               50.200000\n",
              "std     57.879185    0.497633  ...           26.264721               25.823522\n",
              "min      1.000000    0.000000  ...           15.000000                1.000000\n",
              "25%     50.750000    0.000000  ...           41.500000               34.750000\n",
              "50%    100.500000    0.000000  ...           61.500000               50.000000\n",
              "75%    150.250000    1.000000  ...           78.000000               73.000000\n",
              "max    200.000000    1.000000  ...          137.000000               99.000000\n",
              "\n",
              "[8 rows x 5 columns]"
            ]
          },
          "execution_count": 2708,
          "metadata": {
            "tags": []
          },
          "output_type": "execute_result"
        }
      ],
      "source": [
        "DataFrame.describe()\n",
        "#Arroja valores claves de cada variable o campo como promedio, cantidad de registros,. porcentil 25%, procentiñl 50%"
      ]
    },
    {
      "cell_type": "markdown",
      "metadata": {
        "id": "bZKm2OnUYRFr"
      },
      "source": [
        "Gracias a estos histogramas y además de la descripción de los datos, podemos tener un conocimiento general de la muestra con la cual trabajare. De aqui:\n",
        "Hay más mujeres que hombres, pero el promedio entregado por la tabla es de 0.44, por lo que podemos decir que no hay tanta diferencia, ya que no esta tan alejado de 0.5.\n",
        "\n",
        "Pero por otra parte, podemos notar una diferencia entre las distancias de edades, no como en el genero, ya que la desviacion estandar aumento un 93%, y asi podemos definir un rango etario:\n",
        "*   Adulto-joven: desde 18 hasta 36 años\n",
        "*   Adulto: desde 36 hasta 54 años\n",
        "*   Edad avanzada: desde 54 hasta 70 años\n",
        "También de aquí, podemos decir que la edad del grupo de personas, se concentra más entre los menores de 50 años, ya que el percentil 75 nos indica son iguales o menores a 49 años además de considerar que el promedio de edad es de 38.85. \n",
        "\n",
        "Por las mismas razones del punto anterior, podemos definir grupos de ingresos: \n",
        "*   Bajo: desde 15k hasta 55k\n",
        "*   Medio: desde 55k hasta 97k\n",
        "*   Alto: desde 97k hasta 137k\n",
        "\n",
        "Y ya que el percentil 75 recibe menor o igual a 78k, la mayoria pertenece a los individuos con un ingreso medio-bajo.\n",
        "\n",
        "Como último punto, como en el anterior, podemos definir tipos de gastos:\n",
        "* Bajo: desde 0 hasta 40\n",
        "* Medio: desde 40 hasta 60\n",
        "* Alto: desde 60 hasta 100\n",
        "\n",
        "Y ya que el promedio tiene un valor de 50.20, podemos decir que la muestra tiene un gasto medio.\n",
        "\n",
        "(Para las elecciones me fije en dos parametros, los intervalos son similares o donde hay más concentración de datos.)"
      ]
    },
    {
      "cell_type": "markdown",
      "metadata": {
        "id": "peztfubt1L9C"
      },
      "source": [
        "#### Matriz de correlacion"
      ]
    },
    {
      "cell_type": "code",
      "execution_count": null,
      "metadata": {
        "colab": {
          "base_uri": "https://localhost:8080/",
          "height": 487
        },
        "id": "5YQjbCtZ1TEm",
        "outputId": "d933adfc-c68b-4028-82ef-16d9a42c1787"
      },
      "outputs": [
        {
          "data": {
            "image/png": "[encoded data removed]",
            "text/plain": [
              "<Figure size 1080x576 with 2 Axes>"
            ]
          },
          "metadata": {
            "needs_background": "light",
            "tags": []
          },
          "output_type": "display_data"
        }
      ],
      "source": [
        "#Se crea matriz de correlación que complementa a la de PANDAS, ya que está muestra el valor de la correlación, usando coef. de pearson\n",
        "plt.figure(figsize=(15,8)) #Se define el tamaño de cuadro\n",
        "sns.heatmap(DataFrame.corr(), annot=True, cmap='RdBu') # dibuja el mapa de correlación en función de la base de DataFrame.corr\n",
        "plt.show() #Imprimimos nuestra matriz"
      ]
    },
    {
      "cell_type": "markdown",
      "metadata": {
        "id": "Nm2fttpX3-vZ"
      },
      "source": [
        "En esta ocasión, la matriz de correlación no me será relevante en mi análisis, porque más que importarme la relación entre como aumentan o disminuyen las variables, me interesa más la distancia entre ellas. Un ejemplo, sí se tiene altos ingresos, no necesariamente debe haber una relación entre cuanto se gasta o no se gasta."
      ]
    },
    {
      "cell_type": "markdown",
      "metadata": {
        "id": "ZvQPkesABYjW"
      },
      "source": [
        "#### Grafico Scatter en 3 dimensiones"
      ]
    },
    {
      "cell_type": "code",
      "execution_count": null,
      "metadata": {
        "colab": {
          "base_uri": "https://localhost:8080/",
          "height": 542
        },
        "id": "oMTdxzI922C7",
        "outputId": "45c5c9fd-bfd3-4452-c26d-22cbdc83d398"
      },
      "outputs": [
        {
          "data": {
            "text/html": [
              "<html>\n",
              "<head><meta charset=\"utf-8\" /></head>\n",
              "<body>\n",
              "    <div>\n",
              "            <script src=\"https://cdnjs.cloudflare.com/ajax/libs/mathjax/2.7.5/MathJax.js?config=TeX-AMS-MML_SVG\"></script><script type=\"text/javascript\">if (window.MathJax) {MathJax.Hub.Config({SVG: {font: \"STIX-Web\"}});}</script>\n",
              "                <script type=\"text/javascript\">window.PlotlyConfig = {MathJaxConfig: 'local'};</script>\n",
              "        <script src=\"https://cdn.plot.ly/plotly-latest.min.js\"></script>    \n",
              "            <div id=\"67d1ad0e-d7c0-4f69-8efb-7ab199e65694\" class=\"plotly-graph-div\" style=\"height:525px; width:100%;\"></div>\n",
              "            <script type=\"text/javascript\">\n",
              "                \n",
              "                    window.PLOTLYENV=window.PLOTLYENV || {};\n",
              "                    \n",
              "                if (document.getElementById(\"67d1ad0e-d7c0-4f69-8efb-7ab199e65694\")) {\n",
              "                    Plotly.newPlot(\n",
              "                        '67d1ad0e-d7c0-4f69-8efb-7ab199e65694',\n",
              "                        [{\"hoverlabel\": {\"namelength\": 0}, \"hovertemplate\": \"Age=%{x}<br>Annual Income (k$)=%{y}<br>Spending Score (1-100)=%{z}<br>Gender=%{marker.color}\", \"legendgroup\": \"\", \"marker\": {\"color\": [1, 1, 0, 0, 0, 0, 0, 0, 1, 0, 1, 0, 0, 0, 1, 1, 0, 1, 1, 0, 1, 1, 0, 1, 0, 1, 0, 1, 0, 0, 1, 0, 1, 1, 0, 0, 0, 0, 0, 0, 0, 1, 1, 0, 0, 0, 0, 0, 0, 0, 0, 1, 0, 1, 0, 1, 0, 1, 0, 1, 1, 1, 0, 0, 1, 1, 0, 0, 1, 0, 1, 0, 0, 0, 1, 1, 0, 1, 0, 0, 1, 1, 1, 0, 0, 1, 0, 0, 0, 0, 0, 1, 1, 0, 0, 1, 0, 0, 1, 1, 0, 0, 1, 1, 1, 0, 0, 1, 1, 1, 1, 0, 0, 1, 0, 0, 0, 0, 0, 0, 1, 0, 0, 1, 0, 0, 1, 1, 1, 1, 1, 1, 0, 0, 1, 0, 0, 1, 1, 0, 0, 1, 0, 0, 1, 1, 1, 0, 0, 1, 1, 1, 0, 0, 0, 0, 1, 0, 1, 0, 0, 0, 1, 0, 1, 0, 1, 0, 0, 1, 1, 1, 1, 1, 0, 0, 1, 1, 1, 1, 0, 0, 1, 0, 0, 1, 0, 1, 0, 0, 0, 0, 1, 0, 0, 0, 0, 1, 1, 1], \"coloraxis\": \"coloraxis\", \"symbol\": \"circle\"}, \"mode\": \"markers\", \"name\": \"\", \"scene\": \"scene\", \"showlegend\": false, \"type\": \"scatter3d\", \"x\": [19, 21, 20, 23, 31, 22, 35, 23, 64, 30, 67, 35, 58, 24, 37, 22, 35, 20, 52, 35, 35, 25, 46, 31, 54, 29, 45, 35, 40, 23, 60, 21, 53, 18, 49, 21, 42, 30, 36, 20, 65, 24, 48, 31, 49, 24, 50, 27, 29, 31, 49, 33, 31, 59, 50, 47, 51, 69, 27, 53, 70, 19, 67, 54, 63, 18, 43, 68, 19, 32, 70, 47, 60, 60, 59, 26, 45, 40, 23, 49, 57, 38, 67, 46, 21, 48, 55, 22, 34, 50, 68, 18, 48, 40, 32, 24, 47, 27, 48, 20, 23, 49, 67, 26, 49, 21, 66, 54, 68, 66, 65, 19, 38, 19, 18, 19, 63, 49, 51, 50, 27, 38, 40, 39, 23, 31, 43, 40, 59, 38, 47, 39, 25, 31, 20, 29, 44, 32, 19, 35, 57, 32, 28, 32, 25, 28, 48, 32, 34, 34, 43, 39, 44, 38, 47, 27, 37, 30, 34, 30, 56, 29, 19, 31, 50, 36, 42, 33, 36, 32, 40, 28, 36, 36, 52, 30, 58, 27, 59, 35, 37, 32, 46, 29, 41, 30, 54, 28, 41, 36, 34, 32, 33, 38, 47, 35, 45, 32, 32, 30], \"y\": [15, 15, 16, 16, 17, 17, 18, 18, 19, 19, 19, 19, 20, 20, 20, 20, 21, 21, 23, 23, 24, 24, 25, 25, 28, 28, 28, 28, 29, 29, 30, 30, 33, 33, 33, 33, 34, 34, 37, 37, 38, 38, 39, 39, 39, 39, 40, 40, 40, 40, 42, 42, 43, 43, 43, 43, 44, 44, 46, 46, 46, 46, 47, 47, 48, 48, 48, 48, 48, 48, 49, 49, 50, 50, 54, 54, 54, 54, 54, 54, 54, 54, 54, 54, 54, 54, 57, 57, 58, 58, 59, 59, 60, 60, 60, 60, 60, 60, 61, 61, 62, 62, 62, 62, 62, 62, 63, 63, 63, 63, 63, 63, 64, 64, 65, 65, 65, 65, 67, 67, 67, 67, 69, 69, 70, 70, 71, 71, 71, 71, 71, 71, 72, 72, 73, 73, 73, 73, 74, 74, 75, 75, 76, 76, 77, 77, 77, 77, 78, 78, 78, 78, 78, 78, 78, 78, 78, 78, 78, 78, 79, 79, 81, 81, 85, 85, 86, 86, 87, 87, 87, 87, 87, 87, 88, 88, 88, 88, 93, 93, 97, 97, 98, 98, 99, 99, 101, 101, 103, 103, 103, 103, 113, 113, 120, 120, 126, 126, 137, 137], \"z\": [39, 81, 6, 77, 40, 76, 6, 94, 3, 72, 14, 99, 15, 77, 13, 79, 35, 66, 29, 98, 35, 73, 5, 73, 14, 82, 32, 61, 31, 87, 4, 73, 4, 92, 14, 81, 17, 73, 26, 75, 35, 92, 36, 61, 28, 65, 55, 47, 42, 42, 52, 60, 54, 60, 45, 41, 50, 46, 51, 46, 56, 55, 52, 59, 51, 59, 50, 48, 59, 47, 55, 42, 49, 56, 47, 54, 53, 48, 52, 42, 51, 55, 41, 44, 57, 46, 58, 55, 60, 46, 55, 41, 49, 40, 42, 52, 47, 50, 42, 49, 41, 48, 59, 55, 56, 42, 50, 46, 43, 48, 52, 54, 42, 46, 48, 50, 43, 59, 43, 57, 56, 40, 58, 91, 29, 77, 35, 95, 11, 75, 9, 75, 34, 71, 5, 88, 7, 73, 10, 72, 5, 93, 40, 87, 12, 97, 36, 74, 22, 90, 17, 88, 20, 76, 16, 89, 1, 78, 1, 73, 35, 83, 5, 93, 26, 75, 20, 95, 27, 63, 13, 75, 10, 92, 13, 86, 15, 69, 14, 90, 32, 86, 15, 88, 39, 97, 24, 68, 17, 85, 23, 69, 8, 91, 16, 79, 28, 74, 18, 83]}],\n",
              "                        {\"coloraxis\": {\"colorbar\": {\"title\": {\"text\": \"Gender\"}}, \"colorscale\": [[0.0, \"#0d0887\"], [0.1111111111111111, \"#46039f\"], [0.2222222222222222, \"#7201a8\"], [0.3333333333333333, \"#9c179e\"], [0.4444444444444444, \"#bd3786\"], [0.5555555555555556, \"#d8576b\"], [0.6666666666666666, \"#ed7953\"], [0.7777777777777778, \"#fb9f3a\"], [0.8888888888888888, \"#fdca26\"], [1.0, \"#f0f921\"]]}, \"legend\": {\"tracegroupgap\": 0}, \"margin\": {\"t\": 60}, \"scene\": {\"domain\": {\"x\": [0.0, 1.0], \"y\": [0.0, 1.0]}, \"xaxis\": {\"title\": {\"text\": \"Age\"}}, \"yaxis\": {\"title\": {\"text\": \"Annual Income (k$)\"}}, \"zaxis\": {\"title\": {\"text\": \"Spending Score (1-100)\"}}}, \"template\": {\"data\": {\"bar\": [{\"error_x\": {\"color\": \"#2a3f5f\"}, \"error_y\": {\"color\": \"#2a3f5f\"}, \"marker\": {\"line\": {\"color\": \"#E5ECF6\", \"width\": 0.5}}, \"type\": \"bar\"}], \"barpolar\": [{\"marker\": {\"line\": {\"color\": \"#E5ECF6\", \"width\": 0.5}}, \"type\": \"barpolar\"}], \"carpet\": [{\"aaxis\": {\"endlinecolor\": \"#2a3f5f\", \"gridcolor\": \"white\", \"linecolor\": \"white\", \"minorgridcolor\": \"white\", \"startlinecolor\": \"#2a3f5f\"}, \"baxis\": {\"endlinecolor\": \"#2a3f5f\", \"gridcolor\": \"white\", \"linecolor\": \"white\", \"minorgridcolor\": \"white\", \"startlinecolor\": \"#2a3f5f\"}, \"type\": \"carpet\"}], \"choropleth\": [{\"colorbar\": {\"outlinewidth\": 0, \"ticks\": \"\"}, \"type\": \"choropleth\"}], \"contour\": [{\"colorbar\": {\"outlinewidth\": 0, \"ticks\": \"\"}, \"colorscale\": [[0.0, \"#0d0887\"], [0.1111111111111111, \"#46039f\"], [0.2222222222222222, \"#7201a8\"], [0.3333333333333333, \"#9c179e\"], [0.4444444444444444, \"#bd3786\"], [0.5555555555555556, \"#d8576b\"], [0.6666666666666666, \"#ed7953\"], [0.7777777777777778, \"#fb9f3a\"], [0.8888888888888888, \"#fdca26\"], [1.0, \"#f0f921\"]], \"type\": \"contour\"}], \"contourcarpet\": [{\"colorbar\": {\"outlinewidth\": 0, \"ticks\": \"\"}, \"type\": \"contourcarpet\"}], \"heatmap\": [{\"colorbar\": {\"outlinewidth\": 0, \"ticks\": \"\"}, \"colorscale\": [[0.0, \"#0d0887\"], [0.1111111111111111, \"#46039f\"], [0.2222222222222222, \"#7201a8\"], [0.3333333333333333, \"#9c179e\"], [0.4444444444444444, \"#bd3786\"], [0.5555555555555556, \"#d8576b\"], [0.6666666666666666, \"#ed7953\"], [0.7777777777777778, \"#fb9f3a\"], [0.8888888888888888, \"#fdca26\"], [1.0, \"#f0f921\"]], \"type\": \"heatmap\"}], \"heatmapgl\": [{\"colorbar\": {\"outlinewidth\": 0, \"ticks\": \"\"}, \"colorscale\": [[0.0, \"#0d0887\"], [0.1111111111111111, \"#46039f\"], [0.2222222222222222, \"#7201a8\"], [0.3333333333333333, \"#9c179e\"], [0.4444444444444444, \"#bd3786\"], [0.5555555555555556, \"#d8576b\"], [0.6666666666666666, \"#ed7953\"], [0.7777777777777778, \"#fb9f3a\"], [0.8888888888888888, \"#fdca26\"], [1.0, \"#f0f921\"]], \"type\": \"heatmapgl\"}], \"histogram\": [{\"marker\": {\"colorbar\": {\"outlinewidth\": 0, \"ticks\": \"\"}}, \"type\": \"histogram\"}], \"histogram2d\": [{\"colorbar\": {\"outlinewidth\": 0, \"ticks\": \"\"}, \"colorscale\": [[0.0, \"#0d0887\"], [0.1111111111111111, \"#46039f\"], [0.2222222222222222, \"#7201a8\"], [0.3333333333333333, \"#9c179e\"], [0.4444444444444444, \"#bd3786\"], [0.5555555555555556, \"#d8576b\"], [0.6666666666666666, \"#ed7953\"], [0.7777777777777778, \"#fb9f3a\"], [0.8888888888888888, \"#fdca26\"], [1.0, \"#f0f921\"]], \"type\": \"histogram2d\"}], \"histogram2dcontour\": [{\"colorbar\": {\"outlinewidth\": 0, \"ticks\": \"\"}, \"colorscale\": [[0.0, \"#0d0887\"], [0.1111111111111111, \"#46039f\"], [0.2222222222222222, \"#7201a8\"], [0.3333333333333333, \"#9c179e\"], [0.4444444444444444, \"#bd3786\"], [0.5555555555555556, \"#d8576b\"], [0.6666666666666666, \"#ed7953\"], [0.7777777777777778, \"#fb9f3a\"], [0.8888888888888888, \"#fdca26\"], [1.0, \"#f0f921\"]], \"type\": \"histogram2dcontour\"}], \"mesh3d\": [{\"colorbar\": {\"outlinewidth\": 0, \"ticks\": \"\"}, \"type\": \"mesh3d\"}], \"parcoords\": [{\"line\": {\"colorbar\": {\"outlinewidth\": 0, \"ticks\": \"\"}}, \"type\": \"parcoords\"}], \"pie\": [{\"automargin\": true, \"type\": \"pie\"}], \"scatter\": [{\"marker\": {\"colorbar\": {\"outlinewidth\": 0, \"ticks\": \"\"}}, \"type\": \"scatter\"}], \"scatter3d\": [{\"line\": {\"colorbar\": {\"outlinewidth\": 0, \"ticks\": \"\"}}, \"marker\": {\"colorbar\": {\"outlinewidth\": 0, \"ticks\": \"\"}}, \"type\": \"scatter3d\"}], \"scattercarpet\": [{\"marker\": {\"colorbar\": {\"outlinewidth\": 0, \"ticks\": \"\"}}, \"type\": \"scattercarpet\"}], \"scattergeo\": [{\"marker\": {\"colorbar\": {\"outlinewidth\": 0, \"ticks\": \"\"}}, \"type\": \"scattergeo\"}], \"scattergl\": [{\"marker\": {\"colorbar\": {\"outlinewidth\": 0, \"ticks\": \"\"}}, \"type\": \"scattergl\"}], \"scattermapbox\": [{\"marker\": {\"colorbar\": {\"outlinewidth\": 0, \"ticks\": \"\"}}, \"type\": \"scattermapbox\"}], \"scatterpolar\": [{\"marker\": {\"colorbar\": {\"outlinewidth\": 0, \"ticks\": \"\"}}, \"type\": \"scatterpolar\"}], \"scatterpolargl\": [{\"marker\": {\"colorbar\": {\"outlinewidth\": 0, \"ticks\": \"\"}}, \"type\": \"scatterpolargl\"}], \"scatterternary\": [{\"marker\": {\"colorbar\": {\"outlinewidth\": 0, \"ticks\": \"\"}}, \"type\": \"scatterternary\"}], \"surface\": [{\"colorbar\": {\"outlinewidth\": 0, \"ticks\": \"\"}, \"colorscale\": [[0.0, \"#0d0887\"], [0.1111111111111111, \"#46039f\"], [0.2222222222222222, \"#7201a8\"], [0.3333333333333333, \"#9c179e\"], [0.4444444444444444, \"#bd3786\"], [0.5555555555555556, \"#d8576b\"], [0.6666666666666666, \"#ed7953\"], [0.7777777777777778, \"#fb9f3a\"], [0.8888888888888888, \"#fdca26\"], [1.0, \"#f0f921\"]], \"type\": \"surface\"}], \"table\": [{\"cells\": {\"fill\": {\"color\": \"#EBF0F8\"}, \"line\": {\"color\": \"white\"}}, \"header\": {\"fill\": {\"color\": \"#C8D4E3\"}, \"line\": {\"color\": \"white\"}}, \"type\": \"table\"}]}, \"layout\": {\"annotationdefaults\": {\"arrowcolor\": \"#2a3f5f\", \"arrowhead\": 0, \"arrowwidth\": 1}, \"coloraxis\": {\"colorbar\": {\"outlinewidth\": 0, \"ticks\": \"\"}}, \"colorscale\": {\"diverging\": [[0, \"#8e0152\"], [0.1, \"#c51b7d\"], [0.2, \"#de77ae\"], [0.3, \"#f1b6da\"], [0.4, \"#fde0ef\"], [0.5, \"#f7f7f7\"], [0.6, \"#e6f5d0\"], [0.7, \"#b8e186\"], [0.8, \"#7fbc41\"], [0.9, \"#4d9221\"], [1, \"#276419\"]], \"sequential\": [[0.0, \"#0d0887\"], [0.1111111111111111, \"#46039f\"], [0.2222222222222222, \"#7201a8\"], [0.3333333333333333, \"#9c179e\"], [0.4444444444444444, \"#bd3786\"], [0.5555555555555556, \"#d8576b\"], [0.6666666666666666, \"#ed7953\"], [0.7777777777777778, \"#fb9f3a\"], [0.8888888888888888, \"#fdca26\"], [1.0, \"#f0f921\"]], \"sequentialminus\": [[0.0, \"#0d0887\"], [0.1111111111111111, \"#46039f\"], [0.2222222222222222, \"#7201a8\"], [0.3333333333333333, \"#9c179e\"], [0.4444444444444444, \"#bd3786\"], [0.5555555555555556, \"#d8576b\"], [0.6666666666666666, \"#ed7953\"], [0.7777777777777778, \"#fb9f3a\"], [0.8888888888888888, \"#fdca26\"], [1.0, \"#f0f921\"]]}, \"colorway\": [\"#636efa\", \"#EF553B\", \"#00cc96\", \"#ab63fa\", \"#FFA15A\", \"#19d3f3\", \"#FF6692\", \"#B6E880\", \"#FF97FF\", \"#FECB52\"], \"font\": {\"color\": \"#2a3f5f\"}, \"geo\": {\"bgcolor\": \"white\", \"lakecolor\": \"white\", \"landcolor\": \"#E5ECF6\", \"showlakes\": true, \"showland\": true, \"subunitcolor\": \"white\"}, \"hoverlabel\": {\"align\": \"left\"}, \"hovermode\": \"closest\", \"mapbox\": {\"style\": \"light\"}, \"paper_bgcolor\": \"white\", \"plot_bgcolor\": \"#E5ECF6\", \"polar\": {\"angularaxis\": {\"gridcolor\": \"white\", \"linecolor\": \"white\", \"ticks\": \"\"}, \"bgcolor\": \"#E5ECF6\", \"radialaxis\": {\"gridcolor\": \"white\", \"linecolor\": \"white\", \"ticks\": \"\"}}, \"scene\": {\"xaxis\": {\"backgroundcolor\": \"#E5ECF6\", \"gridcolor\": \"white\", \"gridwidth\": 2, \"linecolor\": \"white\", \"showbackground\": true, \"ticks\": \"\", \"zerolinecolor\": \"white\"}, \"yaxis\": {\"backgroundcolor\": \"#E5ECF6\", \"gridcolor\": \"white\", \"gridwidth\": 2, \"linecolor\": \"white\", \"showbackground\": true, \"ticks\": \"\", \"zerolinecolor\": \"white\"}, \"zaxis\": {\"backgroundcolor\": \"#E5ECF6\", \"gridcolor\": \"white\", \"gridwidth\": 2, \"linecolor\": \"white\", \"showbackground\": true, \"ticks\": \"\", \"zerolinecolor\": \"white\"}}, \"shapedefaults\": {\"line\": {\"color\": \"#2a3f5f\"}}, \"ternary\": {\"aaxis\": {\"gridcolor\": \"white\", \"linecolor\": \"white\", \"ticks\": \"\"}, \"baxis\": {\"gridcolor\": \"white\", \"linecolor\": \"white\", \"ticks\": \"\"}, \"bgcolor\": \"#E5ECF6\", \"caxis\": {\"gridcolor\": \"white\", \"linecolor\": \"white\", \"ticks\": \"\"}}, \"title\": {\"x\": 0.05}, \"xaxis\": {\"automargin\": true, \"gridcolor\": \"white\", \"linecolor\": \"white\", \"ticks\": \"\", \"title\": {\"standoff\": 15}, \"zerolinecolor\": \"white\", \"zerolinewidth\": 2}, \"yaxis\": {\"automargin\": true, \"gridcolor\": \"white\", \"linecolor\": \"white\", \"ticks\": \"\", \"title\": {\"standoff\": 15}, \"zerolinecolor\": \"white\", \"zerolinewidth\": 2}}}},\n",
              "                        {\"responsive\": true}\n",
              "                    ).then(function(){\n",
              "                            \n",
              "var gd = document.getElementById('67d1ad0e-d7c0-4f69-8efb-7ab199e65694');\n",
              "var x = new MutationObserver(function (mutations, observer) {{\n",
              "        var display = window.getComputedStyle(gd).display;\n",
              "        if (!display || display === 'none') {{\n",
              "            console.log([gd, 'removed!']);\n",
              "            Plotly.purge(gd);\n",
              "            observer.disconnect();\n",
              "        }}\n",
              "}});\n",
              "\n",
              "// Listen for the removal of the full notebook cells\n",
              "var notebookContainer = gd.closest('#notebook-container');\n",
              "if (notebookContainer) {{\n",
              "    x.observe(notebookContainer, {childList: true});\n",
              "}}\n",
              "\n",
              "// Listen for the clearing of the current output cell\n",
              "var outputEl = gd.closest('.output');\n",
              "if (outputEl) {{\n",
              "    x.observe(outputEl, {childList: true});\n",
              "}}\n",
              "\n",
              "                        })\n",
              "                };\n",
              "                \n",
              "            </script>\n",
              "        </div>\n",
              "</body>\n",
              "</html>"
            ]
          },
          "metadata": {
            "tags": []
          },
          "output_type": "display_data"
        }
      ],
      "source": [
        "fig = px.scatter_3d(DataFrame, x='Age', y='Annual Income (k$)', z='Spending Score (1-100)',\n",
        "              color='Gender')\n",
        "# Llamamos a la funcion px.scatter_3d de la libreria plotly.express, con la cual haremos una grafica en 3 dimensiones donde:#\n",
        "# El eje x será \"Age\", el eje y \"Annual Income (k$)\" y el eje z \"Spending Score (1-100)\"\n",
        "# Y el color lo definiremos en torno a nuestra variable \"Gender\" la cual tendremos solo 2 colores ya que esta es una variable binario\n",
        "# De esta manera tendremos a todos nuestros datos en el grafico\n",
        "fig.show() # Llamamos a nuestra figura a través de .show()"
      ]
    },
    {
      "cell_type": "markdown",
      "metadata": {
        "id": "_fKRtpKQCYwx"
      },
      "source": [
        "\n",
        "\n",
        "A partir de este grafico empezamos a analizar nuestros datos, ya que podemos interactuar con este grafico moviendo los ejes, tambien es posible alejarnos y acercarnos.\n",
        "\n",
        "Empece a ver los graficos entre solo 2 ejes de la siguiente manera(Imagenes de ejemplo como iba viendo los ejes):\n",
        "![Spending Score v/s Annual Income](https://i.imgur.com/aGa2Q9L.png)\n",
        "![Spending Score v/s Age](https://i.imgur.com/Aq0jnH1.png)\n",
        "![Annual Income v/s Age](https://i.imgur.com/p9wmGaI.png)\n"
      ]
    },
    {
      "cell_type": "markdown",
      "metadata": {
        "id": "VMm966skHt5C"
      },
      "source": [
        "\n",
        "Para finalizar nuestro análisis tridimensional, podemos darnos una idea inicial de que tanto la edad como el género pueden no ser importantes, más bien, confunden visualmente, e incluso si no lo hubiera hecho por colores, agregariamos una dimensión más, por lo que no seríamos capaces de verlo gráficamente. Aquí se abre una nueva oportunidad de análisis, para poder afirmar lo dicho, podemos graficar los diferentes planos en dos dimensiones."
      ]
    },
    {
      "cell_type": "markdown",
      "metadata": {
        "id": "tOYx2T5xzkZw"
      },
      "source": [
        "#### Graficos Scatter 2D  y Tablas"
      ]
    },
    {
      "cell_type": "markdown",
      "metadata": {
        "id": "xPRgk8AC6Ls4"
      },
      "source": [
        "##### Annual Income v/s Age"
      ]
    },
    {
      "cell_type": "code",
      "execution_count": null,
      "metadata": {
        "colab": {
          "base_uri": "https://localhost:8080/",
          "height": 296
        },
        "id": "WlwI4Gjgt6th",
        "outputId": "3e3f2c7c-445b-413c-fd4c-0c20fcaccf3e"
      },
      "outputs": [
        {
          "data": {
            "text/plain": [
              "Text(0, 0.5, 'Annual Income (k$)')"
            ]
          },
          "execution_count": 2711,
          "metadata": {
            "tags": []
          },
          "output_type": "execute_result"
        },
        {
          "data": {
            "image/png": "[encoded data removed]",
            "text/plain": [
              "<Figure size 432x288 with 1 Axes>"
            ]
          },
          "metadata": {
            "needs_background": "light",
            "tags": []
          },
          "output_type": "display_data"
        }
      ],
      "source": [
        "plt.scatter(DataFrame.Age,DataFrame['Annual Income (k$)']) # A través de la libreria matplotlib llamamos a nuestras columnas \"Age\" y \"Annual Income (k$)\" para hacer un grafico .scatter\n",
        "plt.xlabel('Age') # Definimos nuestro eje x como \"Age\"\n",
        "plt.ylabel('Annual Income (k$)') # Definimos nuestro eje y como \"Annual Income (k$)\"\n"
      ]
    },
    {
      "cell_type": "markdown",
      "metadata": {
        "id": "ZnoZ4NGOO0_a"
      },
      "source": [
        "Se puede ver que en general existe muy poca diferencia entre las personas que tienen distintas edades a la hora de recibir ingresos. Claramente hay casos excepcionales donde se gana más dinero entre los 30 y 50, pero en general a simple vista, en todas las edades se reciben casi lo mismo, y no se puede ver clusters bien definidos. Entonces podemos pensar que la edad no tiene que ver con cuanto ingreso recibe la persona, lo cual concretaré viendo información en tablas.\n"
      ]
    },
    {
      "cell_type": "code",
      "execution_count": null,
      "metadata": {
        "colab": {
          "base_uri": "https://localhost:8080/",
          "height": 226
        },
        "id": "q83Vh5aJ87te",
        "outputId": "cee2d152-b046-4ff6-92d6-9af76cb7ffb1"
      },
      "outputs": [
        {
          "data": {
            "text/html": [
              "<div>\n",
              "<style scoped>\n",
              "    .dataframe tbody tr th:only-of-type {\n",
              "        vertical-align: middle;\n",
              "    }\n",
              "\n",
              "    .dataframe tbody tr th {\n",
              "        vertical-align: top;\n",
              "    }\n",
              "\n",
              "    .dataframe thead th {\n",
              "        text-align: right;\n",
              "    }\n",
              "</style>\n",
              "<table border=\"1\" class=\"dataframe\">\n",
              "  <thead>\n",
              "    <tr style=\"text-align: right;\">\n",
              "      <th></th>\n",
              "      <th>Annual Income (k$)</th>\n",
              "    </tr>\n",
              "    <tr>\n",
              "      <th>Age</th>\n",
              "      <th></th>\n",
              "    </tr>\n",
              "  </thead>\n",
              "  <tbody>\n",
              "    <tr>\n",
              "      <th>18</th>\n",
              "      <td>51.250000</td>\n",
              "    </tr>\n",
              "    <tr>\n",
              "      <th>19</th>\n",
              "      <td>57.000000</td>\n",
              "    </tr>\n",
              "    <tr>\n",
              "      <th>20</th>\n",
              "      <td>41.600000</td>\n",
              "    </tr>\n",
              "    <tr>\n",
              "      <th>21</th>\n",
              "      <td>38.800000</td>\n",
              "    </tr>\n",
              "    <tr>\n",
              "      <th>22</th>\n",
              "      <td>31.333333</td>\n",
              "    </tr>\n",
              "  </tbody>\n",
              "</table>\n",
              "</div>"
            ],
            "text/plain": [
              "     Annual Income (k$)\n",
              "Age                    \n",
              "18            51.250000\n",
              "19            57.000000\n",
              "20            41.600000\n",
              "21            38.800000\n",
              "22            31.333333"
            ]
          },
          "execution_count": 2712,
          "metadata": {
            "tags": []
          },
          "output_type": "execute_result"
        }
      ],
      "source": [
        "#### Llamamos a la funcion .pivot_table, y haremos nuestra tabla pivot con index como Age, con los valores de la columna Annual Income, y como aggfunc pondremos el promedio\n",
        "pivot_DataFrame_AvA = DataFrame.pivot_table(index=['Age'], values='Annual Income (k$)', aggfunc='mean') \n",
        "#LLamamos a nuestro pivot con .head() para que no salgan tantos datos, ver que está ordenado por edades y con sus respectivos promedios\n",
        "pivot_DataFrame_AvA.head()"
      ]
    },
    {
      "cell_type": "code",
      "execution_count": null,
      "metadata": {
        "colab": {
          "base_uri": "https://localhost:8080/",
          "height": 286
        },
        "id": "papS9qLaAJ0N",
        "outputId": "863be242-d68b-4a14-b444-267c8508076a"
      },
      "outputs": [
        {
          "data": {
            "text/html": [
              "<div>\n",
              "<style scoped>\n",
              "    .dataframe tbody tr th:only-of-type {\n",
              "        vertical-align: middle;\n",
              "    }\n",
              "\n",
              "    .dataframe tbody tr th {\n",
              "        vertical-align: top;\n",
              "    }\n",
              "\n",
              "    .dataframe thead th {\n",
              "        text-align: right;\n",
              "    }\n",
              "</style>\n",
              "<table border=\"1\" class=\"dataframe\">\n",
              "  <thead>\n",
              "    <tr style=\"text-align: right;\">\n",
              "      <th></th>\n",
              "      <th>Annual Income (k$)</th>\n",
              "    </tr>\n",
              "  </thead>\n",
              "  <tbody>\n",
              "    <tr>\n",
              "      <th>count</th>\n",
              "      <td>51.000000</td>\n",
              "    </tr>\n",
              "    <tr>\n",
              "      <th>mean</th>\n",
              "      <td>59.321889</td>\n",
              "    </tr>\n",
              "    <tr>\n",
              "      <th>std</th>\n",
              "      <td>15.421103</td>\n",
              "    </tr>\n",
              "    <tr>\n",
              "      <th>min</th>\n",
              "      <td>19.000000</td>\n",
              "    </tr>\n",
              "    <tr>\n",
              "      <th>25%</th>\n",
              "      <td>49.437500</td>\n",
              "    </tr>\n",
              "    <tr>\n",
              "      <th>50%</th>\n",
              "      <td>58.200000</td>\n",
              "    </tr>\n",
              "    <tr>\n",
              "      <th>75%</th>\n",
              "      <td>67.500000</td>\n",
              "    </tr>\n",
              "    <tr>\n",
              "      <th>max</th>\n",
              "      <td>101.000000</td>\n",
              "    </tr>\n",
              "  </tbody>\n",
              "</table>\n",
              "</div>"
            ],
            "text/plain": [
              "       Annual Income (k$)\n",
              "count           51.000000\n",
              "mean            59.321889\n",
              "std             15.421103\n",
              "min             19.000000\n",
              "25%             49.437500\n",
              "50%             58.200000\n",
              "75%             67.500000\n",
              "max            101.000000"
            ]
          },
          "execution_count": 2713,
          "metadata": {
            "tags": []
          },
          "output_type": "execute_result"
        }
      ],
      "source": [
        "pivot_DataFrame_AvA.describe()\n",
        "#Arroja valores claves de cada variable o campo como promedio, cantidad de registros,. porcentil 25%, procentiñl 50%\n",
        "#Ocuparemos esto para ver como están distribuidos los promedios de Annual Income (k$) en torno a las edades(Las cuales están en orden de menor a mayor)"
      ]
    },
    {
      "cell_type": "markdown",
      "metadata": {
        "id": "pNbsXbE7Iulk"
      },
      "source": [
        "Tenemos que la menor edad es 18 y la mayor es 70, y considerando que las edades están ordenadas de menor a mayor, tenemos un rango de 52 entonces el 75% del, tiene un valor de 39 (52 x 0.75) entonces la edad correspondiente es 52(39 + 18) tiene un ingreso menor o igual de 67.5k$.Por lo tanto pertenecerían a las personas con ingreso medio o menor según mi clasificación.\n",
        "\n",
        "Igualmente viendo la desviación estándar podemos decir que está alejada un 30,842%(15.421 x 100 / 50) respecto a la media por lo que debería de ser considerado un valor importante.\n",
        "\n",
        "\n"
      ]
    },
    {
      "cell_type": "code",
      "execution_count": null,
      "metadata": {
        "colab": {
          "base_uri": "https://localhost:8080/",
          "height": 137
        },
        "id": "GzdRORylDEao",
        "outputId": "8b049c00-a186-43df-d7f3-36952b981a57"
      },
      "outputs": [
        {
          "data": {
            "text/html": [
              "<div>\n",
              "<style scoped>\n",
              "    .dataframe tbody tr th:only-of-type {\n",
              "        vertical-align: middle;\n",
              "    }\n",
              "\n",
              "    .dataframe tbody tr th {\n",
              "        vertical-align: top;\n",
              "    }\n",
              "\n",
              "    .dataframe thead th {\n",
              "        text-align: right;\n",
              "    }\n",
              "</style>\n",
              "<table border=\"1\" class=\"dataframe\">\n",
              "  <thead>\n",
              "    <tr style=\"text-align: right;\">\n",
              "      <th></th>\n",
              "      <th>Rangos edad</th>\n",
              "      <th>Promedio por rango Annual Income (k$)</th>\n",
              "    </tr>\n",
              "  </thead>\n",
              "  <tbody>\n",
              "    <tr>\n",
              "      <th>0</th>\n",
              "      <td>18-36</td>\n",
              "      <td>58.713294</td>\n",
              "    </tr>\n",
              "    <tr>\n",
              "      <th>1</th>\n",
              "      <td>37-53</td>\n",
              "      <td>71.834569</td>\n",
              "    </tr>\n",
              "    <tr>\n",
              "      <th>2</th>\n",
              "      <td>54-70</td>\n",
              "      <td>47.800000</td>\n",
              "    </tr>\n",
              "  </tbody>\n",
              "</table>\n",
              "</div>"
            ],
            "text/plain": [
              "  Rangos edad  Promedio por rango Annual Income (k$)\n",
              "0       18-36                              58.713294\n",
              "1       37-53                              71.834569\n",
              "2       54-70                              47.800000"
            ]
          },
          "execution_count": 2714,
          "metadata": {
            "tags": []
          },
          "output_type": "execute_result"
        }
      ],
      "source": [
        "rango_18_36 = 0 # Creamos un contador donde iré sumando los promedios entre los rangos 18-36\n",
        "rango_37_53 = 0 # Creamos un contador donde iré sumando los promedios entre los rangos 37-53\n",
        "rango_54_70 = 0 # Creamos un contador donde iré sumando los promedios entre los rangos 54-70\n",
        "\n",
        "# A través de un ciclo for iremos recorriendo las filas y columnas de mi pivot con el fin de obtener la suma de los promedios\n",
        "# en los rangos definidos para luego sacar sus respectivos promedios\n",
        "\n",
        "for index, row in pivot_DataFrame_AvA.iterrows(): # Desempaqueto las filas y columnas de mi pivot a través de .iterrows()\n",
        "  if index in range(18,37): # Si es que la fila (Age) está entre el rango de [18,...,36] sumamos al contador el valor de su columna \n",
        "    rango_18_36 += (row['Annual Income (k$)'])\n",
        "  elif index in range(37,54):# Si es que la fila (Age) está entre el rango de [36,...,54] sumamos al contador el valor de su columna\n",
        "    rango_37_53 += (row['Annual Income (k$)'])\n",
        "  elif index in range(54,71):# Si es que la fila (Age) está entre el rango de [54,...,71] sumamos al contador el valor de su columna\n",
        "    rango_54_70 += (row['Annual Income (k$)'])\n",
        "# Sacamos el promedio entre los rangos que definimos diviendolos por la diferencia entre los limites de sus rangos, ya qué será el total de edades en ese rango por así decirlo\n",
        "promedio_18_36 = rango_18_30 / (36-18)\n",
        "promedio_37_53 = rango_37_53 / (53-37)\n",
        "promedio_54_70 = rango_54_70 / (70-54)\n",
        "# Creamos un DataFrame a través de la librería pandas, donde definiremos 2 columnas 'Rango edad' y 'Promedio por rango', e incluiremos los respectivos valores que obtuvimos\n",
        "df_promedios_edad = pd.DataFrame({'Rangos edad': ['18-36', '37-53', '54-70'], 'Promedio por rango Annual Income (k$)': [promedio_18_30, promedio_31_50, promedio_51_70]})\n",
        "df_promedios_edad #Llamamos a nuestro DataFrame creado para interpretar los datos"
      ]
    },
    {
      "cell_type": "markdown",
      "metadata": {
        "id": "_U4iXsZINkX2"
      },
      "source": [
        "Podemos ver que entre los rangos de edades que definimos hay un leve cambio entre los promedios de estos, sin embargo creo que no llega a ser significativo pero para salir de la duda tomaremos en cuenta esta variable más adelante en los modelos Cluster."
      ]
    },
    {
      "cell_type": "markdown",
      "metadata": {
        "id": "6vcAqsAo6Tt3"
      },
      "source": [
        "##### Annual Income v/s Gender"
      ]
    },
    {
      "cell_type": "code",
      "execution_count": null,
      "metadata": {
        "colab": {
          "base_uri": "https://localhost:8080/",
          "height": 296
        },
        "id": "3BqbJ6A-zT5W",
        "outputId": "78151ea2-b858-4dcf-e7ec-0c6f0097b2da"
      },
      "outputs": [
        {
          "data": {
            "text/plain": [
              "Text(0, 0.5, 'Annual Income (k$)')"
            ]
          },
          "execution_count": 2715,
          "metadata": {
            "tags": []
          },
          "output_type": "execute_result"
        },
        {
          "data": {
            "image/png": "[encoded data removed]",
            "text/plain": [
              "<Figure size 432x288 with 1 Axes>"
            ]
          },
          "metadata": {
            "needs_background": "light",
            "tags": []
          },
          "output_type": "display_data"
        }
      ],
      "source": [
        "plt.scatter(DataFrame['Gender'],DataFrame['Annual Income (k$)'])# A través de la libreria matplotlib llamamos a nuestras columnas \"Gender\" y \"Annual Income (k$)\" para hacer un gráfico .scatter\n",
        "plt.xlabel('Gender') # Definimos nuestro eje x como \"Gender\"\n",
        "plt.ylabel('Annual Income (k$)') # Definimos nuestro eje y como \"Annual Income (k$)\""
      ]
    },
    {
      "cell_type": "markdown",
      "metadata": {
        "id": "sBM6VZvoTCab"
      },
      "source": [
        "De este gráfico también podemos pensar que independiente del genero, no se puede ver una gran diferencia entre los ingresos que reciben, sin embargo tenemos que tomar en cuenta tambien que no es muy visible la separación de los puntos por lo que concretaré esto en tablas.\n",
        "\n",
        "Igualmente podemos ver que no se pueden ver Clusters bien definidos, claro es visible los grupos entre Hombres y Mujeres, sin embargo sería absurdo hacer un Clusters de estos ya que tenemos estos datos en nuestro DataFrame visibles."
      ]
    },
    {
      "cell_type": "code",
      "execution_count": null,
      "metadata": {
        "colab": {
          "base_uri": "https://localhost:8080/",
          "height": 137
        },
        "id": "ET8pUKMvHxhl",
        "outputId": "cc38dd4d-b56a-46bd-f95c-cee44ef6f535"
      },
      "outputs": [
        {
          "data": {
            "text/html": [
              "<div>\n",
              "<style scoped>\n",
              "    .dataframe tbody tr th:only-of-type {\n",
              "        vertical-align: middle;\n",
              "    }\n",
              "\n",
              "    .dataframe tbody tr th {\n",
              "        vertical-align: top;\n",
              "    }\n",
              "\n",
              "    .dataframe thead th {\n",
              "        text-align: right;\n",
              "    }\n",
              "</style>\n",
              "<table border=\"1\" class=\"dataframe\">\n",
              "  <thead>\n",
              "    <tr style=\"text-align: right;\">\n",
              "      <th></th>\n",
              "      <th>Annual Income (k$)</th>\n",
              "    </tr>\n",
              "    <tr>\n",
              "      <th>Gender</th>\n",
              "      <th></th>\n",
              "    </tr>\n",
              "  </thead>\n",
              "  <tbody>\n",
              "    <tr>\n",
              "      <th>0</th>\n",
              "      <td>59.250000</td>\n",
              "    </tr>\n",
              "    <tr>\n",
              "      <th>1</th>\n",
              "      <td>62.227273</td>\n",
              "    </tr>\n",
              "  </tbody>\n",
              "</table>\n",
              "</div>"
            ],
            "text/plain": [
              "        Annual Income (k$)\n",
              "Gender                    \n",
              "0                59.250000\n",
              "1                62.227273"
            ]
          },
          "execution_count": 2716,
          "metadata": {
            "tags": []
          },
          "output_type": "execute_result"
        }
      ],
      "source": [
        "#### Llamamos a la funcion .pivot_table, y haremos nuestra tabla pivot con index como Gender, con los valores de la columna Annual Income, y como aggfunc pondremos el promedio\n",
        "pivot_DataFrame_AvA = DataFrame.pivot_table(index=['Gender'], values='Annual Income (k$)', aggfunc='mean')\n",
        "#LLamamos a nuestro para ver que está ordenado por Genero y con sus respectivos promedios e interpretarlos\n",
        "pivot_DataFrame_AvA"
      ]
    },
    {
      "cell_type": "markdown",
      "metadata": {
        "id": "7PVc1XbAQpsW"
      },
      "source": [
        "Aquí podemos ver claramente lo que dije anteriormente, los promedios de ingresos anuales por generos varían poco, especificamente 2.45% ((62.23-59.25)/(62.23+59.25)*100) por lo que no tomaremos en cuenta al genero como variable significativa"
      ]
    },
    {
      "cell_type": "markdown",
      "metadata": {
        "id": "cwls7ncP6auJ"
      },
      "source": [
        "##### Spending Score v/s Gender"
      ]
    },
    {
      "cell_type": "code",
      "execution_count": null,
      "metadata": {
        "colab": {
          "base_uri": "https://localhost:8080/",
          "height": 296
        },
        "id": "qxDOM5js1GUC",
        "outputId": "6dba6d2e-8fbe-4aa1-cf35-3c955aee169b"
      },
      "outputs": [
        {
          "data": {
            "text/plain": [
              "Text(0, 0.5, 'Spending Score (1-100)')"
            ]
          },
          "execution_count": 2717,
          "metadata": {
            "tags": []
          },
          "output_type": "execute_result"
        },
        {
          "data": {
            "image/png": "[encoded data removed]",
            "text/plain": [
              "<Figure size 432x288 with 1 Axes>"
            ]
          },
          "metadata": {
            "needs_background": "light",
            "tags": []
          },
          "output_type": "display_data"
        }
      ],
      "source": [
        "plt.scatter(DataFrame['Gender'],DataFrame['Spending Score (1-100)'])# A través de la libreria matplotlib llamamos a nuestras columnas \"Gender\" y \"Spending Score (1-100)\" para hacer un gráfico .scatter\n",
        "plt.xlabel('Gender') # Definimos \"Gender\" como nuestro eje x\n",
        "plt.ylabel('Spending Score (1-100)') # Definimos \"Spending Score (1-100)\" como nuestro eje y"
      ]
    },
    {
      "cell_type": "markdown",
      "metadata": {
        "id": "8YUrQMQ3TL1y"
      },
      "source": [
        "De este gráfico también podemos pensar que independiente del genero, no se puede ver una gran diferencia respecto al porcentaje de gato, sin embargo tenemos que tomar en cuenta tambien que no es muy visible la separación de los puntos por lo que concretaré esto en tablas.\n",
        "\n",
        "Igualmente podemos ver que no se pueden ver Clusters bien definidos, claro es visible los grupos entre Hombres y Mujeres, sin embargo sería absurdo hacer un Clusters de estos ya que tenemos estos datos en nuestro DataFrame visibles."
      ]
    },
    {
      "cell_type": "code",
      "execution_count": null,
      "metadata": {
        "colab": {
          "base_uri": "https://localhost:8080/",
          "height": 137
        },
        "id": "S9xm8HSjH5RJ",
        "outputId": "3b13a68f-46db-4738-eaf8-17a3fd9321e1"
      },
      "outputs": [
        {
          "data": {
            "text/html": [
              "<div>\n",
              "<style scoped>\n",
              "    .dataframe tbody tr th:only-of-type {\n",
              "        vertical-align: middle;\n",
              "    }\n",
              "\n",
              "    .dataframe tbody tr th {\n",
              "        vertical-align: top;\n",
              "    }\n",
              "\n",
              "    .dataframe thead th {\n",
              "        text-align: right;\n",
              "    }\n",
              "</style>\n",
              "<table border=\"1\" class=\"dataframe\">\n",
              "  <thead>\n",
              "    <tr style=\"text-align: right;\">\n",
              "      <th></th>\n",
              "      <th>Spending Score (1-100)</th>\n",
              "    </tr>\n",
              "    <tr>\n",
              "      <th>Gender</th>\n",
              "      <th></th>\n",
              "    </tr>\n",
              "  </thead>\n",
              "  <tbody>\n",
              "    <tr>\n",
              "      <th>0</th>\n",
              "      <td>51.526786</td>\n",
              "    </tr>\n",
              "    <tr>\n",
              "      <th>1</th>\n",
              "      <td>48.511364</td>\n",
              "    </tr>\n",
              "  </tbody>\n",
              "</table>\n",
              "</div>"
            ],
            "text/plain": [
              "        Spending Score (1-100)\n",
              "Gender                        \n",
              "0                    51.526786\n",
              "1                    48.511364"
            ]
          },
          "execution_count": 2718,
          "metadata": {
            "tags": []
          },
          "output_type": "execute_result"
        }
      ],
      "source": [
        "#### Llamamos a la funcion .pivot_table, y haremos nuestra tabla pivot con index como Gender, con los valores de la columna Spending Score, y como aggfunc pondremos el promedio\n",
        "pivot_DataFrame_AvA = DataFrame.pivot_table(index=['Gender'], values='Spending Score (1-100)', aggfunc='mean')\n",
        "#LLamamos a nuestro para ver que está ordenado por Genero y con sus respectivos promedios e interpretarlos\n",
        "pivot_DataFrame_AvA"
      ]
    },
    {
      "cell_type": "markdown",
      "metadata": {
        "id": "GOpPhdzcSXMq"
      },
      "source": [
        "Aquí podemos ver claramente lo que dije anteriormente, los promedios de ingresos anuales por generos varían poco, especificamente 3.01% ((51.53-48.51)/(51.53+48.51)*100) por lo que no tomaremos en cuenta al genero como variable significativa"
      ]
    },
    {
      "cell_type": "markdown",
      "metadata": {
        "id": "cI-2bFpo6lAJ"
      },
      "source": [
        "##### Spending Score v/s Age"
      ]
    },
    {
      "cell_type": "code",
      "execution_count": null,
      "metadata": {
        "colab": {
          "base_uri": "https://localhost:8080/",
          "height": 296
        },
        "id": "Dx-y-4yX5u_M",
        "outputId": "4381b4cb-9112-4828-80a3-65a17c13886f"
      },
      "outputs": [
        {
          "data": {
            "text/plain": [
              "Text(0, 0.5, 'Spending Score (1-100)')"
            ]
          },
          "execution_count": 2719,
          "metadata": {
            "tags": []
          },
          "output_type": "execute_result"
        },
        {
          "data": {
            "image/png": "[encoded data removed]",
            "text/plain": [
              "<Figure size 432x288 with 1 Axes>"
            ]
          },
          "metadata": {
            "needs_background": "light",
            "tags": []
          },
          "output_type": "display_data"
        }
      ],
      "source": [
        "plt.scatter(DataFrame['Age'],DataFrame['Spending Score (1-100)'])# A través de la libreria matplotlib llamamos a nuestras columnas \"Gender\" y \"Spending Score (1-100)\" para hacer un gráfico .scatter\n",
        "plt.xlabel('Age') # Definimos \"Gender\" como nuestro eje x\n",
        "plt.ylabel('Spending Score (1-100)') # Definimos \"Spending Score (1-100)\" como nuestro eje y"
      ]
    },
    {
      "cell_type": "markdown",
      "metadata": {
        "id": "Ka_4XKo0S4az"
      },
      "source": [
        "Podemos ver que los datos están muy dispersos, por lo que es difícil definir Cluster a primera vista, pero en general podemos ver que los Adultos-jovenes según mi definición tienen un gasto medio-alto, los adultos y la edad avanzada tienen gasto medio-bajo, por lo que abriremos una posibilidad de un Cluster con un K = 3 separando los Adultos-Jovenes medio-bajo, medio-altos y los de edad avanzada"
      ]
    },
    {
      "cell_type": "code",
      "execution_count": null,
      "metadata": {
        "colab": {
          "base_uri": "https://localhost:8080/",
          "height": 226
        },
        "id": "Fcu7rhMYIB8Z",
        "outputId": "7c83d441-3794-4885-96df-f31ef772ea4a"
      },
      "outputs": [
        {
          "data": {
            "text/html": [
              "<div>\n",
              "<style scoped>\n",
              "    .dataframe tbody tr th:only-of-type {\n",
              "        vertical-align: middle;\n",
              "    }\n",
              "\n",
              "    .dataframe tbody tr th {\n",
              "        vertical-align: top;\n",
              "    }\n",
              "\n",
              "    .dataframe thead th {\n",
              "        text-align: right;\n",
              "    }\n",
              "</style>\n",
              "<table border=\"1\" class=\"dataframe\">\n",
              "  <thead>\n",
              "    <tr style=\"text-align: right;\">\n",
              "      <th></th>\n",
              "      <th>Spending Score (1-100)</th>\n",
              "    </tr>\n",
              "    <tr>\n",
              "      <th>Age</th>\n",
              "      <th></th>\n",
              "    </tr>\n",
              "  </thead>\n",
              "  <tbody>\n",
              "    <tr>\n",
              "      <th>18</th>\n",
              "      <td>60.00</td>\n",
              "    </tr>\n",
              "    <tr>\n",
              "      <th>19</th>\n",
              "      <td>39.75</td>\n",
              "    </tr>\n",
              "    <tr>\n",
              "      <th>20</th>\n",
              "      <td>40.20</td>\n",
              "    </tr>\n",
              "    <tr>\n",
              "      <th>21</th>\n",
              "      <td>66.80</td>\n",
              "    </tr>\n",
              "    <tr>\n",
              "      <th>22</th>\n",
              "      <td>70.00</td>\n",
              "    </tr>\n",
              "  </tbody>\n",
              "</table>\n",
              "</div>"
            ],
            "text/plain": [
              "     Spending Score (1-100)\n",
              "Age                        \n",
              "18                    60.00\n",
              "19                    39.75\n",
              "20                    40.20\n",
              "21                    66.80\n",
              "22                    70.00"
            ]
          },
          "execution_count": 2720,
          "metadata": {
            "tags": []
          },
          "output_type": "execute_result"
        }
      ],
      "source": [
        "#### Llamamos a la funcion .pivot_table, y haremos nuestra tabla pivot con index como Age, con los valores de la columna Spending Score, y como aggfunc pondremos el promedio\n",
        "pivot_DataFrame_SvA = DataFrame.pivot_table(index=['Age'], values='Spending Score (1-100)', aggfunc='mean')\n",
        "#LLamamos a nuestro para ver que está ordenado por Age y con sus respectivos promedios e interpretarlos\n",
        "pivot_DataFrame_SvA.head()"
      ]
    },
    {
      "cell_type": "code",
      "execution_count": null,
      "metadata": {
        "colab": {
          "base_uri": "https://localhost:8080/",
          "height": 286
        },
        "id": "Cr8P_nQUIJRj",
        "outputId": "36858519-9b4b-4af9-fcf2-ed27f91c4af7"
      },
      "outputs": [
        {
          "data": {
            "text/html": [
              "<div>\n",
              "<style scoped>\n",
              "    .dataframe tbody tr th:only-of-type {\n",
              "        vertical-align: middle;\n",
              "    }\n",
              "\n",
              "    .dataframe tbody tr th {\n",
              "        vertical-align: top;\n",
              "    }\n",
              "\n",
              "    .dataframe thead th {\n",
              "        text-align: right;\n",
              "    }\n",
              "</style>\n",
              "<table border=\"1\" class=\"dataframe\">\n",
              "  <thead>\n",
              "    <tr style=\"text-align: right;\">\n",
              "      <th></th>\n",
              "      <th>Spending Score (1-100)</th>\n",
              "    </tr>\n",
              "  </thead>\n",
              "  <tbody>\n",
              "    <tr>\n",
              "      <th>count</th>\n",
              "      <td>51.000000</td>\n",
              "    </tr>\n",
              "    <tr>\n",
              "      <th>mean</th>\n",
              "      <td>45.548965</td>\n",
              "    </tr>\n",
              "    <tr>\n",
              "      <th>std</th>\n",
              "      <td>18.661743</td>\n",
              "    </tr>\n",
              "    <tr>\n",
              "      <th>min</th>\n",
              "      <td>3.000000</td>\n",
              "    </tr>\n",
              "    <tr>\n",
              "      <th>25%</th>\n",
              "      <td>34.500000</td>\n",
              "    </tr>\n",
              "    <tr>\n",
              "      <th>50%</th>\n",
              "      <td>45.800000</td>\n",
              "    </tr>\n",
              "    <tr>\n",
              "      <th>75%</th>\n",
              "      <td>60.166667</td>\n",
              "    </tr>\n",
              "    <tr>\n",
              "      <th>max</th>\n",
              "      <td>84.666667</td>\n",
              "    </tr>\n",
              "  </tbody>\n",
              "</table>\n",
              "</div>"
            ],
            "text/plain": [
              "       Spending Score (1-100)\n",
              "count               51.000000\n",
              "mean                45.548965\n",
              "std                 18.661743\n",
              "min                  3.000000\n",
              "25%                 34.500000\n",
              "50%                 45.800000\n",
              "75%                 60.166667\n",
              "max                 84.666667"
            ]
          },
          "execution_count": 2721,
          "metadata": {
            "tags": []
          },
          "output_type": "execute_result"
        }
      ],
      "source": [
        "pivot_DataFrame_SvA.describe()\n",
        "#Arroja valores claves de cada variable o campo como promedio, cantidad de registros,. porcentil 25%, procentiñl 50%\n",
        "#Ocuparemos esto para ver como están distribuidos los promedios de \tSpending Score (1-100) en torno a las edades(Las cuales están en orden de menor a mayor)"
      ]
    },
    {
      "cell_type": "markdown",
      "metadata": {
        "id": "je6--tyXczUo"
      },
      "source": [
        "Tenemos que la menor edad es 18 y la mayor es 70, y considerando que las edades están ordenadas de menor a mayor, tenemos un rango de 52 entonces el 75% del, tiene un valor de 39 (52 x 0.75) entonces la edad correspondiente es 52(39 + 18) tiene un porcentaje de gasto menor o igual de 60.17%.Por lo tanto pertenecerían a las personas con porcentaje de gasto medio o menor según mi clasificación.\n",
        "\n",
        "Igualmente viendo la desviación estándar podemos decir que está alejada un 40,1%(15.421 x 100 / 50)aproximadamente respecto a la media por lo que debería de ser considerado un valor importante."
      ]
    },
    {
      "cell_type": "code",
      "execution_count": null,
      "metadata": {
        "colab": {
          "base_uri": "https://localhost:8080/",
          "height": 137
        },
        "id": "6IHtWZL9IdCT",
        "outputId": "cd9824f9-af3b-499f-8c6a-e966cecdefad"
      },
      "outputs": [
        {
          "data": {
            "text/html": [
              "<div>\n",
              "<style scoped>\n",
              "    .dataframe tbody tr th:only-of-type {\n",
              "        vertical-align: middle;\n",
              "    }\n",
              "\n",
              "    .dataframe tbody tr th {\n",
              "        vertical-align: top;\n",
              "    }\n",
              "\n",
              "    .dataframe thead th {\n",
              "        text-align: right;\n",
              "    }\n",
              "</style>\n",
              "<table border=\"1\" class=\"dataframe\">\n",
              "  <thead>\n",
              "    <tr style=\"text-align: right;\">\n",
              "      <th></th>\n",
              "      <th>Rangos edad</th>\n",
              "      <th>Promedio por rango Spending Score (1-100)</th>\n",
              "    </tr>\n",
              "  </thead>\n",
              "  <tbody>\n",
              "    <tr>\n",
              "      <th>0</th>\n",
              "      <td>18-36</td>\n",
              "      <td>58.713294</td>\n",
              "    </tr>\n",
              "    <tr>\n",
              "      <th>1</th>\n",
              "      <td>37-53</td>\n",
              "      <td>71.834569</td>\n",
              "    </tr>\n",
              "    <tr>\n",
              "      <th>2</th>\n",
              "      <td>54-70</td>\n",
              "      <td>47.800000</td>\n",
              "    </tr>\n",
              "  </tbody>\n",
              "</table>\n",
              "</div>"
            ],
            "text/plain": [
              "  Rangos edad  Promedio por rango Spending Score (1-100)\n",
              "0       18-36                                  58.713294\n",
              "1       37-53                                  71.834569\n",
              "2       54-70                                  47.800000"
            ]
          },
          "execution_count": 2722,
          "metadata": {
            "tags": []
          },
          "output_type": "execute_result"
        }
      ],
      "source": [
        "rango_18_36 = 0 # Creamos un contador donde iré sumando los promedios entre los rangos 18-36\n",
        "rango_37_53 = 0 # Creamos un contador donde iré sumando los promedios entre los rangos 37-53\n",
        "rango_54_70 = 0 # Creamos un contador donde iré sumando los promedios entre los rangos 54-70\n",
        "\n",
        "# A través de un ciclo for iremos recorriendo las filas y columnas de mi pivot con el fin de obtener la suma de los promedios\n",
        "# en los rangos definidos para luego sacar sus respectivos promedios\n",
        "\n",
        "for index, row in pivot_DataFrame_SvA.iterrows():# Desempaqueto las filas y columnas de mi pivot a través de .iterrows()\n",
        "  if index in range(18,37): # Si es que la fila (Age) está entre el rango de [18,...,36] sumamos al contador el valor de su columna \n",
        "    rango_18_36 += (row['Spending Score (1-100)'])\n",
        "  elif index in range(37,54): # Si es que la fila (Age) está entre el rango de [37,...,53] sumamos al contador el valor de su columna \n",
        "    rango_37_53 += (row['Spending Score (1-100)'])\n",
        "  elif index in range(54,71): # Si es que la fila (Age) está entre el rango de [54,...,70] sumamos al contador el valor de su columna \n",
        "    rango_54_70 += (row['Spending Score (1-100)'])\n",
        "\n",
        "# Sacamos el promedio entre los rangos que definimos diviendolos por la diferencia entre los limites de sus rangos, ya qué será el total de edades en ese rango por así decirlo\n",
        "\n",
        "promedio_18_36 = rango_18_30 / (36-18)\n",
        "promedio_37_53 = rango_37_53 / (53-37)\n",
        "promedio_54_70 = rango_54_70 / (70-54)\n",
        "\n",
        "# Creamos un DataFrame a través de la librería pandas, donde definiremos 2 columnas 'Rango edad' y 'Promedio por rango', e incluiremos los respectivos valores que obtuvimos\n",
        "\n",
        "df_promedios_edad = pd.DataFrame({'Rangos edad': ['18-36', '37-53', '54-70'], 'Promedio por rango Spending Score (1-100)': [promedio_18_30, promedio_31_50, promedio_51_70]})\n",
        "df_promedios_edad #Llamamos a nuestro DataFrame creado para interpretar los datos"
      ]
    },
    {
      "cell_type": "markdown",
      "metadata": {
        "id": "W9ddrgcTWa7t"
      },
      "source": [
        "Podemos ver que entre los rangos de edades que definimos hay un leve cambio entre los promedios de estos, sin embargo creo que no llega a ser significativo pero para salir de la duda tomaremos en cuenta esta variable más adelante en los modelos Cluster."
      ]
    },
    {
      "cell_type": "markdown",
      "metadata": {
        "id": "r70dtr-46sg3"
      },
      "source": [
        "##### Spending Score v/s Annual Income"
      ]
    },
    {
      "cell_type": "code",
      "execution_count": null,
      "metadata": {
        "colab": {
          "base_uri": "https://localhost:8080/",
          "height": 296
        },
        "id": "I0HjWEzdt8ha",
        "outputId": "3f5e0929-d27c-47b0-ce6a-29297e6102dd"
      },
      "outputs": [
        {
          "data": {
            "text/plain": [
              "Text(0, 0.5, 'Spending Score (1-100)')"
            ]
          },
          "execution_count": 2723,
          "metadata": {
            "tags": []
          },
          "output_type": "execute_result"
        },
        {
          "data": {
            "image/png": "[encoded data removed]",
            "text/plain": [
              "<Figure size 432x288 with 1 Axes>"
            ]
          },
          "metadata": {
            "needs_background": "light",
            "tags": []
          },
          "output_type": "display_data"
        }
      ],
      "source": [
        "plt.scatter(DataFrame['Annual Income (k$)'],DataFrame['Spending Score (1-100)'])# A través de la libreria matplotlib llamamos a nuestras columnas \"Annual Income (k$)\" y \"Spending Score (1-100)\" para hacer un gráfico .scatter\n",
        "plt.xlabel('Annual Income (k$)') # Definimos \"Annual Income (k$)\" como eje x\n",
        "plt.ylabel('Spending Score (1-100)') # Definimos \"Spending Score (1-100)\" como eje y "
      ]
    },
    {
      "cell_type": "markdown",
      "metadata": {
        "id": "umhALZtxLPcE"
      },
      "source": [
        "Y en este gráfico **sí** puede verse una gran diferencia con los anteriores, pues podemos ver concentraciones de puntos a lo largo de los ejes, y al existir estos, podemos encontar posibles combinaciones de clusters, por ejemplo 5."
      ]
    },
    {
      "cell_type": "code",
      "execution_count": null,
      "metadata": {
        "colab": {
          "base_uri": "https://localhost:8080/",
          "height": 226
        },
        "id": "AMJgS_UXK_hb",
        "outputId": "8326c80a-2376-47e2-b3c8-f513b5a64daf"
      },
      "outputs": [
        {
          "data": {
            "text/html": [
              "<div>\n",
              "<style scoped>\n",
              "    .dataframe tbody tr th:only-of-type {\n",
              "        vertical-align: middle;\n",
              "    }\n",
              "\n",
              "    .dataframe tbody tr th {\n",
              "        vertical-align: top;\n",
              "    }\n",
              "\n",
              "    .dataframe thead th {\n",
              "        text-align: right;\n",
              "    }\n",
              "</style>\n",
              "<table border=\"1\" class=\"dataframe\">\n",
              "  <thead>\n",
              "    <tr style=\"text-align: right;\">\n",
              "      <th></th>\n",
              "      <th>Annual Income (k$)</th>\n",
              "    </tr>\n",
              "    <tr>\n",
              "      <th>Spending Score (1-100)</th>\n",
              "      <th></th>\n",
              "    </tr>\n",
              "  </thead>\n",
              "  <tbody>\n",
              "    <tr>\n",
              "      <th>1</th>\n",
              "      <td>78.0</td>\n",
              "    </tr>\n",
              "    <tr>\n",
              "      <th>3</th>\n",
              "      <td>19.0</td>\n",
              "    </tr>\n",
              "    <tr>\n",
              "      <th>4</th>\n",
              "      <td>31.5</td>\n",
              "    </tr>\n",
              "    <tr>\n",
              "      <th>5</th>\n",
              "      <td>63.5</td>\n",
              "    </tr>\n",
              "    <tr>\n",
              "      <th>6</th>\n",
              "      <td>17.0</td>\n",
              "    </tr>\n",
              "  </tbody>\n",
              "</table>\n",
              "</div>"
            ],
            "text/plain": [
              "                        Annual Income (k$)\n",
              "Spending Score (1-100)                    \n",
              "1                                     78.0\n",
              "3                                     19.0\n",
              "4                                     31.5\n",
              "5                                     63.5\n",
              "6                                     17.0"
            ]
          },
          "execution_count": 2724,
          "metadata": {
            "tags": []
          },
          "output_type": "execute_result"
        }
      ],
      "source": [
        "#### Llamamos a la funcion .pivot_table, y haremos nuestra tabla pivot con index como Spending Score (1-100), con los valores de la columna Annual Income (k$), y como aggfunc pondremos el promedio\n",
        "pivot_DataFrame_SSvAI = DataFrame.pivot_table(index=['Spending Score (1-100)'], values='Annual Income (k$)', aggfunc='mean')\n",
        "# Aquí elegimos Spending Score ya que sus valores son parte de un porcentaje del 1-100% por lo que tendríamos filas enteras, e igualmente\n",
        "# si más adelante llamamos a .describe() de este pivot los percentiles serán correspondiente a la fila del porcentaje, por lo que será\n",
        "# mucho más simple el analisis\n",
        "pivot_DataFrame_SSvAI.head()  #Llamamos a nuestro pivot creado para interpretar los datos"
      ]
    },
    {
      "cell_type": "code",
      "execution_count": null,
      "metadata": {
        "colab": {
          "base_uri": "https://localhost:8080/",
          "height": 286
        },
        "id": "FWkd3pWNLngS",
        "outputId": "994b3d76-c387-4181-e349-dcf4f3e96750"
      },
      "outputs": [
        {
          "data": {
            "text/html": [
              "<div>\n",
              "<style scoped>\n",
              "    .dataframe tbody tr th:only-of-type {\n",
              "        vertical-align: middle;\n",
              "    }\n",
              "\n",
              "    .dataframe tbody tr th {\n",
              "        vertical-align: top;\n",
              "    }\n",
              "\n",
              "    .dataframe thead th {\n",
              "        text-align: right;\n",
              "    }\n",
              "</style>\n",
              "<table border=\"1\" class=\"dataframe\">\n",
              "  <thead>\n",
              "    <tr style=\"text-align: right;\">\n",
              "      <th></th>\n",
              "      <th>Annual Income (k$)</th>\n",
              "    </tr>\n",
              "  </thead>\n",
              "  <tbody>\n",
              "    <tr>\n",
              "      <th>count</th>\n",
              "      <td>84.000000</td>\n",
              "    </tr>\n",
              "    <tr>\n",
              "      <th>mean</th>\n",
              "      <td>63.518793</td>\n",
              "    </tr>\n",
              "    <tr>\n",
              "      <th>std</th>\n",
              "      <td>24.542146</td>\n",
              "    </tr>\n",
              "    <tr>\n",
              "      <th>min</th>\n",
              "      <td>17.000000</td>\n",
              "    </tr>\n",
              "    <tr>\n",
              "      <th>25%</th>\n",
              "      <td>48.916667</td>\n",
              "    </tr>\n",
              "    <tr>\n",
              "      <th>50%</th>\n",
              "      <td>60.750000</td>\n",
              "    </tr>\n",
              "    <tr>\n",
              "      <th>75%</th>\n",
              "      <td>78.125000</td>\n",
              "    </tr>\n",
              "    <tr>\n",
              "      <th>max</th>\n",
              "      <td>137.000000</td>\n",
              "    </tr>\n",
              "  </tbody>\n",
              "</table>\n",
              "</div>"
            ],
            "text/plain": [
              "       Annual Income (k$)\n",
              "count           84.000000\n",
              "mean            63.518793\n",
              "std             24.542146\n",
              "min             17.000000\n",
              "25%             48.916667\n",
              "50%             60.750000\n",
              "75%             78.125000\n",
              "max            137.000000"
            ]
          },
          "execution_count": 2725,
          "metadata": {
            "tags": []
          },
          "output_type": "execute_result"
        }
      ],
      "source": [
        "pivot_DataFrame_SSvAI.describe()\n",
        "#Arroja valores claves de cada variable o campo como promedio, cantidad de registros,. porcentil 25%, procentiñl 50%\n",
        "#Ocuparemos esto para ver como varía el porcentaje de spending score en torno a los percentiles y ver como es la desviacion estandar respecto\n",
        "#a la media "
      ]
    },
    {
      "cell_type": "markdown",
      "metadata": {
        "id": "1N0Gk8kWiQsU"
      },
      "source": [
        "Tenemos que nuestras filas corresponden al Spending Score,debido a esto nuestras filas serán valores enteros del 1% al 100%, ordenados de menor a mayor, esto nos facilitará el analisis ya que nuestro percentil 50% corresponderá al 50% de Spending Score, por lo que la gente bajo el 50% de gasto tendrá un ingreso menor o igual al 60k .Por lo que las personas que tengan este porcentaje de gasto o menor pertenecerían a las personas con porcentaje de gasto medio o menor y ingresos medio o menor según mi clasificación.Por lo que podemos decir que la mayoría de los clientes tiende a estar en estos grupos.\n",
        "\n",
        "Igualmente viendo la desviación estándar podemos decir que está alejada un 38,63%(24.542 x 100 / 63.518)aproximadamente respecto a la media por lo que debería de ser considerado un valor importante."
      ]
    },
    {
      "cell_type": "markdown",
      "metadata": {
        "id": "536Vu453XdZL"
      },
      "source": [
        "#### Conclusiones e Hipotesis Graficos - Tablas\n",
        "\n",
        "Luego de analizar mis gráficos y tablas llegamos a la conclusión que la variable “Gender”, es una variable no relevantes la cual más que entregar información, nos entrega confusión al análisis, por lo que será una variable que omitiré al hacer mis clusters. Igualmente pensamos que la variable \"Age\" puede llegar a no ser una variable significativa, debido a que sus datos en los gráficos se encuentran demasiados dispersos(no hay grupos Clusters claros), sin embargo como pudimos ver a través de las tablas hay una variacíon de los datos considerable respecto a esta.\n",
        "\n",
        "Por otra parte nuestras hipótesis en torno a los gráficos es de que nuestras variables significativas serán ‘Spending Score (1-100)’ y ‘Annual Income ($)’. Podemos tomar un valor K-means que puede ser 3, 5 e igualmente probaremos un valor de K-means de 8 para ver como varía si lo aumentamos demasiado, además haremos modelos Cluster en torno a la edad, para ver los resultados de la segmentación y si es que son interpretables los datos.\n",
        "* Para Annual vs Age ocuparemos K = 4\n",
        "* Para Spending vs Age ocuparemos K = 3\n",
        "\n",
        "Ya que estos son los posibles grupos Clusters que vimos en nuestros analisis.\n",
        "\n"
      ]
    },
    {
      "cell_type": "markdown",
      "metadata": {
        "id": "d_qWltzVzehT"
      },
      "source": [
        "## 2. (60%) Desarrollar modelos de segmentación para el dataset de Clientes. Se espera al menos lo siguiente:"
      ]
    },
    {
      "cell_type": "markdown",
      "metadata": {
        "id": "3gPkFM90VoId"
      },
      "source": [
        "### A. Creación de Clusters e interpretación de estos."
      ]
    },
    {
      "cell_type": "markdown",
      "metadata": {
        "id": "hAtvB2BDWMGr"
      },
      "source": [
        "#### Normalizacion\n",
        " Lo primero que realizaremos será normalizar nuestros datos ya que estamos trabajando con distancias "
      ]
    },
    {
      "cell_type": "code",
      "execution_count": null,
      "metadata": {
        "id": "dwwZMVNS6L4z"
      },
      "outputs": [],
      "source": [
        "scaler = MinMaxScaler() # Guardamos la función que nos permitirá normalizar nuestros datos en la variable scaler\n",
        "\n",
        "# Con scaler.fit ajustamos todos nuestros datos a la escala de normalizacion que definimos con la funcíon .fit a través de la variable scaler y llamando a nuestra columna de interes del DataFrame, de la siguiente manera:\n",
        "# scaler.fit(DataFrame[[Columna]])\n",
        "# Luego con scaler.transform, guardamos nuestras variables ya normalizadas en el DataFrame a través de comandos con la librería Pandas de la siguiente manera:\n",
        "# DataFrame[Columna] = scaler.transform(DataFrame[[Columna]])\n",
        "scaler.fit(DataFrame[['Gender']])\n",
        "DataFrame['Gender'] = scaler.transform(DataFrame[['Gender']])\n",
        "scaler.fit(DataFrame[['Age']])\n",
        "DataFrame['Age'] = scaler.transform(DataFrame[['Age']])\n",
        "scaler.fit(DataFrame[['Annual Income (k$)']])\n",
        "DataFrame['Annual Income (k$)'] = scaler.transform(DataFrame[['Annual Income (k$)']])\n",
        "scaler.fit(DataFrame[['Spending Score (1-100)']])\n",
        "DataFrame['Spending Score (1-100)'] = scaler.transform(DataFrame[['Spending Score (1-100)']])\n"
      ]
    },
    {
      "cell_type": "code",
      "execution_count": null,
      "metadata": {
        "colab": {
          "base_uri": "https://localhost:8080/",
          "height": 404
        },
        "id": "v-LjxE6n7YIH",
        "outputId": "8c20852b-f8b8-4eb8-e26d-3452f13c2e13"
      },
      "outputs": [
        {
          "data": {
            "text/html": [
              "<div>\n",
              "<style scoped>\n",
              "    .dataframe tbody tr th:only-of-type {\n",
              "        vertical-align: middle;\n",
              "    }\n",
              "\n",
              "    .dataframe tbody tr th {\n",
              "        vertical-align: top;\n",
              "    }\n",
              "\n",
              "    .dataframe thead th {\n",
              "        text-align: right;\n",
              "    }\n",
              "</style>\n",
              "<table border=\"1\" class=\"dataframe\">\n",
              "  <thead>\n",
              "    <tr style=\"text-align: right;\">\n",
              "      <th></th>\n",
              "      <th>CustomerID</th>\n",
              "      <th>Gender</th>\n",
              "      <th>Age</th>\n",
              "      <th>Annual Income (k$)</th>\n",
              "      <th>Spending Score (1-100)</th>\n",
              "    </tr>\n",
              "  </thead>\n",
              "  <tbody>\n",
              "    <tr>\n",
              "      <th>0</th>\n",
              "      <td>1</td>\n",
              "      <td>1.0</td>\n",
              "      <td>0.019231</td>\n",
              "      <td>0.000000</td>\n",
              "      <td>0.387755</td>\n",
              "    </tr>\n",
              "    <tr>\n",
              "      <th>1</th>\n",
              "      <td>2</td>\n",
              "      <td>1.0</td>\n",
              "      <td>0.057692</td>\n",
              "      <td>0.000000</td>\n",
              "      <td>0.816327</td>\n",
              "    </tr>\n",
              "    <tr>\n",
              "      <th>2</th>\n",
              "      <td>3</td>\n",
              "      <td>0.0</td>\n",
              "      <td>0.038462</td>\n",
              "      <td>0.008197</td>\n",
              "      <td>0.051020</td>\n",
              "    </tr>\n",
              "    <tr>\n",
              "      <th>3</th>\n",
              "      <td>4</td>\n",
              "      <td>0.0</td>\n",
              "      <td>0.096154</td>\n",
              "      <td>0.008197</td>\n",
              "      <td>0.775510</td>\n",
              "    </tr>\n",
              "    <tr>\n",
              "      <th>4</th>\n",
              "      <td>5</td>\n",
              "      <td>0.0</td>\n",
              "      <td>0.250000</td>\n",
              "      <td>0.016393</td>\n",
              "      <td>0.397959</td>\n",
              "    </tr>\n",
              "    <tr>\n",
              "      <th>...</th>\n",
              "      <td>...</td>\n",
              "      <td>...</td>\n",
              "      <td>...</td>\n",
              "      <td>...</td>\n",
              "      <td>...</td>\n",
              "    </tr>\n",
              "    <tr>\n",
              "      <th>195</th>\n",
              "      <td>196</td>\n",
              "      <td>0.0</td>\n",
              "      <td>0.326923</td>\n",
              "      <td>0.860656</td>\n",
              "      <td>0.795918</td>\n",
              "    </tr>\n",
              "    <tr>\n",
              "      <th>196</th>\n",
              "      <td>197</td>\n",
              "      <td>0.0</td>\n",
              "      <td>0.519231</td>\n",
              "      <td>0.909836</td>\n",
              "      <td>0.275510</td>\n",
              "    </tr>\n",
              "    <tr>\n",
              "      <th>197</th>\n",
              "      <td>198</td>\n",
              "      <td>1.0</td>\n",
              "      <td>0.269231</td>\n",
              "      <td>0.909836</td>\n",
              "      <td>0.744898</td>\n",
              "    </tr>\n",
              "    <tr>\n",
              "      <th>198</th>\n",
              "      <td>199</td>\n",
              "      <td>1.0</td>\n",
              "      <td>0.269231</td>\n",
              "      <td>1.000000</td>\n",
              "      <td>0.173469</td>\n",
              "    </tr>\n",
              "    <tr>\n",
              "      <th>199</th>\n",
              "      <td>200</td>\n",
              "      <td>1.0</td>\n",
              "      <td>0.230769</td>\n",
              "      <td>1.000000</td>\n",
              "      <td>0.836735</td>\n",
              "    </tr>\n",
              "  </tbody>\n",
              "</table>\n",
              "<p>200 rows × 5 columns</p>\n",
              "</div>"
            ],
            "text/plain": [
              "     CustomerID  Gender       Age  Annual Income (k$)  Spending Score (1-100)\n",
              "0             1     1.0  0.019231            0.000000                0.387755\n",
              "1             2     1.0  0.057692            0.000000                0.816327\n",
              "2             3     0.0  0.038462            0.008197                0.051020\n",
              "3             4     0.0  0.096154            0.008197                0.775510\n",
              "4             5     0.0  0.250000            0.016393                0.397959\n",
              "..          ...     ...       ...                 ...                     ...\n",
              "195         196     0.0  0.326923            0.860656                0.795918\n",
              "196         197     0.0  0.519231            0.909836                0.275510\n",
              "197         198     1.0  0.269231            0.909836                0.744898\n",
              "198         199     1.0  0.269231            1.000000                0.173469\n",
              "199         200     1.0  0.230769            1.000000                0.836735\n",
              "\n",
              "[200 rows x 5 columns]"
            ]
          },
          "execution_count": 2727,
          "metadata": {
            "tags": []
          },
          "output_type": "execute_result"
        }
      ],
      "source": [
        "DataFrame # Llamamos a nuestro DataFrame para verificar si los datos están guardados como normalizados"
      ]
    },
    {
      "cell_type": "markdown",
      "metadata": {
        "id": "fSiY83Em6sc6"
      },
      "source": [
        "#### Clusters"
      ]
    },
    {
      "cell_type": "markdown",
      "metadata": {
        "id": "eyMLrLr-sl1K"
      },
      "source": [
        "##### Cluster K = 3  Age & Spending Score"
      ]
    },
    {
      "cell_type": "code",
      "execution_count": null,
      "metadata": {
        "colab": {
          "base_uri": "https://localhost:8080/"
        },
        "id": "GIXB1Czsjp0g",
        "outputId": "c13121e7-7c8f-414b-c883-5d0438a07c5d"
      },
      "outputs": [
        {
          "data": {
            "text/plain": [
              "array([2, 0, 2, 0, 2, 0, 2, 0, 1, 0, 1, 0, 1, 0, 2, 0, 2, 0, 1, 0, 2, 0,\n",
              "       2, 0, 1, 0, 2, 0, 2, 0, 1, 0, 1, 0, 2, 0, 2, 0, 2, 0, 1, 0, 1, 0,\n",
              "       1, 0, 1, 0, 2, 2, 1, 0, 0, 1, 1, 1, 1, 1, 0, 1, 1, 0, 1, 1, 1, 0,\n",
              "       1, 1, 0, 2, 1, 1, 1, 1, 1, 0, 1, 2, 0, 1, 1, 0, 1, 1, 0, 1, 1, 0,\n",
              "       0, 1, 1, 2, 1, 2, 2, 0, 1, 0, 1, 0, 2, 1, 1, 0, 1, 2, 1, 1, 1, 1,\n",
              "       1, 0, 2, 0, 0, 0, 1, 1, 1, 1, 0, 2, 0, 0, 2, 0, 2, 0, 1, 0, 2, 0,\n",
              "       2, 0, 2, 0, 2, 0, 2, 0, 1, 0, 2, 0, 2, 0, 1, 0, 2, 0, 2, 0, 2, 0,\n",
              "       2, 0, 2, 0, 2, 0, 1, 0, 2, 0, 1, 0, 2, 0, 2, 0, 2, 0, 2, 0, 1, 0,\n",
              "       1, 0, 1, 0, 2, 0, 2, 0, 2, 0, 1, 0, 2, 0, 2, 0, 2, 0, 2, 0, 2, 0,\n",
              "       2, 0], dtype=int32)"
            ]
          },
          "execution_count": 2728,
          "metadata": {
            "tags": []
          },
          "output_type": "execute_result"
        }
      ],
      "source": [
        "#Tenemos que tomar en cuenta que el modelo ya se encuentra normalizado\n",
        "\n",
        "km = KMeans(n_clusters=3,n_init=10) # Guardamos el modelo K Means en nuestra variable km, donde elegimos un K = 3 y un n_init = 10 ya que nuestro DataFrame cuenta solamente con 200 filas por lo que no necesitaremos un n_init más pequeño(Ya que contamos con un \"buen computador\")  y tampoco un n_init tan grande, porque los 5 conjuntos están bien definidos.\n",
        "\n",
        "#Ajustamos y predecimos, todo con el comando fit_predict\n",
        "y_predicted = km.fit_predict(DataFrame[['Spending Score (1-100)','Age']]) # # Guardamos nuestros centro de cluster y predicciones de indice de cluster para nuestras variables en y_predicted\n",
        "\n",
        "#Visualizamos los cluster creados\n",
        "y_predicted\n"
      ]
    },
    {
      "cell_type": "code",
      "execution_count": null,
      "metadata": {
        "colab": {
          "base_uri": "https://localhost:8080/",
          "height": 196
        },
        "id": "ByVydpBmkd-7",
        "outputId": "0d9e33a4-5059-46f9-8712-ca29f356c4f3"
      },
      "outputs": [
        {
          "data": {
            "text/html": [
              "<div>\n",
              "<style scoped>\n",
              "    .dataframe tbody tr th:only-of-type {\n",
              "        vertical-align: middle;\n",
              "    }\n",
              "\n",
              "    .dataframe tbody tr th {\n",
              "        vertical-align: top;\n",
              "    }\n",
              "\n",
              "    .dataframe thead th {\n",
              "        text-align: right;\n",
              "    }\n",
              "</style>\n",
              "<table border=\"1\" class=\"dataframe\">\n",
              "  <thead>\n",
              "    <tr style=\"text-align: right;\">\n",
              "      <th></th>\n",
              "      <th>CustomerID</th>\n",
              "      <th>Gender</th>\n",
              "      <th>Age</th>\n",
              "      <th>Annual Income (k$)</th>\n",
              "      <th>Spending Score (1-100)</th>\n",
              "      <th>cluster</th>\n",
              "    </tr>\n",
              "  </thead>\n",
              "  <tbody>\n",
              "    <tr>\n",
              "      <th>0</th>\n",
              "      <td>1</td>\n",
              "      <td>1.0</td>\n",
              "      <td>0.019231</td>\n",
              "      <td>0.000000</td>\n",
              "      <td>0.387755</td>\n",
              "      <td>2</td>\n",
              "    </tr>\n",
              "    <tr>\n",
              "      <th>1</th>\n",
              "      <td>2</td>\n",
              "      <td>1.0</td>\n",
              "      <td>0.057692</td>\n",
              "      <td>0.000000</td>\n",
              "      <td>0.816327</td>\n",
              "      <td>0</td>\n",
              "    </tr>\n",
              "    <tr>\n",
              "      <th>2</th>\n",
              "      <td>3</td>\n",
              "      <td>0.0</td>\n",
              "      <td>0.038462</td>\n",
              "      <td>0.008197</td>\n",
              "      <td>0.051020</td>\n",
              "      <td>2</td>\n",
              "    </tr>\n",
              "    <tr>\n",
              "      <th>3</th>\n",
              "      <td>4</td>\n",
              "      <td>0.0</td>\n",
              "      <td>0.096154</td>\n",
              "      <td>0.008197</td>\n",
              "      <td>0.775510</td>\n",
              "      <td>0</td>\n",
              "    </tr>\n",
              "    <tr>\n",
              "      <th>4</th>\n",
              "      <td>5</td>\n",
              "      <td>0.0</td>\n",
              "      <td>0.250000</td>\n",
              "      <td>0.016393</td>\n",
              "      <td>0.397959</td>\n",
              "      <td>2</td>\n",
              "    </tr>\n",
              "  </tbody>\n",
              "</table>\n",
              "</div>"
            ],
            "text/plain": [
              "   CustomerID  Gender  ...  Spending Score (1-100)  cluster\n",
              "0           1     1.0  ...                0.387755        2\n",
              "1           2     1.0  ...                0.816327        0\n",
              "2           3     0.0  ...                0.051020        2\n",
              "3           4     0.0  ...                0.775510        0\n",
              "4           5     0.0  ...                0.397959        2\n",
              "\n",
              "[5 rows x 6 columns]"
            ]
          },
          "execution_count": 2729,
          "metadata": {
            "tags": []
          },
          "output_type": "execute_result"
        }
      ],
      "source": [
        "DataFrame['cluster']=y_predicted # Añadimos los indices de clusters que predecimos a nuestro DataFrame como la columna \"Clusters\"\n",
        "DataFrame.head()# Llamamos a nuestro DataFrame para visualizar como queda al agregar nuestros indices de clusters"
      ]
    },
    {
      "cell_type": "code",
      "execution_count": null,
      "metadata": {
        "colab": {
          "base_uri": "https://localhost:8080/"
        },
        "id": "z9DGeDntlJek",
        "outputId": "cd400f43-d503-4ade-e46a-059290406647"
      },
      "outputs": [
        {
          "data": {
            "text/plain": [
              "array([[0.73961585, 0.20565611],\n",
              "       [0.40108624, 0.7323201 ],\n",
              "       [0.23912206, 0.32656023]])"
            ]
          },
          "execution_count": 2730,
          "metadata": {
            "tags": []
          },
          "output_type": "execute_result"
        }
      ],
      "source": [
        "# A través de .cluster_centers llamamos a nuestro modelo que guardamos en la variable \"km\" y le pedimos que nos muestra las coordenadas(X,Y) de estos\n",
        "km.cluster_centers_ "
      ]
    },
    {
      "cell_type": "markdown",
      "metadata": {
        "id": "MlfjY7Qulre7"
      },
      "source": [
        "De aquí podemos interpretar que nuestros clusters center están bien definidos ya que el número de puntos es igual al valor de K-means que le asignamos a este ajuste(3)"
      ]
    },
    {
      "cell_type": "code",
      "execution_count": null,
      "metadata": {
        "colab": {
          "base_uri": "https://localhost:8080/"
        },
        "id": "A_TCjev9lkoM",
        "outputId": "f1440fcc-0376-4082-c239-7e0f03c5fefd"
      },
      "outputs": [
        {
          "data": {
            "text/plain": [
              "9"
            ]
          },
          "execution_count": 2731,
          "metadata": {
            "tags": []
          },
          "output_type": "execute_result"
        }
      ],
      "source": [
        "# Número de iteraciones que corrió el modelo hasta llegar al óptimo\n",
        "km.n_iter_"
      ]
    },
    {
      "cell_type": "code",
      "execution_count": null,
      "metadata": {
        "colab": {
          "base_uri": "https://localhost:8080/",
          "height": 565
        },
        "id": "vmPNsCOq3fFd",
        "outputId": "55f2b7cf-f845-4b18-cd26-24f82eba0582"
      },
      "outputs": [
        {
          "data": {
            "text/plain": [
              "<matplotlib.legend.Legend at 0x7efd43ecf400>"
            ]
          },
          "execution_count": 2732,
          "metadata": {
            "tags": []
          },
          "output_type": "execute_result"
        },
        {
          "data": {
            "image/png": "[encoded data removed]",
            "text/plain": [
              "<Figure size 640x640 with 1 Axes>"
            ]
          },
          "metadata": {
            "needs_background": "light",
            "tags": []
          },
          "output_type": "display_data"
        }
      ],
      "source": [
        "#Guardamos cada Cluster en un DataFrame por separado de la manera:\n",
        "# dfx = DataFrame[DataFrame.cluster==x]\n",
        "df1 = DataFrame[DataFrame.cluster==0]\n",
        "df2 = DataFrame[DataFrame.cluster==1]\n",
        "df3 = DataFrame[DataFrame.cluster==2]\n",
        "\n",
        "\n",
        "\n",
        "plt.figure(figsize=(8, 8), dpi=80) # Creamos una figura para visualizar los puntos\n",
        "\n",
        "# Graficamos cada uno de los DataFrame creados anteriormente con la función de dispersion plt.scatter y le asignamos un color a cada uno, de la siguiente manera:\n",
        "# plt.scatter(dfx[Columna1], dfx[Columna2], color = 'color', label = 'x' )\n",
        "\n",
        "plt.scatter(df1['Age'],df1['Spending Score (1-100)'],color='green', label='0')\n",
        "plt.scatter(df2['Age'],df2['Spending Score (1-100)'],color='red', label='1')\n",
        "plt.scatter(df3['Age'],df3['Spending Score (1-100)'],color='cyan', label='2')\n",
        "\n",
        "# Incoporamos a nuestro gráfico a partir de la misma función de dispersion anterior los cluster centers que llamamos anteriormente\n",
        "plt.scatter(km.cluster_centers_[:,0],km.cluster_centers_[:,1],color='purple',marker='*',label='centroid', s=200)\n",
        "\n",
        "plt.xlabel('Age') # Definimos \"Age\" como nuestro eje x\n",
        "plt.ylabel('Spending Score (1-100)') # Definimos \"Spending Score (1-100)\" como nuestro eje y\n",
        "\n",
        "# Llamamos a nuestra leyenda(gráfico)\n",
        "plt.legend()"
      ]
    },
    {
      "cell_type": "code",
      "execution_count": null,
      "metadata": {
        "colab": {
          "base_uri": "https://localhost:8080/"
        },
        "id": "9khiQPB3nhmF",
        "outputId": "1c8e95f5-4564-4b0e-cc4f-a909da47026c"
      },
      "outputs": [
        {
          "data": {
            "text/plain": [
              "8.742042168276534"
            ]
          },
          "execution_count": 2733,
          "metadata": {
            "tags": []
          },
          "output_type": "execute_result"
        }
      ],
      "source": [
        "#SSE\n",
        "km.inertia_ "
      ]
    },
    {
      "cell_type": "markdown",
      "metadata": {
        "id": "VSoxNOd41jIM"
      },
      "source": [
        "###### Interpretación\n",
        "**Pondré una imagen de los Cluster que visualizé  con el fin de no confundir los colores y dar una mejor interpretación**"
      ]
    },
    {
      "cell_type": "markdown",
      "metadata": {
        "id": "pmHHIjO9o93J"
      },
      "source": [
        "![Spending vs Age](https://i.imgur.com/2RUUPxU.png)"
      ]
    },
    {
      "cell_type": "markdown",
      "metadata": {
        "id": "B8xhttflpDQN"
      },
      "source": [
        "Por un lado tenemos la edad y el gasto porcentual, podríamos definir 3 pero con errores que nos anticipan que este iteración no nos servirá, ya que el conjunto formado por los jóvenes-adultos que tienen un gasto bajo, también contiene a los adultos, por lo que la clasificación sería incoherente."
      ]
    },
    {
      "cell_type": "markdown",
      "metadata": {
        "id": "gz_bdhbDwbgX"
      },
      "source": [
        "##### Cluster K = 4 Age & Annual Income"
      ]
    },
    {
      "cell_type": "code",
      "execution_count": null,
      "metadata": {
        "colab": {
          "base_uri": "https://localhost:8080/"
        },
        "id": "0HeIwUwcsqhm",
        "outputId": "df3b9097-4c99-4d35-8156-2d11ca816d87"
      },
      "outputs": [
        {
          "data": {
            "text/plain": [
              "array([0, 0, 0, 0, 0, 0, 0, 0, 2, 0, 2, 0, 2, 0, 0, 0, 0, 0, 2, 0, 0, 0,\n",
              "       2, 0, 2, 0, 2, 0, 0, 0, 2, 0, 2, 0, 2, 0, 0, 0, 0, 0, 2, 0, 2, 0,\n",
              "       2, 0, 2, 0, 0, 0, 2, 0, 0, 2, 2, 2, 2, 2, 0, 2, 2, 3, 2, 2, 2, 3,\n",
              "       2, 2, 3, 0, 2, 2, 2, 2, 2, 3, 2, 1, 3, 2, 2, 3, 2, 2, 3, 2, 2, 3,\n",
              "       3, 2, 2, 3, 2, 1, 3, 3, 2, 3, 2, 3, 3, 2, 2, 3, 2, 3, 2, 2, 2, 2,\n",
              "       2, 3, 1, 3, 3, 3, 2, 2, 2, 2, 3, 1, 1, 1, 3, 3, 1, 1, 2, 1, 1, 1,\n",
              "       3, 3, 3, 3, 1, 3, 3, 1, 2, 3, 3, 3, 3, 3, 1, 1, 1, 1, 1, 1, 1, 1,\n",
              "       1, 3, 1, 3, 1, 3, 2, 3, 3, 1, 1, 1, 1, 1, 1, 1, 1, 3, 1, 1, 1, 1,\n",
              "       2, 3, 2, 1, 1, 1, 1, 1, 1, 1, 1, 1, 1, 1, 1, 1, 1, 1, 1, 1, 1, 1,\n",
              "       1, 1], dtype=int32)"
            ]
          },
          "execution_count": 2734,
          "metadata": {
            "tags": []
          },
          "output_type": "execute_result"
        }
      ],
      "source": [
        "#Tenemos que tomar en cuenta que el modelo ya se encuentra normalizado\n",
        "\n",
        "km = KMeans(n_clusters=4,n_init=10) # Guardamos el modelo K Means en nuestra variable km, donde elegimos un K = 4 y un n_init = 10 ya que nuestro DataFrame cuenta solamente con 200 filas por lo que no necesitaremos un n_init más pequeño(Ya que contamos con un \"buen computador\")  y tampoco un n_init tan grande, porque los 5 conjuntos están bien definidos.\n",
        "\n",
        "#Ajustamos y predecimos, todo con el comando fit_predict\n",
        "y_predicted = km.fit_predict(DataFrame[['Age','Annual Income (k$)']]) # # Guardamos nuestros centro de cluster y predicciones de indice de cluster para nuestras variables en y_predicted\n",
        "\n",
        "#Visualizamos los cluster creados\n",
        "y_predicted\n"
      ]
    },
    {
      "cell_type": "code",
      "execution_count": null,
      "metadata": {
        "colab": {
          "base_uri": "https://localhost:8080/",
          "height": 196
        },
        "id": "FrmzPFYPsqhs",
        "outputId": "ced875ed-3187-4c71-ce29-4fbcc793240e"
      },
      "outputs": [
        {
          "data": {
            "text/html": [
              "<div>\n",
              "<style scoped>\n",
              "    .dataframe tbody tr th:only-of-type {\n",
              "        vertical-align: middle;\n",
              "    }\n",
              "\n",
              "    .dataframe tbody tr th {\n",
              "        vertical-align: top;\n",
              "    }\n",
              "\n",
              "    .dataframe thead th {\n",
              "        text-align: right;\n",
              "    }\n",
              "</style>\n",
              "<table border=\"1\" class=\"dataframe\">\n",
              "  <thead>\n",
              "    <tr style=\"text-align: right;\">\n",
              "      <th></th>\n",
              "      <th>CustomerID</th>\n",
              "      <th>Gender</th>\n",
              "      <th>Age</th>\n",
              "      <th>Annual Income (k$)</th>\n",
              "      <th>Spending Score (1-100)</th>\n",
              "      <th>cluster</th>\n",
              "    </tr>\n",
              "  </thead>\n",
              "  <tbody>\n",
              "    <tr>\n",
              "      <th>0</th>\n",
              "      <td>1</td>\n",
              "      <td>1.0</td>\n",
              "      <td>0.019231</td>\n",
              "      <td>0.000000</td>\n",
              "      <td>0.387755</td>\n",
              "      <td>0</td>\n",
              "    </tr>\n",
              "    <tr>\n",
              "      <th>1</th>\n",
              "      <td>2</td>\n",
              "      <td>1.0</td>\n",
              "      <td>0.057692</td>\n",
              "      <td>0.000000</td>\n",
              "      <td>0.816327</td>\n",
              "      <td>0</td>\n",
              "    </tr>\n",
              "    <tr>\n",
              "      <th>2</th>\n",
              "      <td>3</td>\n",
              "      <td>0.0</td>\n",
              "      <td>0.038462</td>\n",
              "      <td>0.008197</td>\n",
              "      <td>0.051020</td>\n",
              "      <td>0</td>\n",
              "    </tr>\n",
              "    <tr>\n",
              "      <th>3</th>\n",
              "      <td>4</td>\n",
              "      <td>0.0</td>\n",
              "      <td>0.096154</td>\n",
              "      <td>0.008197</td>\n",
              "      <td>0.775510</td>\n",
              "      <td>0</td>\n",
              "    </tr>\n",
              "    <tr>\n",
              "      <th>4</th>\n",
              "      <td>5</td>\n",
              "      <td>0.0</td>\n",
              "      <td>0.250000</td>\n",
              "      <td>0.016393</td>\n",
              "      <td>0.397959</td>\n",
              "      <td>0</td>\n",
              "    </tr>\n",
              "  </tbody>\n",
              "</table>\n",
              "</div>"
            ],
            "text/plain": [
              "   CustomerID  Gender  ...  Spending Score (1-100)  cluster\n",
              "0           1     1.0  ...                0.387755        0\n",
              "1           2     1.0  ...                0.816327        0\n",
              "2           3     0.0  ...                0.051020        0\n",
              "3           4     0.0  ...                0.775510        0\n",
              "4           5     0.0  ...                0.397959        0\n",
              "\n",
              "[5 rows x 6 columns]"
            ]
          },
          "execution_count": 2735,
          "metadata": {
            "tags": []
          },
          "output_type": "execute_result"
        }
      ],
      "source": [
        "DataFrame['cluster']=y_predicted # Añadimos los indices de clusters que predecimos a nuestro DataFrame como la columna \"Clusters\"\n",
        "DataFrame.head()# Llamamos a nuestro DataFrame para visualizar como queda al agregar nuestros indices de clusters"
      ]
    },
    {
      "cell_type": "code",
      "execution_count": null,
      "metadata": {
        "colab": {
          "base_uri": "https://localhost:8080/"
        },
        "id": "tO6QXvkesqht",
        "outputId": "fc7402dc-6763-4d6e-9efe-12083f6edab9"
      },
      "outputs": [
        {
          "data": {
            "text/plain": [
              "array([[0.19567308, 0.10963115],\n",
              "       [0.38663968, 0.60497555],\n",
              "       [0.72982346, 0.29427573],\n",
              "       [0.13827839, 0.42544887]])"
            ]
          },
          "execution_count": 2736,
          "metadata": {
            "tags": []
          },
          "output_type": "execute_result"
        }
      ],
      "source": [
        "# A través de .cluster_centers llamamos a nuestro modelo que guardamos en la variable \"km\" y le pedimos que nos muestra las coordenadas(X,Y) de estos\n",
        "km.cluster_centers_ "
      ]
    },
    {
      "cell_type": "markdown",
      "metadata": {
        "id": "NipV1JEbsqht"
      },
      "source": [
        "De aquí podemos interpretar que nuestros clusters center están bien definidos ya que el número de puntos es igual al valor de K-means que le asignamos a este ajuste(4)"
      ]
    },
    {
      "cell_type": "code",
      "execution_count": null,
      "metadata": {
        "colab": {
          "base_uri": "https://localhost:8080/"
        },
        "id": "NlUrrH5usqhu",
        "outputId": "f1165fda-de09-4c29-b240-99e7d0c24a1e"
      },
      "outputs": [
        {
          "data": {
            "text/plain": [
              "7"
            ]
          },
          "execution_count": 2737,
          "metadata": {
            "tags": []
          },
          "output_type": "execute_result"
        }
      ],
      "source": [
        "# Número de iteraciones que corrió el modelo hasta llegar al óptimo\n",
        "km.n_iter_"
      ]
    },
    {
      "cell_type": "code",
      "execution_count": null,
      "metadata": {
        "colab": {
          "base_uri": "https://localhost:8080/",
          "height": 565
        },
        "id": "dAWxNOErsqhu",
        "outputId": "79dab862-dfc2-49b2-b7f8-4bbd7514db86"
      },
      "outputs": [
        {
          "data": {
            "text/plain": [
              "<matplotlib.legend.Legend at 0x7efd493f4048>"
            ]
          },
          "execution_count": 2738,
          "metadata": {
            "tags": []
          },
          "output_type": "execute_result"
        },
        {
          "data": {
            "image/png": "[encoded data removed]",
            "text/plain": [
              "<Figure size 640x640 with 1 Axes>"
            ]
          },
          "metadata": {
            "needs_background": "light",
            "tags": []
          },
          "output_type": "display_data"
        }
      ],
      "source": [
        "#Guardamos cada Cluster en un DataFrame por separado de la manera:\n",
        "# dfx = DataFrame[DataFrame.cluster==x]\n",
        "df1 = DataFrame[DataFrame.cluster==0]\n",
        "df2 = DataFrame[DataFrame.cluster==1]\n",
        "df3 = DataFrame[DataFrame.cluster==2]\n",
        "df4 = DataFrame[DataFrame.cluster==3]\n",
        "\n",
        "plt.figure(figsize=(8, 8), dpi=80) # Creamos una figura para visualizar los puntos\n",
        "\n",
        "# Graficamos cada uno de los DataFrame creados anteriormente con la función de dispersion plt.scatter y le asignamos un color a cada uno, de la siguiente manera:\n",
        "# plt.scatter(dfx[Columna1], dfx[Columna2], color = 'color', label = 'x' )\n",
        "plt.scatter(df1['Age'],df1['Annual Income (k$)'],color='green', label='0')\n",
        "plt.scatter(df2['Age'],df2['Annual Income (k$)'],color='red', label='1')\n",
        "plt.scatter(df3['Age'],df3['Annual Income (k$)'],color='black', label='2')\n",
        "plt.scatter(df4['Age'],df4['Annual Income (k$)'],color='yellow', label='3')\n",
        "\n",
        "\n",
        "# Incoporamos a nuestro gráfico a partir de la misma función de dispersion anterior los cluster centers que llamamos anteriormente\n",
        "plt.scatter(km.cluster_centers_[:,0],km.cluster_centers_[:,1],color='purple',marker='*',label='centroid', s=200)\n",
        "\n",
        "plt.xlabel('Age') # Definimos \"Age\" como nuestro eje x\n",
        "plt.ylabel('Annual Income (k$)') # Definimos \"Annual Income (k$)\" como nuestro eje y\n",
        "\n",
        "# Llamamos a nuestra leyenda(gráfico)\n",
        "plt.legend()"
      ]
    },
    {
      "cell_type": "code",
      "execution_count": null,
      "metadata": {
        "colab": {
          "base_uri": "https://localhost:8080/"
        },
        "id": "3SIny-Bpsqhu",
        "outputId": "315b5eb0-a614-4fc1-8ea2-2380cdf49c42"
      },
      "outputs": [
        {
          "data": {
            "text/plain": [
              "6.055824667599625"
            ]
          },
          "execution_count": 2739,
          "metadata": {
            "tags": []
          },
          "output_type": "execute_result"
        }
      ],
      "source": [
        "#SSE\n",
        "km.inertia_ "
      ]
    },
    {
      "cell_type": "markdown",
      "metadata": {
        "id": "wOw2DKu1sqhv"
      },
      "source": [
        "En esta distribución de los clusterings, la distancia a los centros de masas es bastante grande, de hecho esperaba que se generaran grupos de altos gastos, gastos medios y gastos bajos, pero en esta configuración, no se puede definir un grupo similar, y que sean distintos entre si. Por ejemplo, en el cluster verde, podriamos definir a los que gastan mucho y ganan poco, pero también en ese mismo grupo hay varios que ganan poco y tienen un gasto medio, lo que nos llevaria a una contradicción."
      ]
    },
    {
      "cell_type": "markdown",
      "metadata": {
        "id": "lXlTPpMW1sT8"
      },
      "source": [
        "###### Interpretación\n",
        "**Pondré una imagen de los Cluster que visualizé  con el fin de no confundir los colores y dar una mejor interpretación**"
      ]
    },
    {
      "cell_type": "markdown",
      "metadata": {
        "id": "_d9bE-oTpYc5"
      },
      "source": [
        "![Annual vs Age](https://i.imgur.com/1VFP8Dk.png)"
      ]
    },
    {
      "cell_type": "markdown",
      "metadata": {
        "id": "3xPkho_tk1a5"
      },
      "source": [
        "En esta ocasión tenemos la edad y los ingresos anuales, aquí podemos definir 4 grupos más claros, los jóvenes-adultos que reciben poco ingresos(verde), los jóvenes-adultos que tienen un gasto medio(amarillo), los adultos que reciben ingresos medios-altos(rojo) y los que tienen edad avanzada que reciben unos ingresos medios-bajo(negro), pero aún así, como vista general, los clusters están muy próximos, por lo que deberíamos pasar a usar otras herramientas para ver si este modelo es óptimo."
      ]
    },
    {
      "cell_type": "markdown",
      "metadata": {
        "id": "a40pC58Fwdmh"
      },
      "source": [
        "##### Cluster K = 3 Spending Score & Annual Income"
      ]
    },
    {
      "cell_type": "code",
      "execution_count": null,
      "metadata": {
        "colab": {
          "base_uri": "https://localhost:8080/"
        },
        "id": "_u6P716wwdmi",
        "outputId": "f6eac5a8-db0c-4acb-8325-92158c97079b"
      },
      "outputs": [
        {
          "data": {
            "text/plain": [
              "array([0, 0, 1, 0, 0, 0, 1, 0, 1, 0, 1, 0, 1, 0, 1, 0, 0, 0, 0, 0, 0, 0,\n",
              "       1, 0, 1, 0, 0, 0, 0, 0, 1, 0, 1, 0, 1, 0, 1, 0, 0, 0, 0, 0, 0, 0,\n",
              "       0, 0, 0, 0, 0, 0, 0, 0, 0, 0, 0, 0, 0, 0, 0, 0, 0, 0, 0, 0, 0, 0,\n",
              "       0, 0, 0, 0, 0, 0, 0, 0, 0, 0, 0, 0, 0, 0, 0, 0, 0, 0, 0, 0, 0, 0,\n",
              "       0, 0, 0, 0, 0, 0, 0, 0, 0, 0, 0, 0, 0, 0, 0, 0, 0, 0, 0, 0, 0, 0,\n",
              "       0, 0, 0, 0, 0, 0, 0, 0, 0, 0, 0, 0, 0, 2, 1, 2, 1, 2, 1, 2, 1, 2,\n",
              "       1, 2, 1, 2, 1, 2, 1, 2, 1, 2, 1, 2, 1, 2, 1, 2, 1, 2, 1, 2, 1, 2,\n",
              "       1, 2, 1, 2, 1, 2, 1, 2, 1, 2, 1, 2, 1, 2, 1, 2, 1, 2, 1, 2, 1, 2,\n",
              "       1, 2, 1, 2, 1, 2, 1, 2, 1, 2, 1, 2, 1, 2, 1, 2, 1, 2, 1, 2, 1, 2,\n",
              "       1, 2], dtype=int32)"
            ]
          },
          "execution_count": 2740,
          "metadata": {
            "tags": []
          },
          "output_type": "execute_result"
        }
      ],
      "source": [
        "#Tenemos que tomar en cuenta que el modelo ya se encuentra normalizado\n",
        "\n",
        "km = KMeans(n_clusters=3,n_init=10) # Guardamos el modelo K Means en nuestra variable km, donde elegimos un K = 5 y un n_init = 10 ya que nuestro DataFrame cuenta solamente con 200 filas por lo que no necesitaremos un n_init más pequeño(Ya que contamos con un \"buen computador\")  y tampoco un n_init tan grande, porque los 5 conjuntos están bien definidos.\n",
        "\n",
        "#Ajustamos y predecimos, todo con el comando fit_predict\n",
        "y_predicted = km.fit_predict(DataFrame[['Annual Income (k$)','Spending Score (1-100)']]) # # Guardamos nuestros centro de cluster y predicciones de indice de cluster para nuestras variables en y_predicted\n",
        "\n",
        "#Visualizamos los cluster creados\n",
        "y_predicted\n"
      ]
    },
    {
      "cell_type": "code",
      "execution_count": null,
      "metadata": {
        "colab": {
          "base_uri": "https://localhost:8080/",
          "height": 196
        },
        "id": "uU-TCsP4wdmq",
        "outputId": "73952cbf-04e5-4a03-b36a-0912845062b1"
      },
      "outputs": [
        {
          "data": {
            "text/html": [
              "<div>\n",
              "<style scoped>\n",
              "    .dataframe tbody tr th:only-of-type {\n",
              "        vertical-align: middle;\n",
              "    }\n",
              "\n",
              "    .dataframe tbody tr th {\n",
              "        vertical-align: top;\n",
              "    }\n",
              "\n",
              "    .dataframe thead th {\n",
              "        text-align: right;\n",
              "    }\n",
              "</style>\n",
              "<table border=\"1\" class=\"dataframe\">\n",
              "  <thead>\n",
              "    <tr style=\"text-align: right;\">\n",
              "      <th></th>\n",
              "      <th>CustomerID</th>\n",
              "      <th>Gender</th>\n",
              "      <th>Age</th>\n",
              "      <th>Annual Income (k$)</th>\n",
              "      <th>Spending Score (1-100)</th>\n",
              "      <th>cluster</th>\n",
              "    </tr>\n",
              "  </thead>\n",
              "  <tbody>\n",
              "    <tr>\n",
              "      <th>0</th>\n",
              "      <td>1</td>\n",
              "      <td>1.0</td>\n",
              "      <td>0.019231</td>\n",
              "      <td>0.000000</td>\n",
              "      <td>0.387755</td>\n",
              "      <td>0</td>\n",
              "    </tr>\n",
              "    <tr>\n",
              "      <th>1</th>\n",
              "      <td>2</td>\n",
              "      <td>1.0</td>\n",
              "      <td>0.057692</td>\n",
              "      <td>0.000000</td>\n",
              "      <td>0.816327</td>\n",
              "      <td>0</td>\n",
              "    </tr>\n",
              "    <tr>\n",
              "      <th>2</th>\n",
              "      <td>3</td>\n",
              "      <td>0.0</td>\n",
              "      <td>0.038462</td>\n",
              "      <td>0.008197</td>\n",
              "      <td>0.051020</td>\n",
              "      <td>1</td>\n",
              "    </tr>\n",
              "    <tr>\n",
              "      <th>3</th>\n",
              "      <td>4</td>\n",
              "      <td>0.0</td>\n",
              "      <td>0.096154</td>\n",
              "      <td>0.008197</td>\n",
              "      <td>0.775510</td>\n",
              "      <td>0</td>\n",
              "    </tr>\n",
              "    <tr>\n",
              "      <th>4</th>\n",
              "      <td>5</td>\n",
              "      <td>0.0</td>\n",
              "      <td>0.250000</td>\n",
              "      <td>0.016393</td>\n",
              "      <td>0.397959</td>\n",
              "      <td>0</td>\n",
              "    </tr>\n",
              "  </tbody>\n",
              "</table>\n",
              "</div>"
            ],
            "text/plain": [
              "   CustomerID  Gender  ...  Spending Score (1-100)  cluster\n",
              "0           1     1.0  ...                0.387755        0\n",
              "1           2     1.0  ...                0.816327        0\n",
              "2           3     0.0  ...                0.051020        1\n",
              "3           4     0.0  ...                0.775510        0\n",
              "4           5     0.0  ...                0.397959        0\n",
              "\n",
              "[5 rows x 6 columns]"
            ]
          },
          "execution_count": 2741,
          "metadata": {
            "tags": []
          },
          "output_type": "execute_result"
        }
      ],
      "source": [
        "DataFrame['cluster']=y_predicted # Añadimos los indices de clusters que predecimos a nuestro DataFrame como la columna \"Clusters\"\n",
        "DataFrame.head()# Llamamos a nuestro DataFrame para visualizar como queda al agregar nuestros indices de clusters"
      ]
    },
    {
      "cell_type": "code",
      "execution_count": null,
      "metadata": {
        "colab": {
          "base_uri": "https://localhost:8080/"
        },
        "id": "ZFmWhLKHwdmr",
        "outputId": "2c19a969-1082-4976-d0b1-f525e4cdbef1"
      },
      "outputs": [
        {
          "data": {
            "text/plain": [
              "array([[0.25631369, 0.5426549 ],\n",
              "       [0.46737705, 0.1577551 ],\n",
              "       [0.58638083, 0.82783883]])"
            ]
          },
          "execution_count": 2742,
          "metadata": {
            "tags": []
          },
          "output_type": "execute_result"
        }
      ],
      "source": [
        "# A través de .cluster_centers llamamos a nuestro modelo que guardamos en la variable \"km\" y le pedimos que nos muestra las coordenadas(X,Y) de estos\n",
        "km.cluster_centers_ "
      ]
    },
    {
      "cell_type": "markdown",
      "metadata": {
        "id": "bvlsZXRowdmr"
      },
      "source": [
        "De aquí podemos interpretar que nuestros clusters center están bien definidos ya que el número de puntos es igual al valor de K-means que le asignamos a este ajuste(3)"
      ]
    },
    {
      "cell_type": "code",
      "execution_count": null,
      "metadata": {
        "colab": {
          "base_uri": "https://localhost:8080/"
        },
        "id": "1cjhn2SXwdmr",
        "outputId": "d9df150c-0906-4478-8bc0-e281d371ecac"
      },
      "outputs": [
        {
          "data": {
            "text/plain": [
              "8"
            ]
          },
          "execution_count": 2743,
          "metadata": {
            "tags": []
          },
          "output_type": "execute_result"
        }
      ],
      "source": [
        "# Número de iteraciones que corrió el modelo hasta llegar al óptimo\n",
        "km.n_iter_"
      ]
    },
    {
      "cell_type": "code",
      "execution_count": null,
      "metadata": {
        "colab": {
          "base_uri": "https://localhost:8080/",
          "height": 565
        },
        "id": "jij34Xrawdms",
        "outputId": "6dd2ee57-25ad-4e1c-88f6-b569d5f65222"
      },
      "outputs": [
        {
          "data": {
            "text/plain": [
              "<matplotlib.legend.Legend at 0x7efd47b13898>"
            ]
          },
          "execution_count": 2744,
          "metadata": {
            "tags": []
          },
          "output_type": "execute_result"
        },
        {
          "data": {
            "image/png": "[encoded data removed]",
            "text/plain": [
              "<Figure size 640x640 with 1 Axes>"
            ]
          },
          "metadata": {
            "needs_background": "light",
            "tags": []
          },
          "output_type": "display_data"
        }
      ],
      "source": [
        "#Guardamos cada Cluster en un DataFrame por separado de la manera:\n",
        "# dfx = DataFrame[DataFrame.cluster==x]\n",
        "df1 = DataFrame[DataFrame.cluster==0]\n",
        "df2 = DataFrame[DataFrame.cluster==1]\n",
        "df3 = DataFrame[DataFrame.cluster==2]\n",
        "\n",
        "plt.figure(figsize=(8, 8), dpi=80) # Creamos una figura para visualizar los puntos\n",
        "\n",
        "# Graficamos cada uno de los DataFrame creados anteriormente con la función de dispersion plt.scatter y le asignamos un color a cada uno, de la siguiente manera:\n",
        "# plt.scatter(dfx[Columna1], dfx[Columna2], color = 'color', label = 'x' )\n",
        "plt.scatter(df1['Annual Income (k$)'],df1['Spending Score (1-100)'],color='green', label='0')\n",
        "plt.scatter(df2['Annual Income (k$)'],df2['Spending Score (1-100)'],color='red', label='1')\n",
        "plt.scatter(df3['Annual Income (k$)'],df3['Spending Score (1-100)'],color='black', label='2')\n",
        "\n",
        "\n",
        "# Incoporamos a nuestro gráfico a partir de la misma función de dispersion anterior los cluster centers que llamamos anteriormente\n",
        "plt.scatter(km.cluster_centers_[:,0],km.cluster_centers_[:,1],color='purple',marker='*',label='centroid', s=200)\n",
        "\n",
        "plt.xlabel('Annual Income (k$)') # Definimos \"Annual Income (k$)\" como nuestro eje x\n",
        "plt.ylabel('Spending Score (1-100)') # Definimos \"Spending Score (1-100)\" como nuestro eje y\n",
        "\n",
        "# Llamamos a nuestra leyenda(gráfico)\n",
        "plt.legend()"
      ]
    },
    {
      "cell_type": "code",
      "execution_count": null,
      "metadata": {
        "colab": {
          "base_uri": "https://localhost:8080/"
        },
        "id": "cEDtqM4Nwdms",
        "outputId": "5c559052-54fa-407d-a761-63a6a437bf87"
      },
      "outputs": [
        {
          "data": {
            "text/plain": [
              "9.058985215159453"
            ]
          },
          "execution_count": 2745,
          "metadata": {
            "tags": []
          },
          "output_type": "execute_result"
        }
      ],
      "source": [
        "#SSE\n",
        "km.inertia_ "
      ]
    },
    {
      "cell_type": "markdown",
      "metadata": {
        "id": "4rM2LlCe1xk8"
      },
      "source": [
        "###### Interpretación\n",
        "**Pondré una imagen de los Cluster que visualizé  con el fin de no confundir los colores y dar una mejor interpretación**"
      ]
    },
    {
      "cell_type": "markdown",
      "metadata": {
        "id": "9wJJbjaDrlZl"
      },
      "source": [
        "![Spending vs Anual K3](https://i.imgur.com/W2wt1qw.png)"
      ]
    },
    {
      "cell_type": "markdown",
      "metadata": {
        "id": "4Duy5tT2wdms"
      },
      "source": [
        "En esta distribución de los clusterings, la distancia a los centros de masas es bastante grande, de hecho esperaba que se generaran grupos de altos gastos, gastos medios y gastos bajos, pero en esta configuración, no se puede definir un grupo similar, y que sean distintos entre si. Por ejemplo, en el cluster verde, podriamos definir a los que gastan mucho y ganan poco, pero también en ese mismo grupo hay varios que ganan poco y tienen un gasto medio, lo que nos llevaria a una contradicción."
      ]
    },
    {
      "cell_type": "markdown",
      "metadata": {
        "id": "FEoCG5X6YiOF"
      },
      "source": [
        "##### Cluster K = 5 Spending Score & Annual Income"
      ]
    },
    {
      "cell_type": "code",
      "execution_count": null,
      "metadata": {
        "colab": {
          "base_uri": "https://localhost:8080/"
        },
        "id": "8QmQ3DOF6sBx",
        "outputId": "a586c9bd-7a19-43dc-f984-dae9f6495188"
      },
      "outputs": [
        {
          "data": {
            "text/plain": [
              "array([4, 3, 4, 3, 4, 3, 4, 3, 4, 3, 4, 3, 4, 3, 4, 3, 4, 3, 4, 3, 4, 3,\n",
              "       4, 3, 4, 3, 4, 3, 4, 3, 4, 3, 4, 3, 4, 3, 4, 3, 4, 3, 4, 3, 4, 1,\n",
              "       4, 3, 1, 1, 1, 1, 1, 1, 1, 1, 1, 1, 1, 1, 1, 1, 1, 1, 1, 1, 1, 1,\n",
              "       1, 1, 1, 1, 1, 1, 1, 1, 1, 1, 1, 1, 1, 1, 1, 1, 1, 1, 1, 1, 1, 1,\n",
              "       1, 1, 1, 1, 1, 1, 1, 1, 1, 1, 1, 1, 1, 1, 1, 1, 1, 1, 1, 1, 1, 1,\n",
              "       1, 1, 1, 1, 1, 1, 1, 1, 1, 1, 1, 1, 1, 0, 2, 0, 1, 0, 2, 0, 2, 0,\n",
              "       1, 0, 2, 0, 2, 0, 2, 0, 2, 0, 1, 0, 2, 0, 2, 0, 2, 0, 2, 0, 2, 0,\n",
              "       2, 0, 2, 0, 2, 0, 2, 0, 2, 0, 2, 0, 2, 0, 2, 0, 2, 0, 2, 0, 2, 0,\n",
              "       2, 0, 2, 0, 2, 0, 2, 0, 2, 0, 2, 0, 2, 0, 2, 0, 2, 0, 2, 0, 2, 0,\n",
              "       2, 0], dtype=int32)"
            ]
          },
          "execution_count": 2746,
          "metadata": {
            "tags": []
          },
          "output_type": "execute_result"
        }
      ],
      "source": [
        "km = KMeans(n_clusters=5,n_init=10) # Guardamos el modelo K Means en nuestra variable km, donde elegimos un K = 5 y un n_init = 10 ya que nuestro DataFrame cuenta solamente con 200 filas por lo que no necesitaremos un n_init más pequeño(Ya que contamos con un \"buen computador\")  y tampoco un n_init tan grande, porque los 5 conjuntos están bien definidos.\n",
        "#Ajustamos y predecimos, todo con el comando fit_predict\n",
        "y_predicted = km.fit_predict(DataFrame[['Annual Income (k$)','Spending Score (1-100)']]) # Guardamos nuestros centro de cluster y predicciones de indice de cluster para nuestras variables en y_predicted\n",
        "y_predicted # Llamamos a y_predicted para visualizar como fueron predecidos los indices de clusters\n"
      ]
    },
    {
      "cell_type": "code",
      "execution_count": null,
      "metadata": {
        "colab": {
          "base_uri": "https://localhost:8080/",
          "height": 404
        },
        "id": "VHSgnCMlyekx",
        "outputId": "6d8904e2-34b2-4c12-92bf-13a14fb852e7"
      },
      "outputs": [
        {
          "data": {
            "text/html": [
              "<div>\n",
              "<style scoped>\n",
              "    .dataframe tbody tr th:only-of-type {\n",
              "        vertical-align: middle;\n",
              "    }\n",
              "\n",
              "    .dataframe tbody tr th {\n",
              "        vertical-align: top;\n",
              "    }\n",
              "\n",
              "    .dataframe thead th {\n",
              "        text-align: right;\n",
              "    }\n",
              "</style>\n",
              "<table border=\"1\" class=\"dataframe\">\n",
              "  <thead>\n",
              "    <tr style=\"text-align: right;\">\n",
              "      <th></th>\n",
              "      <th>CustomerID</th>\n",
              "      <th>Gender</th>\n",
              "      <th>Age</th>\n",
              "      <th>Annual Income (k$)</th>\n",
              "      <th>Spending Score (1-100)</th>\n",
              "      <th>cluster</th>\n",
              "    </tr>\n",
              "  </thead>\n",
              "  <tbody>\n",
              "    <tr>\n",
              "      <th>0</th>\n",
              "      <td>1</td>\n",
              "      <td>1.0</td>\n",
              "      <td>0.019231</td>\n",
              "      <td>0.000000</td>\n",
              "      <td>0.387755</td>\n",
              "      <td>4</td>\n",
              "    </tr>\n",
              "    <tr>\n",
              "      <th>1</th>\n",
              "      <td>2</td>\n",
              "      <td>1.0</td>\n",
              "      <td>0.057692</td>\n",
              "      <td>0.000000</td>\n",
              "      <td>0.816327</td>\n",
              "      <td>3</td>\n",
              "    </tr>\n",
              "    <tr>\n",
              "      <th>2</th>\n",
              "      <td>3</td>\n",
              "      <td>0.0</td>\n",
              "      <td>0.038462</td>\n",
              "      <td>0.008197</td>\n",
              "      <td>0.051020</td>\n",
              "      <td>4</td>\n",
              "    </tr>\n",
              "    <tr>\n",
              "      <th>3</th>\n",
              "      <td>4</td>\n",
              "      <td>0.0</td>\n",
              "      <td>0.096154</td>\n",
              "      <td>0.008197</td>\n",
              "      <td>0.775510</td>\n",
              "      <td>3</td>\n",
              "    </tr>\n",
              "    <tr>\n",
              "      <th>4</th>\n",
              "      <td>5</td>\n",
              "      <td>0.0</td>\n",
              "      <td>0.250000</td>\n",
              "      <td>0.016393</td>\n",
              "      <td>0.397959</td>\n",
              "      <td>4</td>\n",
              "    </tr>\n",
              "    <tr>\n",
              "      <th>...</th>\n",
              "      <td>...</td>\n",
              "      <td>...</td>\n",
              "      <td>...</td>\n",
              "      <td>...</td>\n",
              "      <td>...</td>\n",
              "      <td>...</td>\n",
              "    </tr>\n",
              "    <tr>\n",
              "      <th>195</th>\n",
              "      <td>196</td>\n",
              "      <td>0.0</td>\n",
              "      <td>0.326923</td>\n",
              "      <td>0.860656</td>\n",
              "      <td>0.795918</td>\n",
              "      <td>0</td>\n",
              "    </tr>\n",
              "    <tr>\n",
              "      <th>196</th>\n",
              "      <td>197</td>\n",
              "      <td>0.0</td>\n",
              "      <td>0.519231</td>\n",
              "      <td>0.909836</td>\n",
              "      <td>0.275510</td>\n",
              "      <td>2</td>\n",
              "    </tr>\n",
              "    <tr>\n",
              "      <th>197</th>\n",
              "      <td>198</td>\n",
              "      <td>1.0</td>\n",
              "      <td>0.269231</td>\n",
              "      <td>0.909836</td>\n",
              "      <td>0.744898</td>\n",
              "      <td>0</td>\n",
              "    </tr>\n",
              "    <tr>\n",
              "      <th>198</th>\n",
              "      <td>199</td>\n",
              "      <td>1.0</td>\n",
              "      <td>0.269231</td>\n",
              "      <td>1.000000</td>\n",
              "      <td>0.173469</td>\n",
              "      <td>2</td>\n",
              "    </tr>\n",
              "    <tr>\n",
              "      <th>199</th>\n",
              "      <td>200</td>\n",
              "      <td>1.0</td>\n",
              "      <td>0.230769</td>\n",
              "      <td>1.000000</td>\n",
              "      <td>0.836735</td>\n",
              "      <td>0</td>\n",
              "    </tr>\n",
              "  </tbody>\n",
              "</table>\n",
              "<p>200 rows × 6 columns</p>\n",
              "</div>"
            ],
            "text/plain": [
              "     CustomerID  Gender  ...  Spending Score (1-100)  cluster\n",
              "0             1     1.0  ...                0.387755        4\n",
              "1             2     1.0  ...                0.816327        3\n",
              "2             3     0.0  ...                0.051020        4\n",
              "3             4     0.0  ...                0.775510        3\n",
              "4             5     0.0  ...                0.397959        4\n",
              "..          ...     ...  ...                     ...      ...\n",
              "195         196     0.0  ...                0.795918        0\n",
              "196         197     0.0  ...                0.275510        2\n",
              "197         198     1.0  ...                0.744898        0\n",
              "198         199     1.0  ...                0.173469        2\n",
              "199         200     1.0  ...                0.836735        0\n",
              "\n",
              "[200 rows x 6 columns]"
            ]
          },
          "execution_count": 2747,
          "metadata": {
            "tags": []
          },
          "output_type": "execute_result"
        }
      ],
      "source": [
        "DataFrame['cluster']=y_predicted # Añadimos los indices de clusters que predecimos a nuestro DataFrame como la columna \"Clusters\"\n",
        "DataFrame # Llamamos a nuestro DataFrame para visualizar como queda al agregar nuestros indices de clusters"
      ]
    },
    {
      "cell_type": "code",
      "execution_count": null,
      "metadata": {
        "colab": {
          "base_uri": "https://localhost:8080/"
        },
        "id": "95BZq-EvzW8q",
        "outputId": "c315ea9e-26df-49e8-e005-5088e81eb7fc"
      },
      "outputs": [
        {
          "data": {
            "text/plain": [
              "array([[0.58638083, 0.82783883],\n",
              "       [0.33029751, 0.49508692],\n",
              "       [0.6       , 0.16443149],\n",
              "       [0.08792846, 0.79962894],\n",
              "       [0.09265859, 0.20319432]])"
            ]
          },
          "execution_count": 2748,
          "metadata": {
            "tags": []
          },
          "output_type": "execute_result"
        }
      ],
      "source": [
        "km.cluster_centers_ # A través de .cluster_centers llamamos a nuestro modelo que guardamos en la variable \"km\" y le pedimos que nos muestra las coordenadas(X,Y) de estos"
      ]
    },
    {
      "cell_type": "markdown",
      "metadata": {
        "id": "angnoq3je18y"
      },
      "source": [
        "De aquí podemos interpretar que nuestros clusters center están bien definidos ya que el número de puntos es igual al valor de K-means que le asignamos a este ajuste(5)"
      ]
    },
    {
      "cell_type": "code",
      "execution_count": null,
      "metadata": {
        "colab": {
          "base_uri": "https://localhost:8080/"
        },
        "id": "2QmnD3-vgNaG",
        "outputId": "ff55ddaa-b156-49f3-da01-4498ba02cda3"
      },
      "outputs": [
        {
          "data": {
            "text/plain": [
              "4"
            ]
          },
          "execution_count": 2749,
          "metadata": {
            "tags": []
          },
          "output_type": "execute_result"
        }
      ],
      "source": [
        "# Número de iteraciones que corrió el modelo hasta llegar al óptimo\n",
        "km.n_iter_"
      ]
    },
    {
      "cell_type": "code",
      "execution_count": null,
      "metadata": {
        "colab": {
          "base_uri": "https://localhost:8080/",
          "height": 565
        },
        "id": "XPkOE5oUzrQg",
        "outputId": "896b3ef7-2eec-482e-e799-c22d66286b94"
      },
      "outputs": [
        {
          "data": {
            "text/plain": [
              "<matplotlib.legend.Legend at 0x7efd4523bf60>"
            ]
          },
          "execution_count": 2750,
          "metadata": {
            "tags": []
          },
          "output_type": "execute_result"
        },
        {
          "data": {
            "image/png": "[encoded data removed]",
            "text/plain": [
              "<Figure size 640x640 with 1 Axes>"
            ]
          },
          "metadata": {
            "needs_background": "light",
            "tags": []
          },
          "output_type": "display_data"
        }
      ],
      "source": [
        "#Guardamos cada Cluster en un DataFrame por separado de la manera:\n",
        "# dfx = DataFrame[DataFrame.cluster==x]\n",
        "df1 = DataFrame[DataFrame.cluster==0]\n",
        "df2 = DataFrame[DataFrame.cluster==1]\n",
        "df3 = DataFrame[DataFrame.cluster==2]\n",
        "df4 = DataFrame[DataFrame.cluster==3]\n",
        "df5 = DataFrame[DataFrame.cluster==4]\n",
        "\n",
        "plt.figure(figsize=(8, 8), dpi=80) # Creamos una figura para visualizar los puntos\n",
        "\n",
        "# Graficamos cada uno de los DataFrame creados anteriormente con la función de dispersion plt.scatter y le asignamos un color a cada uno, de la siguiente manera:\n",
        "# plt.scatter(dfx[Columna1], dfx[Columna2], color = 'color', label = 'x' )\n",
        "plt.scatter(df1['Annual Income (k$)'],df1['Spending Score (1-100)'],color='green', label='0')\n",
        "plt.scatter(df2['Annual Income (k$)'],df2['Spending Score (1-100)'],color='red', label='1')\n",
        "plt.scatter(df3['Annual Income (k$)'],df3['Spending Score (1-100)'],color='black', label='2')\n",
        "plt.scatter(df4['Annual Income (k$)'],df4['Spending Score (1-100)'],color='blue', label='3')\n",
        "plt.scatter(df5['Annual Income (k$)'],df5['Spending Score (1-100)'],color='yellow', label='4')\n",
        "\n",
        "# Incoporamos a nuestro gráfico a partir de la misma función de dispersion anterior los cluster centers que llamamos anteriormente\n",
        "plt.scatter(km.cluster_centers_[:,0],km.cluster_centers_[:,1],color='purple',marker='*',label='centroid', s=200)\n",
        "\n",
        "plt.xlabel('Annual Income (k$)') # Definimos \"Annual Income (k$)\" como nuestro eje x\n",
        "plt.ylabel('Spending Score (1-100)') # Definimos \"Spending Score (1-100)\" como nuestro eje y\n",
        "plt.legend() # Llamamos a nuestra leyenda(gráfico)"
      ]
    },
    {
      "cell_type": "code",
      "execution_count": null,
      "metadata": {
        "colab": {
          "base_uri": "https://localhost:8080/"
        },
        "id": "JeVycpAigCMv",
        "outputId": "2ffe3f35-6111-49c6-ed6f-8f71f965f631"
      },
      "outputs": [
        {
          "data": {
            "text/plain": [
              "3.5831179059525606"
            ]
          },
          "execution_count": 2751,
          "metadata": {
            "tags": []
          },
          "output_type": "execute_result"
        }
      ],
      "source": [
        "#SSE\n",
        "km.inertia_ "
      ]
    },
    {
      "cell_type": "markdown",
      "metadata": {
        "id": "b9AmorVL12Z9"
      },
      "source": [
        "###### Interpretación\n",
        "**Pondré una imagen de los Cluster que visualizé  con el fin de no confundir los colores y dar una mejor interpretación**"
      ]
    },
    {
      "cell_type": "markdown",
      "metadata": {
        "id": "5CWN6SAnp6WY"
      },
      "source": [
        "![Spending vs Annual K5](https://i.imgur.com/4tvSp96.png)"
      ]
    },
    {
      "cell_type": "markdown",
      "metadata": {
        "id": "yVAcI4zJqorG"
      },
      "source": [
        "En esta configuración, se tiene un error más bajo, y podemos definir 5 grupos similares entre sí y que son diferentes a los demas:\n",
        "* Cluster amarillo : Clientes con bajos ingresos anuales y pocos porcentaje de gasto \n",
        "* Cluster negro : Clientes con bajos ingresos anuales y bajos porcentaje de gasto \n",
        "* Cluster verde : Clientes con un ingreso anual alto y porcentaje de gasto  alto\n",
        "* Cluster azul : Clientes con pocos ingresos anuales y altos porcentaje de gasto \n",
        "* Cluster rojo : Clientes con medios ingresos anuales y medios porcentaje de gasto "
      ]
    },
    {
      "cell_type": "markdown",
      "metadata": {
        "id": "Ic1_aCmsY7e_"
      },
      "source": [
        "##### Cluster K = 8 Spending Score & Annual Income"
      ]
    },
    {
      "cell_type": "code",
      "execution_count": null,
      "metadata": {
        "colab": {
          "base_uri": "https://localhost:8080/"
        },
        "id": "IwauE-4JnkmK",
        "outputId": "77c5ff2d-399f-496a-8721-7dc4f818048e"
      },
      "outputs": [
        {
          "data": {
            "text/plain": [
              "array([3, 4, 3, 4, 3, 4, 3, 4, 3, 4, 3, 4, 3, 4, 3, 4, 3, 4, 3, 4, 3, 4,\n",
              "       3, 4, 3, 4, 3, 0, 3, 4, 3, 4, 3, 4, 3, 4, 3, 4, 3, 4, 0, 4, 0, 0,\n",
              "       3, 0, 0, 0, 0, 0, 0, 0, 0, 0, 0, 0, 0, 0, 0, 0, 0, 0, 0, 0, 0, 0,\n",
              "       0, 0, 0, 0, 0, 0, 0, 0, 7, 0, 0, 0, 0, 7, 0, 0, 7, 7, 0, 7, 0, 0,\n",
              "       0, 7, 7, 7, 7, 7, 7, 7, 7, 7, 7, 7, 7, 7, 7, 7, 7, 7, 7, 7, 7, 7,\n",
              "       7, 7, 7, 7, 7, 7, 7, 7, 7, 7, 7, 7, 7, 2, 6, 2, 7, 2, 6, 2, 6, 2,\n",
              "       7, 2, 6, 2, 6, 2, 6, 2, 6, 2, 7, 2, 6, 2, 7, 2, 6, 2, 6, 2, 6, 2,\n",
              "       6, 2, 6, 2, 6, 2, 7, 2, 6, 2, 6, 2, 6, 2, 6, 2, 6, 2, 6, 2, 6, 2,\n",
              "       6, 2, 6, 5, 1, 5, 1, 5, 1, 5, 1, 5, 1, 5, 1, 5, 1, 5, 1, 5, 1, 5,\n",
              "       1, 5], dtype=int32)"
            ]
          },
          "execution_count": 2752,
          "metadata": {
            "tags": []
          },
          "output_type": "execute_result"
        }
      ],
      "source": [
        "#Tenemos que tomar en cuenta que el modelo ya se encuentra normalizado\n",
        "\n",
        "km = KMeans(n_clusters=8,n_init=10) # Guardamos el modelo K Means en nuestra variable km, donde elegimos un K = 5 y un n_init = 10 ya que nuestro DataFrame cuenta solamente con 200 filas por lo que no necesitaremos un n_init más pequeño(Ya que contamos con un \"buen computador\")  y tampoco un n_init tan grande, porque los 5 conjuntos están bien definidos.\n",
        "\n",
        "#Ajustamos y predecimos, todo con el comando fit_predict\n",
        "y_predicted = km.fit_predict(DataFrame[['Annual Income (k$)','Spending Score (1-100)']]) # # Guardamos nuestros centro de cluster y predicciones de indice de cluster para nuestras variables en y_predicted\n",
        "\n",
        "#Visualizamos los cluster creados\n",
        "y_predicted\n"
      ]
    },
    {
      "cell_type": "code",
      "execution_count": null,
      "metadata": {
        "colab": {
          "base_uri": "https://localhost:8080/",
          "height": 196
        },
        "id": "_K9MAkNRnkX-",
        "outputId": "667195ad-f103-4930-e388-c2cddff03d6e"
      },
      "outputs": [
        {
          "data": {
            "text/html": [
              "<div>\n",
              "<style scoped>\n",
              "    .dataframe tbody tr th:only-of-type {\n",
              "        vertical-align: middle;\n",
              "    }\n",
              "\n",
              "    .dataframe tbody tr th {\n",
              "        vertical-align: top;\n",
              "    }\n",
              "\n",
              "    .dataframe thead th {\n",
              "        text-align: right;\n",
              "    }\n",
              "</style>\n",
              "<table border=\"1\" class=\"dataframe\">\n",
              "  <thead>\n",
              "    <tr style=\"text-align: right;\">\n",
              "      <th></th>\n",
              "      <th>CustomerID</th>\n",
              "      <th>Gender</th>\n",
              "      <th>Age</th>\n",
              "      <th>Annual Income (k$)</th>\n",
              "      <th>Spending Score (1-100)</th>\n",
              "      <th>cluster</th>\n",
              "    </tr>\n",
              "  </thead>\n",
              "  <tbody>\n",
              "    <tr>\n",
              "      <th>0</th>\n",
              "      <td>1</td>\n",
              "      <td>1.0</td>\n",
              "      <td>0.019231</td>\n",
              "      <td>0.000000</td>\n",
              "      <td>0.387755</td>\n",
              "      <td>3</td>\n",
              "    </tr>\n",
              "    <tr>\n",
              "      <th>1</th>\n",
              "      <td>2</td>\n",
              "      <td>1.0</td>\n",
              "      <td>0.057692</td>\n",
              "      <td>0.000000</td>\n",
              "      <td>0.816327</td>\n",
              "      <td>4</td>\n",
              "    </tr>\n",
              "    <tr>\n",
              "      <th>2</th>\n",
              "      <td>3</td>\n",
              "      <td>0.0</td>\n",
              "      <td>0.038462</td>\n",
              "      <td>0.008197</td>\n",
              "      <td>0.051020</td>\n",
              "      <td>3</td>\n",
              "    </tr>\n",
              "    <tr>\n",
              "      <th>3</th>\n",
              "      <td>4</td>\n",
              "      <td>0.0</td>\n",
              "      <td>0.096154</td>\n",
              "      <td>0.008197</td>\n",
              "      <td>0.775510</td>\n",
              "      <td>4</td>\n",
              "    </tr>\n",
              "    <tr>\n",
              "      <th>4</th>\n",
              "      <td>5</td>\n",
              "      <td>0.0</td>\n",
              "      <td>0.250000</td>\n",
              "      <td>0.016393</td>\n",
              "      <td>0.397959</td>\n",
              "      <td>3</td>\n",
              "    </tr>\n",
              "  </tbody>\n",
              "</table>\n",
              "</div>"
            ],
            "text/plain": [
              "   CustomerID  Gender  ...  Spending Score (1-100)  cluster\n",
              "0           1     1.0  ...                0.387755        3\n",
              "1           2     1.0  ...                0.816327        4\n",
              "2           3     0.0  ...                0.051020        3\n",
              "3           4     0.0  ...                0.775510        4\n",
              "4           5     0.0  ...                0.397959        3\n",
              "\n",
              "[5 rows x 6 columns]"
            ]
          },
          "execution_count": 2753,
          "metadata": {
            "tags": []
          },
          "output_type": "execute_result"
        }
      ],
      "source": [
        "DataFrame['cluster']=y_predicted # Añadimos los indices de clusters que predecimos a nuestro DataFrame como la columna \"Clusters\"\n",
        "DataFrame.head() # Llamamos a nuestro DataFrame para visualizar como queda al agregar nuestros indices de clusters"
      ]
    },
    {
      "cell_type": "code",
      "execution_count": null,
      "metadata": {
        "colab": {
          "base_uri": "https://localhost:8080/"
        },
        "id": "P2N9-rBJoOw3",
        "outputId": "e10c5a53-f7bf-4bde-d54c-a3e03f0a9a86"
      },
      "outputs": [
        {
          "data": {
            "text/plain": [
              "array([[0.25848265, 0.51898434],\n",
              "       [0.77622951, 0.21428571],\n",
              "       [0.51668618, 0.82543732],\n",
              "       [0.08313817, 0.18901846],\n",
              "       [0.08155738, 0.81632653],\n",
              "       [0.76378539, 0.83395176],\n",
              "       [0.53064861, 0.12644188],\n",
              "       [0.39456036, 0.46498145]])"
            ]
          },
          "execution_count": 2754,
          "metadata": {
            "tags": []
          },
          "output_type": "execute_result"
        }
      ],
      "source": [
        "# A través de .cluster_centers llamamos a nuestro modelo que guardamos en la variable \"km\" y le pedimos que nos muestra las coordenadas(X,Y) de estos\n",
        "km.cluster_centers_ "
      ]
    },
    {
      "cell_type": "markdown",
      "metadata": {
        "id": "Yk4L7D6RoPTG"
      },
      "source": [
        "De aquí podemos interpretar que nuestros clusters center están bien definidos ya que el número de puntos es igual al valor de K-means que le asignamos a este ajuste(8)"
      ]
    },
    {
      "cell_type": "code",
      "execution_count": null,
      "metadata": {
        "colab": {
          "base_uri": "https://localhost:8080/"
        },
        "id": "nk0XKzNsoPsT",
        "outputId": "9c7b87ef-69bd-4507-9792-628c9ad4382e"
      },
      "outputs": [
        {
          "data": {
            "text/plain": [
              "7"
            ]
          },
          "execution_count": 2755,
          "metadata": {
            "tags": []
          },
          "output_type": "execute_result"
        }
      ],
      "source": [
        "# Número de iteraciones que corrió el modelo hasta llegar al óptimo\n",
        "km.n_iter_"
      ]
    },
    {
      "cell_type": "code",
      "execution_count": null,
      "metadata": {
        "colab": {
          "base_uri": "https://localhost:8080/",
          "height": 565
        },
        "id": "uVFpWfs84c-c",
        "outputId": "4097d564-82ab-41cc-a74d-0ca9f98c028e"
      },
      "outputs": [
        {
          "data": {
            "text/plain": [
              "<matplotlib.legend.Legend at 0x7efd442f7320>"
            ]
          },
          "execution_count": 2756,
          "metadata": {
            "tags": []
          },
          "output_type": "execute_result"
        },
        {
          "data": {
            "image/png": "[encoded data removed]",
            "text/plain": [
              "<Figure size 640x640 with 1 Axes>"
            ]
          },
          "metadata": {
            "needs_background": "light",
            "tags": []
          },
          "output_type": "display_data"
        }
      ],
      "source": [
        "#Guardamos cada Cluster en un DataFrame por separado de la manera:\n",
        "# dfx = DataFrame[DataFrame.cluster==x]\n",
        "df1 = DataFrame[DataFrame.cluster==0]\n",
        "df2 = DataFrame[DataFrame.cluster==1]\n",
        "df3 = DataFrame[DataFrame.cluster==2]\n",
        "df4 = DataFrame[DataFrame.cluster==3]\n",
        "df5 = DataFrame[DataFrame.cluster==4]\n",
        "df6 = DataFrame[DataFrame.cluster==5]\n",
        "df7 = DataFrame[DataFrame.cluster==6]\n",
        "df8 = DataFrame[DataFrame.cluster==7]\n",
        "\n",
        "plt.figure(figsize=(8, 8), dpi=80) # Creamos una figura para visualizar los puntos\n",
        "\n",
        "# Graficamos cada uno de los DataFrame creados anteriormente con la función de dispersion plt.scatter y le asignamos un color a cada uno, de la siguiente manera:\n",
        "# plt.scatter(dfx[Columna1], dfx[Columna2], color = 'color', label = 'x' )\n",
        "plt.scatter(df1['Annual Income (k$)'],df1['Spending Score (1-100)'],color='green', label='0')\n",
        "plt.scatter(df2['Annual Income (k$)'],df2['Spending Score (1-100)'],color='red', label='1')\n",
        "plt.scatter(df3['Annual Income (k$)'],df3['Spending Score (1-100)'],color='black', label='2')\n",
        "plt.scatter(df4['Annual Income (k$)'],df4['Spending Score (1-100)'],color='blue', label='3')\n",
        "plt.scatter(df5['Annual Income (k$)'],df5['Spending Score (1-100)'],color='yellow', label='4')\n",
        "plt.scatter(df6['Annual Income (k$)'],df6['Spending Score (1-100)'],color='orange', label='5')\n",
        "plt.scatter(df7['Annual Income (k$)'],df7['Spending Score (1-100)'],color='pink', label='6')\n",
        "plt.scatter(df8['Annual Income (k$)'],df8['Spending Score (1-100)'],color='cyan', label='7')\n",
        "\n",
        "# Incoporamos a nuestro gráfico a partir de la misma función de dispersion anterior los cluster centers que llamamos anteriormente\n",
        "plt.scatter(km.cluster_centers_[:,0],km.cluster_centers_[:,1],color='purple',marker='*',label='centroid', s=200)\n",
        "\n",
        "plt.xlabel('Annual Income (k$)') # Definimos \"Annual Income (k$)\" como nuestro eje x\n",
        "plt.ylabel('Spending Score (1-100)') # Definimos \"Spending Score (1-100)\" como nuestro eje y\n",
        "\n",
        "plt.legend()# Llamamos a nuestra leyenda(gráfico)"
      ]
    },
    {
      "cell_type": "code",
      "execution_count": null,
      "metadata": {
        "colab": {
          "base_uri": "https://localhost:8080/"
        },
        "id": "s4ATVeE8tcjt",
        "outputId": "7e6e9db5-13f8-4996-ddb8-55cdf2b1c726"
      },
      "outputs": [
        {
          "data": {
            "text/plain": [
              "2.218840260984672"
            ]
          },
          "execution_count": 2757,
          "metadata": {
            "tags": []
          },
          "output_type": "execute_result"
        }
      ],
      "source": [
        "#SSE\n",
        "km.inertia_ "
      ]
    },
    {
      "cell_type": "markdown",
      "metadata": {
        "id": "BLXlL1tA15BG"
      },
      "source": [
        "###### Interpretación\n",
        "**Pondré una imagen de los Cluster que visualizé  con el fin de no confundir los colores y dar una mejor interpretación**"
      ]
    },
    {
      "cell_type": "markdown",
      "metadata": {
        "id": "eqsUXo2zqqGv"
      },
      "source": [
        "![Spending vs Annual K8](https://i.imgur.com/he94khg.png)"
      ]
    },
    {
      "cell_type": "markdown",
      "metadata": {
        "id": "cUlDd-iltdFL"
      },
      "source": [
        "En este, tenemos un error aún más bajo, pero nos topamos con un problema similar a cuando tenemos 3 clusters, y es que no se pueden diferenciar los grupos. Por ejemplo, el grupo verde esta compuesto por personas que tienen un gasto medio y un ingreso bajo, pero el grupo cyan también tiene misma definición, por lo que llegariamos a un absurdo."
      ]
    },
    {
      "cell_type": "markdown",
      "metadata": {
        "id": "VZoQFtsW7XsT"
      },
      "source": [
        "### B. Validación de modelos y conclusión de ¿qué modelo es mejor?"
      ]
    },
    {
      "cell_type": "markdown",
      "metadata": {
        "id": "8x8FvSKnrsZB"
      },
      "source": [
        "##### Validacion modelo Spending Score y Age"
      ]
    },
    {
      "cell_type": "code",
      "execution_count": null,
      "metadata": {
        "colab": {
          "base_uri": "https://localhost:8080/",
          "height": 296
        },
        "id": "93GuPQRDr_jD",
        "outputId": "85a6ada4-e2dd-4e21-86d2-308c99d897c2"
      },
      "outputs": [
        {
          "data": {
            "text/plain": [
              "[<matplotlib.lines.Line2D at 0x7efd4370ff98>]"
            ]
          },
          "execution_count": 2698,
          "metadata": {
            "tags": []
          },
          "output_type": "execute_result"
        },
        {
          "data": {
            "image/png": "[encoded data removed]",
            "text/plain": [
              "<Figure size 432x288 with 1 Axes>"
            ]
          },
          "metadata": {
            "needs_background": "light",
            "tags": []
          },
          "output_type": "display_data"
        }
      ],
      "source": [
        "#Creamos una lista para guardar nuestros valores de SSE para un diferente K\n",
        "sse = []\n",
        "\n",
        "#Creamos una lista a través de range, con la cual definiremos los posibles valores de K que estudiaremos\n",
        "k_rng = range(1,25) # Estudiaremos desde el rango K = 1 hasta el rango K = 25\n",
        "\n",
        "# Vamos a recorrer el modelo con diferentes valores de K a través de un for que correrá a través del rango definido en k_rng\n",
        "# El valor que k irá tomando será el que está en cada indice de la lista k_rng\n",
        "for k in k_rng:\n",
        "    km = KMeans(n_clusters=k, n_init=10) # Guardamos el modelo K Means en nuestra variable km y definimos a n_clusters como k\n",
        "    km.fit(DataFrame[['Age','Spending Score (1-100)']]) #Ajustamos y predecimos, todo con el comando fit_predict\n",
        "    sse.append(km.inertia_) #Vamos guardando cada valor de SSE en nuestra lista creada anteriormente\n",
        "\n",
        "#Veamos como se comportó el modelo en términos de SSE para diferentes K\n",
        "plt.xlabel('K') # Definimos nuestro eje x como \"K\"\n",
        "plt.ylabel('Sum of squared error') # Definimos nuestro eje y como \"Sum of squared error\"\n",
        "plt.plot(k_rng,sse) # Ploteamos nuestros valores de k_rng en el eje x y los valores de SSE en el eje y"
      ]
    },
    {
      "cell_type": "code",
      "execution_count": null,
      "metadata": {
        "colab": {
          "base_uri": "https://localhost:8080/"
        },
        "id": "hl6NvscysLKG",
        "outputId": "04e9582d-77de-4e04-d227-0de3731af0e7"
      },
      "outputs": [
        {
          "data": {
            "text/plain": [
              "[28.17833784431536,\n",
              " 13.337690580804237,\n",
              " 8.742042168276534,\n",
              " 6.350049379567736,\n",
              " 5.026143351352525,\n",
              " 3.7561445337632238,\n",
              " 3.2557142505630745,\n",
              " 2.7871158636793187,\n",
              " 2.4208309597782334,\n",
              " 2.0265529673523477,\n",
              " 1.788694922459917,\n",
              " 1.6317043310361408,\n",
              " 1.5223860128566709,\n",
              " 1.4154425506023025,\n",
              " 1.2926156552009203,\n",
              " 1.2060972800784868,\n",
              " 1.1096765177779777,\n",
              " 1.0670144318950254,\n",
              " 0.9685329927376587,\n",
              " 0.91701735275641,\n",
              " 0.8381464142884896,\n",
              " 0.8085889702167837,\n",
              " 0.7321348376573493,\n",
              " 0.6869157826077992]"
            ]
          },
          "execution_count": 2699,
          "metadata": {
            "tags": []
          },
          "output_type": "execute_result"
        }
      ],
      "source": [
        "sse # Llamamos a nuestro sse para ver los valores exactos que ha tomado"
      ]
    },
    {
      "cell_type": "markdown",
      "metadata": {
        "id": "LxEqBVbJun9n"
      },
      "source": [
        "Validaré mi modelo a través de un ciclo for, asi que fui viendo cómo afecta el n_cluster al error. Si consideramos la diferencia que se va generando entre los 3 primeros valores de la iteración comparado con las diferencia entre los otros valores que siguen y teniendo en cuenta la dispersión que tienen esos datos, un SSE de 8.7 es bastante aceptable, antes de seguir poniendo más k y que las distintas agrupaciones empiecen a perder el sentido."
      ]
    },
    {
      "cell_type": "markdown",
      "metadata": {
        "id": "zOdIRTLUxUpC"
      },
      "source": [
        "##### Validacion modelo Annual y Age"
      ]
    },
    {
      "cell_type": "code",
      "execution_count": null,
      "metadata": {
        "colab": {
          "base_uri": "https://localhost:8080/",
          "height": 296
        },
        "id": "GDIgb3BnxW6l",
        "outputId": "1da0f13d-aeaa-419a-e393-1231179779c4"
      },
      "outputs": [
        {
          "data": {
            "text/plain": [
              "[<matplotlib.lines.Line2D at 0x7efd4431aef0>]"
            ]
          },
          "execution_count": 2760,
          "metadata": {
            "tags": []
          },
          "output_type": "execute_result"
        },
        {
          "data": {
            "image/png": "[encoded data removed]",
            "text/plain": [
              "<Figure size 432x288 with 1 Axes>"
            ]
          },
          "metadata": {
            "needs_background": "light",
            "tags": []
          },
          "output_type": "display_data"
        }
      ],
      "source": [
        "#Creamos una lista para guardar nuestros valores de SSE para un diferente K\n",
        "sse = []\n",
        "\n",
        "#Creamos una lista a través de range, con la cual definiremos los posibles valores de K que estudiaremos\n",
        "k_rng = range(1,25) # Estudiaremos desde el rango K = 1 hasta el rango K = 25\n",
        "\n",
        "# Vamos a recorrer el modelo con diferentes valores de K a través de un for que correrá a través del rango definido en k_rng\n",
        "# El valor que k irá tomando será el que está en cada indice de la lista k_rng\n",
        "for k in k_rng:\n",
        "    km = KMeans(n_clusters=k, n_init=10) # Guardamos el modelo K Means en nuestra variable km y definimos a n_clusters como k\n",
        "    km.fit(DataFrame[['Annual Income (k$)','Age']]) #Ajustamos y predecimos, todo con el comando fit_predict\n",
        "    sse.append(km.inertia_) #Vamos guardando cada valor de SSE en nuestra lista creada anteriormente\n",
        "\n",
        "#Veamos como se comportó el modelo en términos de SSE para diferentes K\n",
        "plt.xlabel('K') # Definimos nuestro eje x como \"K\"\n",
        "plt.ylabel('Sum of squared error') # Definimos nuestro eje y como \"Sum of squared error\"\n",
        "plt.plot(k_rng,sse) # Ploteamos nuestros valores de k_rng en el eje x y los valores de SSE en el eje y"
      ]
    },
    {
      "cell_type": "code",
      "execution_count": null,
      "metadata": {
        "colab": {
          "base_uri": "https://localhost:8080/"
        },
        "id": "hU3sDAXhxwAC",
        "outputId": "d29f0b85-aa59-455b-f5ff-c907ae428b8c"
      },
      "outputs": [
        {
          "data": {
            "text/plain": [
              "[23.583906150363603,\n",
              " 13.02893842801829,\n",
              " 7.492107868586011,\n",
              " 6.079102434458096,\n",
              " 4.733714124721198,\n",
              " 3.8578918221646457,\n",
              " 3.0547174363693586,\n",
              " 2.6460376176314395,\n",
              " 2.3291765544665166,\n",
              " 2.0586457194753005,\n",
              " 1.853487599689659,\n",
              " 1.7093255113756234,\n",
              " 1.5034046997178536,\n",
              " 1.4311588767981824,\n",
              " 1.2977102248700585,\n",
              " 1.2027530220904303,\n",
              " 1.1235723832301097,\n",
              " 1.0750677584487944,\n",
              " 1.0092102934709515,\n",
              " 0.9215942134447288,\n",
              " 0.8892336296408316,\n",
              " 0.8186012805428472,\n",
              " 0.7650489167535899,\n",
              " 0.726086980868477]"
            ]
          },
          "execution_count": 2761,
          "metadata": {
            "tags": []
          },
          "output_type": "execute_result"
        }
      ],
      "source": [
        "sse # Llamamos a nuestro sse para ver los valores exactos que ha tomado"
      ]
    },
    {
      "cell_type": "markdown",
      "metadata": {
        "id": "wOrryAhyusdS"
      },
      "source": [
        "En este modelo podemos visualizar de mejor forma los grupos que se forman, que en el de Spending Score vs Age, debido a que la distribución cercana a los centros de masas es más uniforme. Por lo que si nos fijamos en el valor del error cuando mi k=4 es solo de 6.1 y considerando los clusters que se formaron, agregar más, no es necesario. "
      ]
    },
    {
      "cell_type": "markdown",
      "metadata": {
        "id": "uYkyLzguri0P"
      },
      "source": [
        "##### Validacion modelo Annual y Spending Score"
      ]
    },
    {
      "cell_type": "code",
      "execution_count": null,
      "metadata": {
        "colab": {
          "base_uri": "https://localhost:8080/",
          "height": 296
        },
        "id": "oz18IaEM2pcS",
        "outputId": "930da882-c089-4dbe-fb6e-6966f7a231fa"
      },
      "outputs": [
        {
          "data": {
            "text/plain": [
              "[<matplotlib.lines.Line2D at 0x7efd4899f128>]"
            ]
          },
          "execution_count": 2758,
          "metadata": {
            "tags": []
          },
          "output_type": "execute_result"
        },
        {
          "data": {
            "image/png": "[encoded data removed]",
            "text/plain": [
              "<Figure size 432x288 with 1 Axes>"
            ]
          },
          "metadata": {
            "needs_background": "light",
            "tags": []
          },
          "output_type": "display_data"
        }
      ],
      "source": [
        "#Creamos una lista para guardar nuestros valores de SSE para un diferente K\n",
        "sse = []\n",
        "\n",
        "#Creamos una lista a través de range, con la cual definiremos los posibles valores de K que estudiaremos\n",
        "k_rng = range(1,16) # Estudiaremos desde el rango K = 1 hasta el rango K = 15\n",
        "\n",
        "# Vamos a recorrer el modelo con diferentes valores de K a través de un for que correrá a través del rango definido en k_rng\n",
        "# El valor que k irá tomando será el que está en cada indice de la lista k_rng\n",
        "for k in k_rng:\n",
        "    km = KMeans(n_clusters=k, n_init=10) # Guardamos el modelo K Means en nuestra variable km y definimos a n_clusters como k\n",
        "    km.fit(DataFrame[['Annual Income (k$)','Spending Score (1-100)']]) #Ajustamos y predecimos, todo con el comando fit_predict\n",
        "    sse.append(km.inertia_) #Vamos guardando cada valor de SSE en nuestra lista creada anteriormente\n",
        "\n",
        "#Veamos como se comportó el modelo en términos de SSE para diferentes K\n",
        "plt.xlabel('K') # Definimos nuestro eje x como \"K\"\n",
        "plt.ylabel('Sum of squared error') # Definimos nuestro eje y como \"Sum of squared error\"\n",
        "plt.plot(k_rng,sse) # Ploteamos nuestros valores de k_rng en el eje x y los valores de SSE en el eje y "
      ]
    },
    {
      "cell_type": "code",
      "execution_count": null,
      "metadata": {
        "colab": {
          "base_uri": "https://localhost:8080/"
        },
        "id": "WYlER-5I58Kh",
        "outputId": "55f714ad-1dcc-47e2-be7e-ef7b679efd7a"
      },
      "outputs": [
        {
          "data": {
            "text/plain": [
              "[23.040720326039906,\n",
              " 13.993505283127977,\n",
              " 9.058985215159453,\n",
              " 6.110312266413655,\n",
              " 3.5831179059525606,\n",
              " 3.1003435707513756,\n",
              " 2.624103948396721,\n",
              " 2.2180573120830713,\n",
              " 1.8829387456584712,\n",
              " 1.6513444080300124,\n",
              " 1.4564146097889132,\n",
              " 1.3123134374929935,\n",
              " 1.1601326983344877,\n",
              " 1.0905821731812533,\n",
              " 0.9823741024032732]"
            ]
          },
          "execution_count": 2759,
          "metadata": {
            "tags": []
          },
          "output_type": "execute_result"
        }
      ],
      "source": [
        "sse # Llamamos a nuestro sse para ver los valores exactos que ha tomado"
      ]
    },
    {
      "cell_type": "markdown",
      "metadata": {
        "id": "nmZQzXnpyFZR"
      },
      "source": [
        "Considerando las iteraciones, podemos ver como a un K pequeño, el valor del SSE es grande comparado a los demás elementos de la lista, por eso cuando K es igual a 3 no funcionó como esperaba, en cambio, cuando el valor de K es 5, como la curva tiende a cero, hay menos error, pero si seguimos aumentando, los grupos formados dejan de tener sentido nuevamente.\n",
        "\n",
        "Pero ahora bien, cuando K es alto hay menos error, pero perdemos la identidad de cada Cluster, dandome grupos que no se pueden interpreta"
      ]
    },
    {
      "cell_type": "markdown",
      "metadata": {
        "id": "BL9pF0Yxepue"
      },
      "source": [
        "#### ¿Cuál es el mejor modelo?"
      ]
    },
    {
      "cell_type": "markdown",
      "metadata": {
        "id": "81LtvtWXjsob"
      },
      "source": [
        "Viendo las distintas opciones como spending score vs age, annual income vs age o spending score vs annual income, y sus distintas configuraciones de k, el mejor modelo es el spending score vs annual income con un k=5, esto es debido a la facilidad con la cual se le puede dar interpretación(Insight), las similitudes que tienen los datos en sus conjuntos y las diferencias que tienen con los otros grupos, además de tener un balance ideal  entre clusters y SSE, a diferencia de los otros modelos o configuración de k-means."
      ]
    },
    {
      "cell_type": "markdown",
      "metadata": {
        "id": "zpsEajABZe5Z"
      },
      "source": [
        "## Conclusion Final e Insights"
      ]
    },
    {
      "cell_type": "markdown",
      "metadata": {
        "id": "yokmjM7NQlfB"
      },
      "source": [
        "A modo de concluir este examen, presentaré los grandes hallazgos que pude fijarme, lo primero, es que a la hora de hacer clusters, es importante un análisis previo para no caer en variables que pueden entorpecer el proceso de desarrollo. También, que las suposiciones de que podríamos obtener pueden ser muy distintas a lo que realmente obtenemos con el código, ya que cuando elegí los 3 clusters, me dio grupos que no esperaba obtener, y que solo me sirvió para rechazar el modelo y preferir otro.\n",
        "\n",
        "Igualmente podemos concluir que los clusters son un modelo bastante útil, debido a que desde el punto de vista si fuéramos una empresa, empleador, publicista, etc. Hay un montón de puestos o enfoques donde estos serían útiles ya que donde necesitemos segmentar grandes bases de datos que tenemos ya sean de clientes, objetos, etc. Podemos llegar a información bastante útil que no tenemos a simple vista y el modelo ayuda a proyectar en nuestra mente y de esto podemos generar un montón de ideas para nuestros propios fines.\n",
        "Y como dije anteriormente el uso de estos es bastante flexible dependiendo del enfoque que le queramos dar.\n"
      ]
    },
    {
      "cell_type": "markdown",
      "metadata": {
        "id": "4QF3q2-4QlKK"
      },
      "source": [
        "### Aprendizajes"
      ]
    },
    {
      "cell_type": "markdown",
      "metadata": {
        "id": "U28_1U4Ob9Kv"
      },
      "source": [
        "A partir de lo aprendido en clases, pude expandir esta información, para poder analizar tablas de más de dos variables, descomponiéndolas o visualizándolas desde otra perspectiva. \n",
        "\n",
        "También integre los conocimientos de Clusters para poder generar el modelo más óptimo teniendo en cuenta la métrica que viene dada por este método y las múltiples herramientas, como  los gráficos, que podrían ser modificados para entender mejor lo que ocurre con los datos, como estrellas, colores, etc.\n",
        "\n",
        "También la importancia de tener presente los datos reales y normalizados para trabajar, ya que si hubiésemos comenzado normalizando, hubiésemos tenido problema al interpretar los datos, y si no lo hubiéramos hecho nunca, nuestros resultados no tendrían sentido. \n"
      ]
    },
    {
      "cell_type": "markdown",
      "metadata": {
        "id": "Y6tyO-K1QuCh"
      },
      "source": [
        "### Sugerencias\n",
        "* Tener presentes las distintas herramientas que entregan las librerías y poder aprovecharlas al máximo, para apreciar desde distintas perspectivas lo que se hace. \n",
        "* Creación de supociones que puedan contribuir a descartar o aceptar posibilidades\n",
        "* Descartar o cambiar variables que entreguen poca información o confundan la lectura de ellas\n",
        "* Tener en mente el objetivo que se quiere llegar y no desviarse en las herramientas\n"
      ]
    },
    {
      "cell_type": "markdown",
      "metadata": {
        "id": "rdCxfE6RQ3PZ"
      },
      "source": [
        "### Insights:"
      ]
    },
    {
      "cell_type": "markdown",
      "metadata": {
        "id": "EXTEWjoTQ9l5"
      },
      "source": [
        "#### Cluster K = 5 Spending Score & Annual Income"
      ]
    },
    {
      "cell_type": "markdown",
      "metadata": {
        "id": "3j_ySNI7n9Vw"
      },
      "source": [
        "![Grafico=5](https://i.imgur.com/YbXgiCJ.png)"
      ]
    },
    {
      "cell_type": "markdown",
      "metadata": {
        "id": "T7IqJ0H5REjN"
      },
      "source": [
        "\n",
        "Viendo la distribución dada  de nuestros clusters si fuéramos una empresa x podríamos definir a nuestro Cluster azul el grupo de High Class de nuestra empresa, debido a que son los clientes que tienen más ingresos y gastan más, también tenemos por otra parte los clientes en amarillo, que gastan más y ganan poco, así mismo, los de color verde, que son mas moderados en lo que gastan y ganan, los rojos, que ganan poco y reciben poco y los negros, que ganan harto, pero gastan poco. Con esto podriamos darle distintos enfoques a nuestra empresa, dependiendo de lo que queramos ofrecer. \n",
        "\n",
        "Por esta razón, gracias a esta asignación de Clusters, si fuesemos una empresa tipo casino buscaríamos a los clusters de arriba(Amarillos y azules) debido a que ellos son los que tienden a gastar la mayor parte de sus ingresos independiente de sus ingresos anuales, luego si fuéramos una empresa que vende un producto o un servicio de manera mensual o semestral o anual como Spotify,Netflix, etc. Nos serviría llamar la atención del cluster verde ya que son gente que no tiende a gastar mucho pero igualmente gana un ingreso moderado por lo que serían unos buenos clientes habituales, luego si fuéramos un banco o una empresa relacionada con el ahorro nos serviría el Cluster de abajo(rojo y negro)debido a que este grupo es el que tiende a ahorrar la mayor parte de sus ingresos.\n",
        "\n",
        "A modo de resumen estos son los Insights que vemos en cada grupo:\n",
        "- Grupo 0 : Se podría decir que son constantes en los pagos, llamaría atención a empresas de suscripciones temporales de no muy alto costo(Spotify,Netflix,etc.), podriamos decir que es la clase media o el cliente habitual en la mayoría de empresas.\n",
        "\n",
        "- Grupo 1 : Este grupo podriamos decir que son los \"clientes riesgosos\" para un tipo de empresa x, por ejemplo no se les aceptaría creditos, etc. Igualmente si vieramos a este grupo de un enfoque más de estado, sería un grupo que tendría mayor facilidad en distintas becas y en acceso a bonos.\n",
        "\n",
        "- Grupo 2 : Este grupo sería el enfoque de inversionistas, las compañias de seguros y bancos con tal de resguardar los capitales.\n",
        "\n",
        "- Grupo 3: A este grupo lo denominariamos como la High Class, es un grupo de enfoque ideal para empresas como casinos, propiedades, los bancos proveerían distintas tarjetas(Black,Gold,etc) a este grupo con el fin de que consuman aun más y sigan consumiendo.\n",
        "\n",
        "- Grupo 4: Grupo al que se le recomendaría ahorrar, probablemente sean consumistas, captadores todo retail  y de ofertas.\n"
      ]
    },
    {
      "cell_type": "markdown",
      "metadata": {
        "id": "rxeuS_SYxiUz"
      },
      "source": [
        " #### Clusters relacionados con Age"
      ]
    },
    {
      "cell_type": "markdown",
      "metadata": {
        "id": "HlJuMb5HxryR"
      },
      "source": [
        "Los modelos Clusters relacionados con la edad de los clientes igualmente tendrían mucho Insight, sin embargo nosotros no pudimos llegar a modelos de clara interpretacion con el DataFrame de clientes que teniamos.\n",
        "\n",
        "Pero igualmente se podrían separar los adultos que gastan más y los que gastan menos, esta separacion sería ideal para empresas de seguros de vida, afp, etc.\n",
        "\n",
        "Igualmente si vemos esto por el lado de los jovenes en nuestro DataFrame vemos que todos están arriba de los 18 años, entonces si nos enfocamos solamente en este grupo de adultos-jovenes podríamos encontrar a los que están saliendo de la universidad como grupo de enfoque ideal para los bancos por el tema de creditos o inicio de la vida laboral."
      ]
    }
  ],
  "metadata": {
    "colab": {
      "provenance": [],
      "toc_visible": true
    },
    "kernelspec": {
      "display_name": "Python 3",
      "language": "python",
      "name": "python3"
    },
    "language_info": {
      "codemirror_mode": {
        "name": "ipython",
        "version": 3
      },
      "file_extension": ".py",
      "mimetype": "text/x-python",
      "name": "python",
      "nbconvert_exporter": "python",
      "pygments_lexer": "ipython3",
      "version": "3.7.7"
    }
  },
  "nbformat": 4,
  "nbformat_minor": 0
}